{
 "cells": [
  {
   "cell_type": "code",
   "execution_count": 2,
   "metadata": {},
   "outputs": [
    {
     "data": {
      "text/html": [
       "<style>.container { width:90% !important; }</style>"
      ],
      "text/plain": [
       "<IPython.core.display.HTML object>"
      ]
     },
     "metadata": {},
     "output_type": "display_data"
    }
   ],
   "source": [
    "from IPython.core.display import display, HTML\n",
    "display(HTML(\"<style>.container { width:90% !important; }</style>\"))"
   ]
  },
  {
   "cell_type": "markdown",
   "metadata": {},
   "source": [
    "# Docker"
   ]
  },
  {
   "cell_type": "code",
   "execution_count": 111,
   "metadata": {
    "collapsed": true
   },
   "outputs": [
    {
     "name": "stdout",
     "output_type": "stream",
     "text": [
      "Deleted Containers:\r\n",
      "6ba26fef8f0ff7400993cc82e2007ca5df0fd24426b2021d36712d6263fdc1b4\r\n",
      "58deadd0fc25664306710383217e6275139927e2342970b0c9bc69dfca049934\r\n",
      "af9a3c938a5ebb673d11fe2cf440f8174105c797305f37f9ef95d682ade84417\r\n",
      "8261f1c103247fa23a32fc4035b74c15becce36a543ad0be839f14d61d315b2e\r\n",
      "015035d657d76a79daa1bea9f7cdb9650c4e25416f26674d160e5cfbef25e2fa\r\n",
      "bc663b322a1a3e5cb01a6777f04b0068f824b0b0d7f0166505a318c800fffe21\r\n",
      "\r\n",
      "Deleted Images:\r\n",
      "deleted: sha256:c6b9077a0a85fe4d1f477dc0559419811c66149b39b80b5fe922006f0e0c782e\r\n",
      "\r\n",
      "Total reclaimed space: 0B\r\n"
     ]
    }
   ],
   "source": [
    "!docker system prune -f"
   ]
  },
  {
   "cell_type": "markdown",
   "metadata": {
    "heading_collapsed": true
   },
   "source": [
    "## First containers"
   ]
  },
  {
   "cell_type": "markdown",
   "metadata": {
    "hidden": true
   },
   "source": [
    "Let's check that docker is installed"
   ]
  },
  {
   "cell_type": "code",
   "execution_count": null,
   "metadata": {
    "hidden": true
   },
   "outputs": [],
   "source": [
    "!docker version"
   ]
  },
  {
   "cell_type": "markdown",
   "metadata": {
    "hidden": true
   },
   "source": [
    "Let's run our first container:"
   ]
  },
  {
   "cell_type": "code",
   "execution_count": 4,
   "metadata": {
    "hidden": true
   },
   "outputs": [],
   "source": [
    "!docker run ubuntu"
   ]
  },
  {
   "cell_type": "markdown",
   "metadata": {
    "hidden": true
   },
   "source": [
    "That was fast! We can run a `-t`erminal within a container in `-i`nteractive mode with:"
   ]
  },
  {
   "cell_type": "code",
   "execution_count": 9,
   "metadata": {
    "hidden": true
   },
   "outputs": [
    {
     "name": "stdout",
     "output_type": "stream",
     "text": [
      "/bin/sh: -c: line 0: syntax error near unexpected token `'apt-get update''\n",
      "/bin/sh: -c: line 0: `fprintf('apt-get update') | docker run -ti ubuntu'\n"
     ]
    }
   ],
   "source": [
    "!docker run -ti ubuntu"
   ]
  },
  {
   "cell_type": "markdown",
   "metadata": {
    "hidden": true
   },
   "source": [
    "On Jupyter we can't interact with the container shell. **Let's continue on our machine**"
   ]
  },
  {
   "cell_type": "markdown",
   "metadata": {
    "hidden": true
   },
   "source": [
    "`docker run -ti ubuntu`"
   ]
  },
  {
   "cell_type": "markdown",
   "metadata": {
    "hidden": true
   },
   "source": [
    "Let's now install a package with\n",
    "\n",
    "`apt-get update && apt-get install figlet`"
   ]
  },
  {
   "cell_type": "markdown",
   "metadata": {
    "hidden": true
   },
   "source": [
    "Let's run \n",
    "\n",
    "`figlet hello`"
   ]
  },
  {
   "cell_type": "markdown",
   "metadata": {
    "hidden": true
   },
   "source": [
    "We can exit our container by `Ctrl+D` or \n",
    "\n",
    "`exit`"
   ]
  },
  {
   "cell_type": "markdown",
   "metadata": {
    "hidden": true
   },
   "source": [
    "Let's run it again"
   ]
  },
  {
   "cell_type": "markdown",
   "metadata": {
    "hidden": true
   },
   "source": [
    "`docker run -ti ubuntu`"
   ]
  },
  {
   "cell_type": "markdown",
   "metadata": {
    "hidden": true
   },
   "source": [
    "And let's try to run \n",
    "\n",
    "`figlet hello`"
   ]
  },
  {
   "cell_type": "markdown",
   "metadata": {
    "hidden": true
   },
   "source": [
    "The command is not installed because this is a fresh container."
   ]
  },
  {
   "cell_type": "markdown",
   "metadata": {
    "heading_collapsed": true
   },
   "source": [
    "## Images and Containers"
   ]
  },
  {
   "cell_type": "markdown",
   "metadata": {
    "hidden": true
   },
   "source": [
    "![container layers](img/container-layers.jpg)"
   ]
  },
  {
   "cell_type": "markdown",
   "metadata": {
    "hidden": true
   },
   "source": [
    "An **image** is a read-only filesystem.\n",
    "\n",
    "A **container** is an encapsulated set of processes, running in a read-write copy of that filesystem."
   ]
  },
  {
   "cell_type": "markdown",
   "metadata": {
    "hidden": true
   },
   "source": [
    "`docker run` starts a container from a given image"
   ]
  },
  {
   "cell_type": "markdown",
   "metadata": {
    "hidden": true
   },
   "source": [
    "There are 3 namespaces for images:\n",
    "* Official (e.g. `ubuntu`)\n",
    "* User (e.g. `jpetazzo/clock`)\n",
    "* Self-hosted (e.g. `registry.example.com:5000/my-private/image`)"
   ]
  },
  {
   "cell_type": "markdown",
   "metadata": {
    "hidden": true
   },
   "source": [
    "To see the images present on our host we can run"
   ]
  },
  {
   "cell_type": "code",
   "execution_count": 5,
   "metadata": {
    "collapsed": true,
    "hidden": true
   },
   "outputs": [
    {
     "name": "stdout",
     "output_type": "stream",
     "text": [
      "REPOSITORY                                     TAG                                        IMAGE ID            CREATED             SIZE\r\n",
      "maerskao.azurecr.io/wondercast                 sv-spark-tests-in-ci-pipeline-ee92866      dc220c8bfed6        2 days ago          5.69GB\r\n",
      "maerskao.azurecr.io/wondercast                 sv-spark-tests-in-ci-pipeline-latest       dc220c8bfed6        2 days ago          5.69GB\r\n",
      "wondercast                                     sv-spark-tests-in-ci-pipeline-ee92866      dc220c8bfed6        2 days ago          5.69GB\r\n",
      "wondercast                                     sv-spark-tests-in-ci-pipeline-latest       dc220c8bfed6        2 days ago          5.69GB\r\n",
      "slides                                         latest                                     7112a5f1c019        4 days ago          90.2MB\r\n",
      "<none>                                         <none>                                     f965ac424578        4 days ago          90.2MB\r\n",
      "<none>                                         <none>                                     d3fdef73a501        4 days ago          90.2MB\r\n",
      "slides-generator_builder                       latest                                     9e48115202e7        4 days ago          90.2MB\r\n",
      "<none>                                         <none>                                     c3958d2a15d1        4 days ago          90.2MB\r\n",
      "slides_builder                                 latest                                     6e75f87b52e0        5 days ago          71.9MB\r\n",
      "<none>                                         <none>                                     66958e70f579        5 days ago          71.9MB\r\n",
      "nginx                                          latest                                     e445ab08b2be        5 days ago          126MB\r\n",
      "ubuntu                                         latest                                     3556258649b2        5 days ago          64.2MB\r\n",
      "<none>                                         <none>                                     65deb3c26ed0        7 days ago          727MB\r\n",
      "wondercast                                     master-9f224b8                             e45c999cdebe        12 days ago         3.58GB\r\n",
      "wondercast                                     master-latest                              e45c999cdebe        12 days ago         3.58GB\r\n",
      "maerskao.azurecr.io/wondercast                 master-9f224b8                             e45c999cdebe        12 days ago         3.58GB\r\n",
      "maerskao.azurecr.io/wondercast                 master-latest                              e45c999cdebe        12 days ago         3.58GB\r\n",
      "alpine                                         latest                                     b7b28af77ffe        2 weeks ago         5.58MB\r\n",
      "r-base                                         latest                                     4e55790c88ae        2 weeks ago         642MB\r\n",
      "wondercast                                     master-24936a9                             84a2e0a5cc8f        2 weeks ago         2.9GB\r\n",
      "maerskao.azurecr.io/wondercast                 master-24936a9                             84a2e0a5cc8f        2 weeks ago         2.9GB\r\n",
      "wondercast                                     jta077-forecast-total-816161e              21635eff80f0        2 weeks ago         4.12GB\r\n",
      "wondercast                                     jta077-forecast-total-latest               21635eff80f0        2 weeks ago         4.12GB\r\n",
      "maerskao.azurecr.io/wondercast                 jta077-forecast-total-816161e              21635eff80f0        2 weeks ago         4.12GB\r\n",
      "maerskao.azurecr.io/wondercast                 jta077-forecast-total-latest               21635eff80f0        2 weeks ago         4.12GB\r\n",
      "<none>                                         <none>                                     7ceb542b68f4        3 weeks ago         1.19GB\r\n",
      "alpine                                         3.9                                        055936d39205        2 months ago        5.53MB\r\n",
      "godatadriven/pyspark                           latest                                     e96e5c2325d9        3 months ago        731MB\r\n",
      "r-base                                         3.5.2                                      880eb7da671b        4 months ago        655MB\r\n",
      "k8s.gcr.io/kube-proxy-amd64                    v1.10.11                                   7387003276ac        8 months ago        98.3MB\r\n",
      "k8s.gcr.io/kube-apiserver-amd64                v1.10.11                                   e851a7aeb6e8        8 months ago        228MB\r\n",
      "k8s.gcr.io/kube-controller-manager-amd64       v1.10.11                                   978cfa2028bf        8 months ago        151MB\r\n",
      "k8s.gcr.io/kube-scheduler-amd64                v1.10.11                                   d2c751d562c6        8 months ago        51.2MB\r\n",
      "docker/kube-compose-controller                 v0.4.12                                    02a45592fbea        10 months ago       27.8MB\r\n",
      "docker/kube-compose-api-server                 v0.4.12                                    0f92c77fa676        10 months ago       41.2MB\r\n",
      "revenueoptimisation.azurecr.io/r_alpine_base   7b792abd755f5fb7cf03bc94d7b4f8d80ae992d7   5f6527e4f41c        12 months ago       1.14GB\r\n",
      "k8s.gcr.io/etcd-amd64                          3.1.12                                     52920ad46f5b        16 months ago       193MB\r\n",
      "k8s.gcr.io/k8s-dns-dnsmasq-nanny-amd64         1.14.8                                     c2ce1ffb51ed        18 months ago       41MB\r\n",
      "k8s.gcr.io/k8s-dns-sidecar-amd64               1.14.8                                     6f7f2dc7fab5        18 months ago       42.2MB\r\n",
      "k8s.gcr.io/k8s-dns-kube-dns-amd64              1.14.8                                     80cc5ea4b547        18 months ago       50.5MB\r\n",
      "k8s.gcr.io/pause-amd64                         3.1                                        da86e6ba6ca1        19 months ago       742kB\r\n",
      "jpetazzo/clock                                 latest                                     12068b93616f        4 years ago         2.43MB\r\n"
     ]
    }
   ],
   "source": [
    "!docker images"
   ]
  },
  {
   "cell_type": "markdown",
   "metadata": {
    "heading_collapsed": true
   },
   "source": [
    "## Daemonized containers and logs"
   ]
  },
  {
   "cell_type": "markdown",
   "metadata": {
    "hidden": true
   },
   "source": [
    "Before we ran a container in interactive mode.\n",
    "\n",
    "Let's now launch one in the background with the flag `-d`aemonized"
   ]
  },
  {
   "cell_type": "code",
   "execution_count": 6,
   "metadata": {
    "hidden": true
   },
   "outputs": [
    {
     "name": "stdout",
     "output_type": "stream",
     "text": [
      "bc663b322a1a3e5cb01a6777f04b0068f824b0b0d7f0166505a318c800fffe21\r\n"
     ]
    }
   ],
   "source": [
    "!docker run -d jpetazzo/clock"
   ]
  },
  {
   "cell_type": "markdown",
   "metadata": {
    "hidden": true
   },
   "source": [
    "In the output we can see the created container ID"
   ]
  },
  {
   "cell_type": "markdown",
   "metadata": {
    "hidden": true
   },
   "source": [
    "We can list all our running containers with:"
   ]
  },
  {
   "cell_type": "code",
   "execution_count": 9,
   "metadata": {
    "hidden": true
   },
   "outputs": [
    {
     "name": "stdout",
     "output_type": "stream",
     "text": [
      "CONTAINER ID        IMAGE               COMMAND                  CREATED             STATUS              PORTS               NAMES\r\n",
      "bc663b322a1a        jpetazzo/clock      \"/bin/sh -c 'while d…\"   4 minutes ago       Up 4 minutes                            lucid_sinoussi\r\n"
     ]
    }
   ],
   "source": [
    "!docker ps"
   ]
  },
  {
   "cell_type": "markdown",
   "metadata": {
    "hidden": true
   },
   "source": [
    "We can stop containers with:"
   ]
  },
  {
   "cell_type": "code",
   "execution_count": 8,
   "metadata": {
    "hidden": true
   },
   "outputs": [
    {
     "name": "stdout",
     "output_type": "stream",
     "text": [
      "e05\r\n"
     ]
    }
   ],
   "source": [
    "!docker stop 'container_id'"
   ]
  },
  {
   "cell_type": "markdown",
   "metadata": {
    "hidden": true
   },
   "source": [
    "We can see logs with:"
   ]
  },
  {
   "cell_type": "code",
   "execution_count": 10,
   "metadata": {
    "collapsed": true,
    "hidden": true
   },
   "outputs": [
    {
     "name": "stdout",
     "output_type": "stream",
     "text": [
      "Mon Jul 29 09:40:53 UTC 2019\r\n",
      "Mon Jul 29 09:40:54 UTC 2019\r\n",
      "Mon Jul 29 09:40:55 UTC 2019\r\n",
      "Mon Jul 29 09:40:56 UTC 2019\r\n",
      "Mon Jul 29 09:40:57 UTC 2019\r\n",
      "Mon Jul 29 09:40:58 UTC 2019\r\n",
      "Mon Jul 29 09:40:59 UTC 2019\r\n",
      "Mon Jul 29 09:41:00 UTC 2019\r\n",
      "Mon Jul 29 09:41:01 UTC 2019\r\n",
      "Mon Jul 29 09:41:02 UTC 2019\r\n",
      "Mon Jul 29 09:41:03 UTC 2019\r\n",
      "Mon Jul 29 09:41:04 UTC 2019\r\n",
      "Mon Jul 29 09:41:05 UTC 2019\r\n",
      "Mon Jul 29 09:41:06 UTC 2019\r\n",
      "Mon Jul 29 09:41:07 UTC 2019\r\n",
      "Mon Jul 29 09:41:08 UTC 2019\r\n",
      "Mon Jul 29 09:41:09 UTC 2019\r\n",
      "Mon Jul 29 09:41:10 UTC 2019\r\n",
      "Mon Jul 29 09:41:11 UTC 2019\r\n",
      "Mon Jul 29 09:41:12 UTC 2019\r\n",
      "Mon Jul 29 09:41:13 UTC 2019\r\n",
      "Mon Jul 29 09:41:14 UTC 2019\r\n",
      "Mon Jul 29 09:41:15 UTC 2019\r\n",
      "Mon Jul 29 09:41:16 UTC 2019\r\n",
      "Mon Jul 29 09:41:17 UTC 2019\r\n",
      "Mon Jul 29 09:41:18 UTC 2019\r\n",
      "Mon Jul 29 09:41:19 UTC 2019\r\n",
      "Mon Jul 29 09:41:20 UTC 2019\r\n",
      "Mon Jul 29 09:41:21 UTC 2019\r\n",
      "Mon Jul 29 09:41:22 UTC 2019\r\n",
      "Mon Jul 29 09:41:23 UTC 2019\r\n",
      "Mon Jul 29 09:41:24 UTC 2019\r\n",
      "Mon Jul 29 09:41:25 UTC 2019\r\n",
      "Mon Jul 29 09:41:26 UTC 2019\r\n",
      "Mon Jul 29 09:41:27 UTC 2019\r\n",
      "Mon Jul 29 09:41:28 UTC 2019\r\n",
      "Mon Jul 29 09:41:29 UTC 2019\r\n",
      "Mon Jul 29 09:41:30 UTC 2019\r\n",
      "Mon Jul 29 09:41:31 UTC 2019\r\n",
      "Mon Jul 29 09:41:32 UTC 2019\r\n",
      "Mon Jul 29 09:41:33 UTC 2019\r\n",
      "Mon Jul 29 09:41:34 UTC 2019\r\n",
      "Mon Jul 29 09:41:35 UTC 2019\r\n",
      "Mon Jul 29 09:41:36 UTC 2019\r\n",
      "Mon Jul 29 09:41:37 UTC 2019\r\n",
      "Mon Jul 29 09:41:38 UTC 2019\r\n",
      "Mon Jul 29 09:41:39 UTC 2019\r\n",
      "Mon Jul 29 09:41:40 UTC 2019\r\n",
      "Mon Jul 29 09:41:41 UTC 2019\r\n",
      "Mon Jul 29 09:41:42 UTC 2019\r\n",
      "Mon Jul 29 09:41:43 UTC 2019\r\n",
      "Mon Jul 29 09:41:44 UTC 2019\r\n",
      "Mon Jul 29 09:41:45 UTC 2019\r\n",
      "Mon Jul 29 09:41:46 UTC 2019\r\n",
      "Mon Jul 29 09:41:47 UTC 2019\r\n",
      "Mon Jul 29 09:41:48 UTC 2019\r\n",
      "Mon Jul 29 09:41:49 UTC 2019\r\n",
      "Mon Jul 29 09:41:50 UTC 2019\r\n",
      "Mon Jul 29 09:41:51 UTC 2019\r\n",
      "Mon Jul 29 09:41:52 UTC 2019\r\n",
      "Mon Jul 29 09:41:53 UTC 2019\r\n",
      "Mon Jul 29 09:41:54 UTC 2019\r\n",
      "Mon Jul 29 09:41:55 UTC 2019\r\n",
      "Mon Jul 29 09:41:56 UTC 2019\r\n",
      "Mon Jul 29 09:41:57 UTC 2019\r\n",
      "Mon Jul 29 09:41:58 UTC 2019\r\n",
      "Mon Jul 29 09:41:59 UTC 2019\r\n",
      "Mon Jul 29 09:42:00 UTC 2019\r\n",
      "Mon Jul 29 09:42:01 UTC 2019\r\n",
      "Mon Jul 29 09:42:02 UTC 2019\r\n",
      "Mon Jul 29 09:42:03 UTC 2019\r\n",
      "Mon Jul 29 09:42:04 UTC 2019\r\n",
      "Mon Jul 29 09:42:05 UTC 2019\r\n",
      "Mon Jul 29 09:42:06 UTC 2019\r\n",
      "Mon Jul 29 09:42:07 UTC 2019\r\n",
      "Mon Jul 29 09:42:08 UTC 2019\r\n",
      "Mon Jul 29 09:42:09 UTC 2019\r\n",
      "Mon Jul 29 09:42:10 UTC 2019\r\n",
      "Mon Jul 29 09:42:11 UTC 2019\r\n",
      "Mon Jul 29 09:42:12 UTC 2019\r\n",
      "Mon Jul 29 09:42:13 UTC 2019\r\n",
      "Mon Jul 29 09:42:14 UTC 2019\r\n",
      "Mon Jul 29 09:42:15 UTC 2019\r\n",
      "Mon Jul 29 09:42:16 UTC 2019\r\n",
      "Mon Jul 29 09:42:17 UTC 2019\r\n",
      "Mon Jul 29 09:42:18 UTC 2019\r\n",
      "Mon Jul 29 09:42:19 UTC 2019\r\n",
      "Mon Jul 29 09:42:20 UTC 2019\r\n",
      "Mon Jul 29 09:42:21 UTC 2019\r\n",
      "Mon Jul 29 09:42:22 UTC 2019\r\n",
      "Mon Jul 29 09:42:23 UTC 2019\r\n",
      "Mon Jul 29 09:42:24 UTC 2019\r\n",
      "Mon Jul 29 09:42:25 UTC 2019\r\n",
      "Mon Jul 29 09:42:26 UTC 2019\r\n",
      "Mon Jul 29 09:42:27 UTC 2019\r\n",
      "Mon Jul 29 09:42:28 UTC 2019\r\n",
      "Mon Jul 29 09:42:29 UTC 2019\r\n",
      "Mon Jul 29 09:42:30 UTC 2019\r\n",
      "Mon Jul 29 09:42:31 UTC 2019\r\n",
      "Mon Jul 29 09:42:32 UTC 2019\r\n",
      "Mon Jul 29 09:42:33 UTC 2019\r\n",
      "Mon Jul 29 09:42:34 UTC 2019\r\n",
      "Mon Jul 29 09:42:35 UTC 2019\r\n",
      "Mon Jul 29 09:42:36 UTC 2019\r\n",
      "Mon Jul 29 09:42:37 UTC 2019\r\n",
      "Mon Jul 29 09:42:38 UTC 2019\r\n",
      "Mon Jul 29 09:42:39 UTC 2019\r\n",
      "Mon Jul 29 09:42:40 UTC 2019\r\n",
      "Mon Jul 29 09:42:41 UTC 2019\r\n",
      "Mon Jul 29 09:42:42 UTC 2019\r\n",
      "Mon Jul 29 09:42:43 UTC 2019\r\n",
      "Mon Jul 29 09:42:44 UTC 2019\r\n",
      "Mon Jul 29 09:42:45 UTC 2019\r\n",
      "Mon Jul 29 09:42:46 UTC 2019\r\n",
      "Mon Jul 29 09:42:47 UTC 2019\r\n",
      "Mon Jul 29 09:42:48 UTC 2019\r\n",
      "Mon Jul 29 09:42:49 UTC 2019\r\n",
      "Mon Jul 29 09:42:50 UTC 2019\r\n",
      "Mon Jul 29 09:42:51 UTC 2019\r\n",
      "Mon Jul 29 09:42:52 UTC 2019\r\n",
      "Mon Jul 29 09:42:53 UTC 2019\r\n",
      "Mon Jul 29 09:42:54 UTC 2019\r\n",
      "Mon Jul 29 09:42:55 UTC 2019\r\n",
      "Mon Jul 29 09:42:56 UTC 2019\r\n",
      "Mon Jul 29 09:42:57 UTC 2019\r\n",
      "Mon Jul 29 09:42:58 UTC 2019\r\n",
      "Mon Jul 29 09:42:59 UTC 2019\r\n",
      "Mon Jul 29 09:43:00 UTC 2019\r\n",
      "Mon Jul 29 09:43:01 UTC 2019\r\n",
      "Mon Jul 29 09:43:02 UTC 2019\r\n",
      "Mon Jul 29 09:43:03 UTC 2019\r\n",
      "Mon Jul 29 09:43:04 UTC 2019\r\n",
      "Mon Jul 29 09:43:05 UTC 2019\r\n",
      "Mon Jul 29 09:43:06 UTC 2019\r\n",
      "Mon Jul 29 09:43:07 UTC 2019\r\n",
      "Mon Jul 29 09:43:08 UTC 2019\r\n",
      "Mon Jul 29 09:43:09 UTC 2019\r\n",
      "Mon Jul 29 09:43:10 UTC 2019\r\n",
      "Mon Jul 29 09:43:11 UTC 2019\r\n",
      "Mon Jul 29 09:43:12 UTC 2019\r\n",
      "Mon Jul 29 09:43:13 UTC 2019\r\n",
      "Mon Jul 29 09:43:14 UTC 2019\r\n",
      "Mon Jul 29 09:43:15 UTC 2019\r\n",
      "Mon Jul 29 09:43:16 UTC 2019\r\n",
      "Mon Jul 29 09:43:17 UTC 2019\r\n",
      "Mon Jul 29 09:43:18 UTC 2019\r\n",
      "Mon Jul 29 09:43:19 UTC 2019\r\n",
      "Mon Jul 29 09:43:20 UTC 2019\r\n",
      "Mon Jul 29 09:43:21 UTC 2019\r\n",
      "Mon Jul 29 09:43:22 UTC 2019\r\n",
      "Mon Jul 29 09:43:23 UTC 2019\r\n",
      "Mon Jul 29 09:43:24 UTC 2019\r\n",
      "Mon Jul 29 09:43:25 UTC 2019\r\n",
      "Mon Jul 29 09:43:26 UTC 2019\r\n",
      "Mon Jul 29 09:43:27 UTC 2019\r\n",
      "Mon Jul 29 09:43:28 UTC 2019\r\n",
      "Mon Jul 29 09:43:29 UTC 2019\r\n",
      "Mon Jul 29 09:43:30 UTC 2019\r\n",
      "Mon Jul 29 09:43:31 UTC 2019\r\n",
      "Mon Jul 29 09:43:32 UTC 2019\r\n",
      "Mon Jul 29 09:43:33 UTC 2019\r\n",
      "Mon Jul 29 09:43:34 UTC 2019\r\n",
      "Mon Jul 29 09:43:35 UTC 2019\r\n",
      "Mon Jul 29 09:43:36 UTC 2019\r\n",
      "Mon Jul 29 09:43:37 UTC 2019\r\n",
      "Mon Jul 29 09:43:38 UTC 2019\r\n",
      "Mon Jul 29 09:43:39 UTC 2019\r\n",
      "Mon Jul 29 09:43:40 UTC 2019\r\n",
      "Mon Jul 29 09:43:41 UTC 2019\r\n",
      "Mon Jul 29 09:43:42 UTC 2019\r\n",
      "Mon Jul 29 09:43:43 UTC 2019\r\n",
      "Mon Jul 29 09:43:44 UTC 2019\r\n",
      "Mon Jul 29 09:43:45 UTC 2019\r\n",
      "Mon Jul 29 09:43:46 UTC 2019\r\n",
      "Mon Jul 29 09:43:47 UTC 2019\r\n",
      "Mon Jul 29 09:43:48 UTC 2019\r\n",
      "Mon Jul 29 09:43:49 UTC 2019\r\n",
      "Mon Jul 29 09:43:50 UTC 2019\r\n",
      "Mon Jul 29 09:43:51 UTC 2019\r\n",
      "Mon Jul 29 09:43:52 UTC 2019\r\n",
      "Mon Jul 29 09:43:53 UTC 2019\r\n",
      "Mon Jul 29 09:43:54 UTC 2019\r\n",
      "Mon Jul 29 09:43:55 UTC 2019\r\n",
      "Mon Jul 29 09:43:56 UTC 2019\r\n",
      "Mon Jul 29 09:43:57 UTC 2019\r\n",
      "Mon Jul 29 09:43:58 UTC 2019\r\n",
      "Mon Jul 29 09:43:59 UTC 2019\r\n",
      "Mon Jul 29 09:44:00 UTC 2019\r\n",
      "Mon Jul 29 09:44:01 UTC 2019\r\n",
      "Mon Jul 29 09:44:02 UTC 2019\r\n",
      "Mon Jul 29 09:44:03 UTC 2019\r\n",
      "Mon Jul 29 09:44:04 UTC 2019\r\n",
      "Mon Jul 29 09:44:05 UTC 2019\r\n",
      "Mon Jul 29 09:44:06 UTC 2019\r\n",
      "Mon Jul 29 09:44:07 UTC 2019\r\n",
      "Mon Jul 29 09:44:08 UTC 2019\r\n",
      "Mon Jul 29 09:44:09 UTC 2019\r\n",
      "Mon Jul 29 09:44:10 UTC 2019\r\n",
      "Mon Jul 29 09:44:11 UTC 2019\r\n",
      "Mon Jul 29 09:44:12 UTC 2019\r\n",
      "Mon Jul 29 09:44:13 UTC 2019\r\n",
      "Mon Jul 29 09:44:14 UTC 2019\r\n",
      "Mon Jul 29 09:44:15 UTC 2019\r\n",
      "Mon Jul 29 09:44:16 UTC 2019\r\n",
      "Mon Jul 29 09:44:17 UTC 2019\r\n",
      "Mon Jul 29 09:44:18 UTC 2019\r\n",
      "Mon Jul 29 09:44:19 UTC 2019\r\n",
      "Mon Jul 29 09:44:20 UTC 2019\r\n",
      "Mon Jul 29 09:44:21 UTC 2019\r\n",
      "Mon Jul 29 09:44:22 UTC 2019\r\n",
      "Mon Jul 29 09:44:23 UTC 2019\r\n",
      "Mon Jul 29 09:44:24 UTC 2019\r\n",
      "Mon Jul 29 09:44:25 UTC 2019\r\n",
      "Mon Jul 29 09:44:26 UTC 2019\r\n",
      "Mon Jul 29 09:44:27 UTC 2019\r\n",
      "Mon Jul 29 09:44:28 UTC 2019\r\n",
      "Mon Jul 29 09:44:29 UTC 2019\r\n",
      "Mon Jul 29 09:44:30 UTC 2019\r\n",
      "Mon Jul 29 09:44:31 UTC 2019\r\n",
      "Mon Jul 29 09:44:32 UTC 2019\r\n",
      "Mon Jul 29 09:44:33 UTC 2019\r\n",
      "Mon Jul 29 09:44:34 UTC 2019\r\n",
      "Mon Jul 29 09:44:35 UTC 2019\r\n",
      "Mon Jul 29 09:44:36 UTC 2019\r\n",
      "Mon Jul 29 09:44:37 UTC 2019\r\n",
      "Mon Jul 29 09:44:38 UTC 2019\r\n",
      "Mon Jul 29 09:44:39 UTC 2019\r\n",
      "Mon Jul 29 09:44:40 UTC 2019\r\n",
      "Mon Jul 29 09:44:41 UTC 2019\r\n",
      "Mon Jul 29 09:44:42 UTC 2019\r\n",
      "Mon Jul 29 09:44:43 UTC 2019\r\n",
      "Mon Jul 29 09:44:44 UTC 2019\r\n",
      "Mon Jul 29 09:44:45 UTC 2019\r\n",
      "Mon Jul 29 09:44:46 UTC 2019\r\n",
      "Mon Jul 29 09:44:47 UTC 2019\r\n",
      "Mon Jul 29 09:44:48 UTC 2019\r\n",
      "Mon Jul 29 09:44:49 UTC 2019\r\n",
      "Mon Jul 29 09:44:50 UTC 2019\r\n",
      "Mon Jul 29 09:44:51 UTC 2019\r\n",
      "Mon Jul 29 09:44:52 UTC 2019\r\n",
      "Mon Jul 29 09:44:53 UTC 2019\r\n",
      "Mon Jul 29 09:44:54 UTC 2019\r\n",
      "Mon Jul 29 09:44:55 UTC 2019\r\n",
      "Mon Jul 29 09:44:56 UTC 2019\r\n",
      "Mon Jul 29 09:44:57 UTC 2019\r\n",
      "Mon Jul 29 09:44:58 UTC 2019\r\n",
      "Mon Jul 29 09:44:59 UTC 2019\r\n",
      "Mon Jul 29 09:45:00 UTC 2019\r\n",
      "Mon Jul 29 09:45:01 UTC 2019\r\n",
      "Mon Jul 29 09:45:02 UTC 2019\r\n",
      "Mon Jul 29 09:45:03 UTC 2019\r\n",
      "Mon Jul 29 09:45:04 UTC 2019\r\n"
     ]
    }
   ],
   "source": [
    "!docker logs 'container_id'"
   ]
  },
  {
   "cell_type": "markdown",
   "metadata": {
    "hidden": true
   },
   "source": [
    "We can see the `--tail` of the logs and even `--follow` the output with:"
   ]
  },
  {
   "cell_type": "code",
   "execution_count": 12,
   "metadata": {
    "hidden": true
   },
   "outputs": [
    {
     "name": "stdout",
     "output_type": "stream",
     "text": [
      "Mon Jul 29 09:47:11 UTC 2019\n",
      "Mon Jul 29 09:47:13 UTC 2019\n",
      "Mon Jul 29 09:47:13 UTC 2019\n",
      "Mon Jul 29 09:47:15 UTC 2019\n",
      "Mon Jul 29 09:47:16 UTC 2019\n",
      "Mon Jul 29 09:47:17 UTC 2019\n",
      "Mon Jul 29 09:47:18 UTC 2019\n",
      "Mon Jul 29 09:47:19 UTC 2019\n",
      "Mon Jul 29 09:47:20 UTC 2019\n",
      "Mon Jul 29 09:47:21 UTC 2019\n",
      "^C\n"
     ]
    }
   ],
   "source": [
    "!docker logs --tail 1 --follow 'container_id'"
   ]
  },
  {
   "cell_type": "markdown",
   "metadata": {
    "hidden": true
   },
   "source": [
    "`docker stop` will exit the containers 'gracefully'.\n",
    "\n",
    "To force stop, we can:"
   ]
  },
  {
   "cell_type": "code",
   "execution_count": null,
   "metadata": {
    "hidden": true
   },
   "outputs": [],
   "source": [
    "!docker kill 'container_id'"
   ]
  },
  {
   "cell_type": "markdown",
   "metadata": {
    "hidden": true
   },
   "source": [
    "We can list `-a`ll containers with:"
   ]
  },
  {
   "cell_type": "code",
   "execution_count": 16,
   "metadata": {
    "hidden": true
   },
   "outputs": [
    {
     "name": "stdout",
     "output_type": "stream",
     "text": [
      "CONTAINER ID        IMAGE                      COMMAND                  CREATED             STATUS                        PORTS               NAMES\r\n",
      "bc663b322a1a        jpetazzo/clock             \"/bin/sh -c 'while d…\"   17 minutes ago      Up 17 minutes                                     lucid_sinoussi\r\n",
      "613d2b5537e8        godatadriven/pyspark       \"spark-submit --help\"    3 days ago          Exited (0) 3 days ago                             vigorous_agnesi\r\n",
      "8309f724d410        ubuntu                     \"/bin/bash\"              3 days ago          Exited (130) 3 days ago                           serene_lamport\r\n",
      "6d5f894457a3        ubuntu                     \"/bin/bash\"              3 days ago          Exited (127) 3 days ago                           modest_cohen\r\n",
      "6d2f9cbc3ee8        ubuntu                     \"/bin/bash\"              3 days ago          Exited (0) 3 days ago                             jolly_franklin\r\n",
      "fd64ff253be2        ubuntu                     \"/bin/bash\"              3 days ago          Exited (0) 3 days ago                             inspiring_williamson\r\n",
      "9b63f4e8b87e        ubuntu                     \"/bin/bash\"              3 days ago          Exited (0) 3 days ago                             confident_bartik\r\n",
      "77c6fc117abe        ubuntu                     \"/bin/bash\"              3 days ago          Exited (0) 3 days ago                             kind_keldysh\r\n",
      "340a2eccc7a2        ubuntu                     \"/bin/bash\"              3 days ago          Exited (0) 3 days ago                             unruffled_lederberg\r\n",
      "b8372cbc4438        ubuntu                     \"/bin/bash\"              3 days ago          Exited (0) 3 days ago                             dazzling_elgamal\r\n",
      "e059317332ff        ubuntu                     \"/bin/bash\"              3 days ago          Exited (130) 13 minutes ago                       youthful_aryabhata\r\n",
      "65abe9e341ec        slides                     \"./build.sh once\"        4 days ago          Exited (0) 4 days ago                             recursing_lewin\r\n",
      "52a49a0bcf81        f965ac424578               \"./build.sh once\"        4 days ago          Exited (0) 4 days ago                             zealous_burnell\r\n",
      "0346b8e7a3e1        d3fdef73a501               \"./build.sh once\"        4 days ago          Exited (0) 4 days ago                             fervent_poitras\r\n",
      "f2284838acc0        d3fdef73a501               \"./build.sh once\"        4 days ago          Exited (0) 4 days ago                             jovial_beaver\r\n",
      "4b441f1684da        slides-generator_builder   \"./build.sh ./build.…\"   4 days ago          Created                                           slides-generator_builder_1\r\n",
      "ca8eb989145c        6e75f87b52e0               \"./build.sh once\"        4 days ago          Created                                           ca8eb989145c_slides-generator_builder_1\r\n",
      "d6fed9e3d2ed        alpine                     \"/bin/sh\"                5 days ago          Exited (0) 5 days ago                             gracious_rubin\r\n",
      "0c594aa7eb1b        alpine                     \"/bin/sh\"                5 days ago          Exited (0) 5 days ago                             stupefied_bassi\r\n",
      "aa4ae70fff1f        alpine                     \"/bin/sh\"                5 days ago          Exited (0) 5 days ago                             blissful_liskov\r\n",
      "631dbc6fc410        alpine                     \"/bin/sh\"                5 days ago          Exited (0) 5 days ago                             relaxed_wing\r\n",
      "3825862a8fbb        alpine                     \"/bin/sh\"                5 days ago          Exited (130) 5 days ago                           musing_williamson\r\n",
      "e5b843d58d86        jpetazzo/clock             \"bash\"                   5 days ago          Created                                           pedantic_boyd\r\n",
      "b1bd6c7fd3fd        jpetazzo/clock             \"/bin/sh -c 'while d…\"   5 days ago          Exited (130) 5 days ago                           recursing_bhaskara\r\n",
      "7dc9a36145d4        jpetazzo/clock             \"-ti\"                    5 days ago          Created                                           peaceful_hofstadter\r\n",
      "8cd63daa2c15        jpetazzo/clock             \"/bin/sh -c 'while d…\"   5 days ago          Exited (0) 5 days ago                             objective_ride\r\n",
      "809c3fbd8c16        slides_builder             \"./build.sh once\"        5 days ago          Exited (0) 4 days ago                             slides_builder_1\r\n",
      "7e7f583efc28        66958e70f579               \"/bin/sh -c './build…\"   5 days ago          Exited (127) 5 days ago                           gracious_wozniak\r\n",
      "fc42fa72c178        25a9a73d89ab               \"./build.sh once\"        5 days ago          Created                                           compassionate_albattani\r\n",
      "f46f15e1ea89        nginx                      \"nginx -g 'daemon of…\"   5 days ago          Exited (137) 5 days ago                           slides_www_1\r\n",
      "a46cd7624c2e        65deb3c26ed0               \"/bin/sh -c 'tee /et…\"   7 days ago          Exited (1) 7 days ago                             nostalgic_shaw\r\n",
      "d5fac3e0937b        65deb3c26ed0               \"/bin/sh -c 'tee /et…\"   7 days ago          Exited (1) 7 days ago                             confident_pascal\r\n",
      "8e85162079c1        r-base                     \"bash\"                   7 days ago          Exited (0) 7 days ago                             relaxed_lumiere\r\n",
      "d0f3d9ec027f        r-base                     \"R\"                      7 days ago          Exited (0) 7 days ago                             fervent_turing\r\n",
      "aeb33785a3d3        d8df6963fa42               \"/bin/sh -c 'Rscript…\"   2 weeks ago         Exited (255) 2 weeks ago                          musing_ride\r\n"
     ]
    }
   ],
   "source": [
    "!docker ps -a"
   ]
  },
  {
   "cell_type": "markdown",
   "metadata": {
    "hidden": true
   },
   "source": [
    "And we can restore it with"
   ]
  },
  {
   "cell_type": "code",
   "execution_count": null,
   "metadata": {
    "hidden": true
   },
   "outputs": [],
   "source": [
    "!docker start 'container_id'"
   ]
  },
  {
   "cell_type": "markdown",
   "metadata": {
    "heading_collapsed": true
   },
   "source": [
    "## Dockerfile"
   ]
  },
  {
   "cell_type": "markdown",
   "metadata": {
    "hidden": true
   },
   "source": [
    "We can design a docker image by writing a `Dockerfile`.\n",
    "\n",
    "Let's replicate what we did before and build a `figlet` image."
   ]
  },
  {
   "cell_type": "code",
   "execution_count": 23,
   "metadata": {
    "hidden": true
   },
   "outputs": [
    {
     "name": "stdout",
     "output_type": "stream",
     "text": [
      "/Users/luca/git/containers-workshop/figlet_image\n"
     ]
    }
   ],
   "source": [
    "%cd figlet_image"
   ]
  },
  {
   "cell_type": "code",
   "execution_count": 70,
   "metadata": {
    "hidden": true
   },
   "outputs": [
    {
     "name": "stdout",
     "output_type": "stream",
     "text": [
      "FROM ubuntu\r\n",
      "RUN apt-get update\r\n",
      "RUN apt-get install figlet"
     ]
    }
   ],
   "source": [
    "!git checkout -- Dockerfile\n",
    "!cat Dockerfile"
   ]
  },
  {
   "cell_type": "markdown",
   "metadata": {
    "hidden": true
   },
   "source": [
    "`FROM` indicate the base image\n",
    "\n",
    "`RUN` executes commands during the Docker build. "
   ]
  },
  {
   "cell_type": "markdown",
   "metadata": {
    "hidden": true
   },
   "source": [
    "Let's now `build` our image.\n",
    "\n",
    "The syntax is `docker build 'building_context' -t 'tag_name'`."
   ]
  },
  {
   "cell_type": "code",
   "execution_count": 60,
   "metadata": {
    "hidden": true
   },
   "outputs": [
    {
     "name": "stdout",
     "output_type": "stream",
     "text": [
      "Sending build context to Docker daemon  2.048kB\n",
      "Step 1/3 : FROM ubuntu\n",
      " ---> 3556258649b2\n",
      "Step 2/3 : RUN apt-get update\n",
      " ---> Using cache\n",
      " ---> 8a0c8ffe9755\n",
      "Step 3/3 : RUN apt-get install figlet\n",
      " ---> Using cache\n",
      " ---> 68ef50eee796\n",
      "Successfully built 68ef50eee796\n",
      "Successfully tagged figlet:latest\n"
     ]
    }
   ],
   "source": [
    "!docker build . -t figlet"
   ]
  },
  {
   "cell_type": "markdown",
   "metadata": {
    "hidden": true
   },
   "source": [
    "In this case the building context is the directory `figlet_image` and we tagged the built image with `figlet`. \n",
    "\n",
    "Each `RUN` command is run in a container. The output of that container is saved in a new image.\n",
    "\n",
    "Let's run the image on our shell with\n",
    "\n",
    "`docker run -ti figlet`\n",
    "\n",
    "and run \n",
    "\n",
    "`figlet hello`"
   ]
  },
  {
   "cell_type": "markdown",
   "metadata": {
    "hidden": true
   },
   "source": [
    "If you build the image again it will be instantaneous:"
   ]
  },
  {
   "cell_type": "code",
   "execution_count": 27,
   "metadata": {
    "hidden": true
   },
   "outputs": [
    {
     "name": "stdout",
     "output_type": "stream",
     "text": [
      "Sending build context to Docker daemon  2.048kB\n",
      "Step 1/3 : FROM ubuntu\n",
      " ---> 3556258649b2\n",
      "Step 2/3 : RUN apt-get update\n",
      " ---> Using cache\n",
      " ---> 8a0c8ffe9755\n",
      "Step 3/3 : RUN apt-get install figlet\n",
      " ---> Using cache\n",
      " ---> 68ef50eee796\n",
      "Successfully built 68ef50eee796\n",
      "Successfully tagged figlet:latest\n"
     ]
    }
   ],
   "source": [
    "!docker build . -t figlet"
   ]
  },
  {
   "cell_type": "markdown",
   "metadata": {
    "hidden": true
   },
   "source": [
    "The intermediate images obtained by running a certain **sequence** are saved in the Docker cache.\n",
    "\n",
    "If you change a line so slightly in the Dockerfile, the cache will be broken."
   ]
  },
  {
   "cell_type": "markdown",
   "metadata": {
    "heading_collapsed": true
   },
   "source": [
    "## CMD and ENTRYPOINT"
   ]
  },
  {
   "cell_type": "markdown",
   "metadata": {
    "hidden": true
   },
   "source": [
    "We want to print a welcome message when the image is run.\n",
    "\n",
    "`CMD` defines an **overwritable** default command.\n",
    "\n",
    "Let's add to our `Dockerfile` the line\n",
    "\n",
    "`CMD figlet -f script hello`"
   ]
  },
  {
   "cell_type": "code",
   "execution_count": 61,
   "metadata": {
    "hidden": true
   },
   "outputs": [
    {
     "name": "stdout",
     "output_type": "stream",
     "text": [
      "FROM ubuntu\r\n",
      "RUN apt-get update\r\n",
      "RUN apt-get install figlet\r\n",
      "CMD figlet -f script hello\r\n"
     ]
    }
   ],
   "source": [
    "!echo '\\nCMD figlet -f script hello' >> Dockerfile\n",
    "!cat Dockerfile"
   ]
  },
  {
   "cell_type": "markdown",
   "metadata": {
    "hidden": true
   },
   "source": [
    "Let's build again and run"
   ]
  },
  {
   "cell_type": "code",
   "execution_count": 62,
   "metadata": {
    "hidden": true
   },
   "outputs": [
    {
     "name": "stdout",
     "output_type": "stream",
     "text": [
      "Sending build context to Docker daemon  2.048kB\n",
      "Step 1/4 : FROM ubuntu\n",
      " ---> 3556258649b2\n",
      "Step 2/4 : RUN apt-get update\n",
      " ---> Using cache\n",
      " ---> 8a0c8ffe9755\n",
      "Step 3/4 : RUN apt-get install figlet\n",
      " ---> Using cache\n",
      " ---> 68ef50eee796\n",
      "Step 4/4 : CMD figlet -f script hello\n",
      " ---> Using cache\n",
      " ---> c6b9077a0a85\n",
      "Successfully built c6b9077a0a85\n",
      "Successfully tagged figlet:latest\n",
      " _          _   _       \n",
      "| |        | | | |      \n",
      "| |     _  | | | |  __  \n",
      "|/ \\   |/  |/  |/  /  \\_\n",
      "|   |_/|__/|__/|__/\\__/ \n",
      "                        \n",
      "                        \n"
     ]
    }
   ],
   "source": [
    "!docker build . -t figlet\n",
    "!docker run figlet"
   ]
  },
  {
   "cell_type": "markdown",
   "metadata": {
    "hidden": true
   },
   "source": [
    "We can override the `CMD` command by specifying a command after we run the image:"
   ]
  },
  {
   "cell_type": "code",
   "execution_count": 46,
   "metadata": {
    "hidden": true
   },
   "outputs": [
    {
     "name": "stdout",
     "output_type": "stream",
     "text": [
      "\u001b[K\u001b]0;root@8261f1c10324: /\u0007root@8261f1c10324:/# ^C\n",
      "\n",
      "\u001b]0;root@8261f1c10324: /\u0007root@8261f1c10324:/# "
     ]
    }
   ],
   "source": [
    "!docker run -ti figlet bash"
   ]
  },
  {
   "cell_type": "markdown",
   "metadata": {
    "hidden": true
   },
   "source": [
    "We now want to be able to specify our own string when running the image.\n",
    "\n",
    "`ENTRYPOINT` specifies a **non-overwritable** base command.\n",
    "\n",
    "With `CMD` we can define the default parameters.\n",
    "\n",
    "Let's add the following lines to the `Dockerfile`:\n",
    "\n",
    "```\n",
    "ENTRYPOINT [\"figlet\", \"-f\", \"script\"] \n",
    "\n",
    "CMD [\"hello world\"]\n",
    "```"
   ]
  },
  {
   "cell_type": "code",
   "execution_count": 66,
   "metadata": {
    "hidden": true
   },
   "outputs": [
    {
     "name": "stdout",
     "output_type": "stream",
     "text": [
      "FROM ubuntu\r\n",
      "RUN apt-get update\r\n",
      "RUN apt-get install figlet\r\n",
      "ENTRYPOINT [\"figlet\", \"-f\", \"script\"] \r\n",
      "CMD [\"hello world\"]\r\n"
     ]
    }
   ],
   "source": [
    "!echo '\\nENTRYPOINT [\"figlet\", \"-f\", \"script\"] \\nCMD [\"hello world\"]' >> Dockerfile\n",
    "!cat Dockerfile"
   ]
  },
  {
   "cell_type": "markdown",
   "metadata": {
    "hidden": true
   },
   "source": [
    "Only the last `CMD` and `ENTRYPOINT` entries are considered."
   ]
  },
  {
   "cell_type": "code",
   "execution_count": 67,
   "metadata": {
    "hidden": true
   },
   "outputs": [
    {
     "name": "stdout",
     "output_type": "stream",
     "text": [
      "Sending build context to Docker daemon  2.048kB\n",
      "Step 1/5 : FROM ubuntu\n",
      " ---> 3556258649b2\n",
      "Step 2/5 : RUN apt-get update\n",
      " ---> Using cache\n",
      " ---> 8a0c8ffe9755\n",
      "Step 3/5 : RUN apt-get install figlet\n",
      " ---> Using cache\n",
      " ---> 68ef50eee796\n",
      "Step 4/5 : ENTRYPOINT [\"figlet\", \"-f\", \"script\"]\n",
      " ---> Using cache\n",
      " ---> 2178b6378066\n",
      "Step 5/5 : CMD [\"hello world\"]\n",
      " ---> Using cache\n",
      " ---> d3fa49b010ff\n",
      "Successfully built d3fa49b010ff\n",
      "Successfully tagged figlet:latest\n",
      " ,__ __                        _   \n",
      "/|  |  |                      | |  \n",
      " |  |  |   __,   _   ,_    ,  | |  \n",
      " |  |  |  /  |  |/  /  |  / \\_|/_) \n",
      " |  |  |_/\\_/|_/|__/   |_/ \\/ | \\_/\n",
      "                                   \n",
      "                                   \n"
     ]
    }
   ],
   "source": [
    "!docker build . -t figlet\n",
    "!docker run figlet Maersk"
   ]
  },
  {
   "cell_type": "markdown",
   "metadata": {
    "hidden": true
   },
   "source": [
    "If now we want to `--override` the entrypoint, we can do:"
   ]
  },
  {
   "cell_type": "code",
   "execution_count": 69,
   "metadata": {
    "hidden": true
   },
   "outputs": [
    {
     "name": "stdout",
     "output_type": "stream",
     "text": [
      "\u001b[K\u001b]0;root@af9a3c938a5e: /\u0007root@af9a3c938a5e:/# ^C\n",
      "\n",
      "\u001b]0;root@af9a3c938a5e: /\u0007root@af9a3c938a5e:/# "
     ]
    }
   ],
   "source": [
    "!docker run  -ti --entrypoint bash figlet"
   ]
  },
  {
   "cell_type": "markdown",
   "metadata": {
    "heading_collapsed": true
   },
   "source": [
    "## Multi-stage builds"
   ]
  },
  {
   "cell_type": "markdown",
   "metadata": {
    "hidden": true
   },
   "source": [
    "We now want to compile a C application and ship the compiled version in a container."
   ]
  },
  {
   "cell_type": "code",
   "execution_count": 71,
   "metadata": {
    "hidden": true
   },
   "outputs": [
    {
     "name": "stdout",
     "output_type": "stream",
     "text": [
      "/Users/luca/git/containers-workshop/c_image\n"
     ]
    }
   ],
   "source": [
    "%cd ../c_image"
   ]
  },
  {
   "cell_type": "code",
   "execution_count": 75,
   "metadata": {
    "hidden": true
   },
   "outputs": [
    {
     "name": "stdout",
     "output_type": "stream",
     "text": [
      "int main () {\r\n",
      "  puts(\"Hello, world!\");\r\n",
      "  return 0;\r\n",
      "}"
     ]
    }
   ],
   "source": [
    "!cat hello.c"
   ]
  },
  {
   "cell_type": "code",
   "execution_count": 93,
   "metadata": {
    "hidden": true
   },
   "outputs": [
    {
     "name": "stdout",
     "output_type": "stream",
     "text": [
      "FROM ubuntu\r\n",
      "RUN apt-get update\r\n",
      "RUN apt-get install -y build-essential\r\n",
      "COPY hello.c /\r\n",
      "RUN make hello\r\n",
      "CMD /hello"
     ]
    }
   ],
   "source": [
    "!git checkout -- Dockerfile\n",
    "!cat Dockerfile"
   ]
  },
  {
   "cell_type": "markdown",
   "metadata": {
    "hidden": true
   },
   "source": [
    "We use `ubuntu` as base image and we install `build-essential` as it includes a C compiler.\n",
    "\n",
    "When we do `RUN apt-get install` we specify `-y` to give our consent for dependencies installation since interaction is not permitted.\n",
    "\n",
    "We copy the source to the container, we compile it and we run the compiled binary."
   ]
  },
  {
   "cell_type": "code",
   "execution_count": 77,
   "metadata": {
    "hidden": true
   },
   "outputs": [
    {
     "name": "stdout",
     "output_type": "stream",
     "text": [
      "Sending build context to Docker daemon  3.072kB\n",
      "Step 1/6 : FROM ubuntu\n",
      " ---> 3556258649b2\n",
      "Step 2/6 : RUN apt-get update\n",
      " ---> Using cache\n",
      " ---> 8a0c8ffe9755\n",
      "Step 3/6 : RUN apt-get install -y build-essential\n",
      " ---> Running in 297c573a934a\n",
      "Reading package lists...\n",
      "Building dependency tree...\n",
      "Reading state information...\n",
      "The following additional packages will be installed:\n",
      "  binutils binutils-common binutils-x86-64-linux-gnu cpp cpp-7 dirmngr\n",
      "  dpkg-dev fakeroot g++ g++-7 gcc gcc-7 gcc-7-base gnupg gnupg-l10n\n",
      "  gnupg-utils gpg gpg-agent gpg-wks-client gpg-wks-server gpgconf gpgsm\n",
      "  libalgorithm-diff-perl libalgorithm-diff-xs-perl libalgorithm-merge-perl\n",
      "  libasan4 libasn1-8-heimdal libassuan0 libatomic1 libbinutils libc-dev-bin\n",
      "  libc6-dev libcc1-0 libcilkrts5 libdpkg-perl libfakeroot\n",
      "  libfile-fcntllock-perl libgcc-7-dev libgdbm-compat4 libgdbm5 libgomp1\n",
      "  libgssapi3-heimdal libhcrypto4-heimdal libheimbase1-heimdal\n",
      "  libheimntlm0-heimdal libhx509-5-heimdal libisl19 libitm1 libkrb5-26-heimdal\n",
      "  libksba8 libldap-2.4-2 libldap-common liblocale-gettext-perl liblsan0\n",
      "  libmpc3 libmpfr6 libmpx2 libnpth0 libperl5.26 libquadmath0 libreadline7\n",
      "  libroken18-heimdal libsasl2-2 libsasl2-modules libsasl2-modules-db\n",
      "  libsqlite3-0 libssl1.1 libstdc++-7-dev libtsan0 libubsan0 libwind0-heimdal\n",
      "  linux-libc-dev make manpages manpages-dev netbase patch perl\n",
      "  perl-modules-5.26 pinentry-curses readline-common xz-utils\n",
      "Suggested packages:\n",
      "  binutils-doc cpp-doc gcc-7-locales dbus-user-session libpam-systemd\n",
      "  pinentry-gnome3 tor debian-keyring g++-multilib g++-7-multilib gcc-7-doc\n",
      "  libstdc++6-7-dbg gcc-multilib autoconf automake libtool flex bison gdb\n",
      "  gcc-doc gcc-7-multilib libgcc1-dbg libgomp1-dbg libitm1-dbg libatomic1-dbg\n",
      "  libasan4-dbg liblsan0-dbg libtsan0-dbg libubsan0-dbg libcilkrts5-dbg\n",
      "  libmpx2-dbg libquadmath0-dbg parcimonie xloadimage scdaemon glibc-doc git\n",
      "  bzr gdbm-l10n libsasl2-modules-gssapi-mit | libsasl2-modules-gssapi-heimdal\n",
      "  libsasl2-modules-ldap libsasl2-modules-otp libsasl2-modules-sql\n",
      "  libstdc++-7-doc make-doc man-browser ed diffutils-doc perl-doc\n",
      "  libterm-readline-gnu-perl | libterm-readline-perl-perl pinentry-doc\n",
      "  readline-doc\n",
      "The following NEW packages will be installed:\n",
      "  binutils binutils-common binutils-x86-64-linux-gnu build-essential cpp cpp-7\n",
      "  dirmngr dpkg-dev fakeroot g++ g++-7 gcc gcc-7 gcc-7-base gnupg gnupg-l10n\n",
      "  gnupg-utils gpg gpg-agent gpg-wks-client gpg-wks-server gpgconf gpgsm\n",
      "  libalgorithm-diff-perl libalgorithm-diff-xs-perl libalgorithm-merge-perl\n",
      "  libasan4 libasn1-8-heimdal libassuan0 libatomic1 libbinutils libc-dev-bin\n",
      "  libc6-dev libcc1-0 libcilkrts5 libdpkg-perl libfakeroot\n",
      "  libfile-fcntllock-perl libgcc-7-dev libgdbm-compat4 libgdbm5 libgomp1\n",
      "  libgssapi3-heimdal libhcrypto4-heimdal libheimbase1-heimdal\n",
      "  libheimntlm0-heimdal libhx509-5-heimdal libisl19 libitm1 libkrb5-26-heimdal\n",
      "  libksba8 libldap-2.4-2 libldap-common liblocale-gettext-perl liblsan0\n",
      "  libmpc3 libmpfr6 libmpx2 libnpth0 libperl5.26 libquadmath0 libreadline7\n",
      "  libroken18-heimdal libsasl2-2 libsasl2-modules libsasl2-modules-db\n",
      "  libsqlite3-0 libssl1.1 libstdc++-7-dev libtsan0 libubsan0 libwind0-heimdal\n",
      "  linux-libc-dev make manpages manpages-dev netbase patch perl\n",
      "  perl-modules-5.26 pinentry-curses readline-common xz-utils\n",
      "0 upgraded, 83 newly installed, 0 to remove and 0 not upgraded.\n",
      "Need to get 50.5 MB of archives.\n",
      "After this operation, 221 MB of additional disk space will be used.\n",
      "Get:1 http://archive.ubuntu.com/ubuntu bionic/main amd64 liblocale-gettext-perl amd64 1.07-3build2 [16.6 kB]\n",
      "Get:2 http://archive.ubuntu.com/ubuntu bionic-updates/main amd64 perl-modules-5.26 all 5.26.1-6ubuntu0.3 [2763 kB]\n",
      "Get:3 http://archive.ubuntu.com/ubuntu bionic/main amd64 libgdbm5 amd64 1.14.1-6 [26.0 kB]\n",
      "Get:4 http://archive.ubuntu.com/ubuntu bionic/main amd64 libgdbm-compat4 amd64 1.14.1-6 [6084 B]\n",
      "Get:5 http://archive.ubuntu.com/ubuntu bionic-updates/main amd64 libperl5.26 amd64 5.26.1-6ubuntu0.3 [3527 kB]\n",
      "Get:6 http://archive.ubuntu.com/ubuntu bionic-updates/main amd64 perl amd64 5.26.1-6ubuntu0.3 [201 kB]\n",
      "Get:7 http://archive.ubuntu.com/ubuntu bionic/main amd64 readline-common all 7.0-3 [52.9 kB]\n",
      "Get:8 http://archive.ubuntu.com/ubuntu bionic/main amd64 libreadline7 amd64 7.0-3 [124 kB]\n",
      "Get:9 http://archive.ubuntu.com/ubuntu bionic-updates/main amd64 libsqlite3-0 amd64 3.22.0-1ubuntu0.1 [497 kB]\n",
      "Get:10 http://archive.ubuntu.com/ubuntu bionic-updates/main amd64 libssl1.1 amd64 1.1.1-1ubuntu2.1~18.04.4 [1300 kB]\n",
      "Get:11 http://archive.ubuntu.com/ubuntu bionic/main amd64 netbase all 5.4 [12.7 kB]\n",
      "Get:12 http://archive.ubuntu.com/ubuntu bionic/main amd64 xz-utils amd64 5.2.2-1.3 [83.8 kB]\n",
      "Get:13 http://archive.ubuntu.com/ubuntu bionic/main amd64 manpages all 4.15-1 [1234 kB]\n",
      "Get:14 http://archive.ubuntu.com/ubuntu bionic-updates/main amd64 binutils-common amd64 2.30-21ubuntu1~18.04.2 [193 kB]\n",
      "Get:15 http://archive.ubuntu.com/ubuntu bionic-updates/main amd64 libbinutils amd64 2.30-21ubuntu1~18.04.2 [503 kB]\n",
      "Get:16 http://archive.ubuntu.com/ubuntu bionic-updates/main amd64 binutils-x86-64-linux-gnu amd64 2.30-21ubuntu1~18.04.2 [1856 kB]\n",
      "Get:17 http://archive.ubuntu.com/ubuntu bionic-updates/main amd64 binutils amd64 2.30-21ubuntu1~18.04.2 [3396 B]\n",
      "Get:18 http://archive.ubuntu.com/ubuntu bionic/main amd64 libc-dev-bin amd64 2.27-3ubuntu1 [71.8 kB]\n",
      "Get:19 http://archive.ubuntu.com/ubuntu bionic-updates/main amd64 linux-libc-dev amd64 4.15.0-55.60 [991 kB]\n",
      "Get:20 http://archive.ubuntu.com/ubuntu bionic/main amd64 libc6-dev amd64 2.27-3ubuntu1 [2587 kB]\n",
      "Get:21 http://archive.ubuntu.com/ubuntu bionic-updates/main amd64 gcc-7-base amd64 7.4.0-1ubuntu1~18.04.1 [18.9 kB]\n",
      "Get:22 http://archive.ubuntu.com/ubuntu bionic/main amd64 libisl19 amd64 0.19-1 [551 kB]\n",
      "Get:23 http://archive.ubuntu.com/ubuntu bionic/main amd64 libmpfr6 amd64 4.0.1-1 [243 kB]\n",
      "Get:24 http://archive.ubuntu.com/ubuntu bionic/main amd64 libmpc3 amd64 1.1.0-1 [40.8 kB]\n",
      "Get:25 http://archive.ubuntu.com/ubuntu bionic-updates/main amd64 cpp-7 amd64 7.4.0-1ubuntu1~18.04.1 [6742 kB]\n",
      "Get:26 http://archive.ubuntu.com/ubuntu bionic-updates/main amd64 cpp amd64 4:7.4.0-1ubuntu2.3 [27.7 kB]\n",
      "Get:27 http://archive.ubuntu.com/ubuntu bionic-updates/main amd64 libcc1-0 amd64 8.3.0-6ubuntu1~18.04.1 [47.4 kB]\n",
      "Get:28 http://archive.ubuntu.com/ubuntu bionic-updates/main amd64 libgomp1 amd64 8.3.0-6ubuntu1~18.04.1 [76.4 kB]\n",
      "Get:29 http://archive.ubuntu.com/ubuntu bionic-updates/main amd64 libitm1 amd64 8.3.0-6ubuntu1~18.04.1 [28.0 kB]\n",
      "Get:30 http://archive.ubuntu.com/ubuntu bionic-updates/main amd64 libatomic1 amd64 8.3.0-6ubuntu1~18.04.1 [9184 B]\n",
      "Get:31 http://archive.ubuntu.com/ubuntu bionic-updates/main amd64 libasan4 amd64 7.4.0-1ubuntu1~18.04.1 [359 kB]\n",
      "Get:32 http://archive.ubuntu.com/ubuntu bionic-updates/main amd64 liblsan0 amd64 8.3.0-6ubuntu1~18.04.1 [133 kB]\n",
      "Get:33 http://archive.ubuntu.com/ubuntu bionic-updates/main amd64 libtsan0 amd64 8.3.0-6ubuntu1~18.04.1 [288 kB]\n",
      "Get:34 http://archive.ubuntu.com/ubuntu bionic-updates/main amd64 libubsan0 amd64 7.4.0-1ubuntu1~18.04.1 [126 kB]\n",
      "Get:35 http://archive.ubuntu.com/ubuntu bionic-updates/main amd64 libcilkrts5 amd64 7.4.0-1ubuntu1~18.04.1 [42.5 kB]\n",
      "Get:36 http://archive.ubuntu.com/ubuntu bionic-updates/main amd64 libmpx2 amd64 8.3.0-6ubuntu1~18.04.1 [11.6 kB]\n",
      "Get:37 http://archive.ubuntu.com/ubuntu bionic-updates/main amd64 libquadmath0 amd64 8.3.0-6ubuntu1~18.04.1 [133 kB]\n",
      "Get:38 http://archive.ubuntu.com/ubuntu bionic-updates/main amd64 libgcc-7-dev amd64 7.4.0-1ubuntu1~18.04.1 [2381 kB]\n",
      "Get:39 http://archive.ubuntu.com/ubuntu bionic-updates/main amd64 gcc-7 amd64 7.4.0-1ubuntu1~18.04.1 [7463 kB]\n",
      "Get:40 http://archive.ubuntu.com/ubuntu bionic-updates/main amd64 gcc amd64 4:7.4.0-1ubuntu2.3 [5184 B]\n",
      "Get:41 http://archive.ubuntu.com/ubuntu bionic-updates/main amd64 libstdc++-7-dev amd64 7.4.0-1ubuntu1~18.04.1 [1468 kB]\n",
      "Get:42 http://archive.ubuntu.com/ubuntu bionic-updates/main amd64 g++-7 amd64 7.4.0-1ubuntu1~18.04.1 [7574 kB]\n",
      "Get:43 http://archive.ubuntu.com/ubuntu bionic-updates/main amd64 g++ amd64 4:7.4.0-1ubuntu2.3 [1568 B]\n",
      "Get:44 http://archive.ubuntu.com/ubuntu bionic/main amd64 make amd64 4.1-9.1ubuntu1 [154 kB]\n",
      "Get:45 http://archive.ubuntu.com/ubuntu bionic-updates/main amd64 libdpkg-perl all 1.19.0.5ubuntu2.1 [211 kB]\n"
     ]
    },
    {
     "name": "stdout",
     "output_type": "stream",
     "text": [
      "Get:46 http://archive.ubuntu.com/ubuntu bionic-updates/main amd64 patch amd64 2.7.6-2ubuntu1.1 [102 kB]\n",
      "Get:47 http://archive.ubuntu.com/ubuntu bionic-updates/main amd64 dpkg-dev all 1.19.0.5ubuntu2.1 [608 kB]\n",
      "Get:48 http://archive.ubuntu.com/ubuntu bionic/main amd64 build-essential amd64 12.4ubuntu1 [4758 B]\n",
      "Get:49 http://archive.ubuntu.com/ubuntu bionic/main amd64 libassuan0 amd64 2.5.1-2 [35.0 kB]\n",
      "Get:50 http://archive.ubuntu.com/ubuntu bionic-updates/main amd64 gpgconf amd64 2.2.4-1ubuntu1.2 [123 kB]\n",
      "Get:51 http://archive.ubuntu.com/ubuntu bionic/main amd64 libksba8 amd64 1.3.5-2 [92.6 kB]\n",
      "Get:52 http://archive.ubuntu.com/ubuntu bionic/main amd64 libroken18-heimdal amd64 7.5.0+dfsg-1 [41.3 kB]\n",
      "Get:53 http://archive.ubuntu.com/ubuntu bionic/main amd64 libasn1-8-heimdal amd64 7.5.0+dfsg-1 [175 kB]\n",
      "Get:54 http://archive.ubuntu.com/ubuntu bionic/main amd64 libheimbase1-heimdal amd64 7.5.0+dfsg-1 [29.3 kB]\n",
      "Get:55 http://archive.ubuntu.com/ubuntu bionic/main amd64 libhcrypto4-heimdal amd64 7.5.0+dfsg-1 [85.9 kB]\n",
      "Get:56 http://archive.ubuntu.com/ubuntu bionic/main amd64 libwind0-heimdal amd64 7.5.0+dfsg-1 [47.8 kB]\n",
      "Get:57 http://archive.ubuntu.com/ubuntu bionic/main amd64 libhx509-5-heimdal amd64 7.5.0+dfsg-1 [107 kB]\n",
      "Get:58 http://archive.ubuntu.com/ubuntu bionic/main amd64 libkrb5-26-heimdal amd64 7.5.0+dfsg-1 [206 kB]\n",
      "Get:59 http://archive.ubuntu.com/ubuntu bionic/main amd64 libheimntlm0-heimdal amd64 7.5.0+dfsg-1 [14.8 kB]\n",
      "Get:60 http://archive.ubuntu.com/ubuntu bionic/main amd64 libgssapi3-heimdal amd64 7.5.0+dfsg-1 [96.5 kB]\n",
      "Get:61 http://archive.ubuntu.com/ubuntu bionic/main amd64 libsasl2-modules-db amd64 2.1.27~101-g0780600+dfsg-3ubuntu2 [14.8 kB]\n",
      "Get:62 http://archive.ubuntu.com/ubuntu bionic/main amd64 libsasl2-2 amd64 2.1.27~101-g0780600+dfsg-3ubuntu2 [49.2 kB]\n",
      "Get:63 http://archive.ubuntu.com/ubuntu bionic-updates/main amd64 libldap-common all 2.4.45+dfsg-1ubuntu1.2 [16.7 kB]\n",
      "Get:64 http://archive.ubuntu.com/ubuntu bionic-updates/main amd64 libldap-2.4-2 amd64 2.4.45+dfsg-1ubuntu1.2 [155 kB]\n",
      "Get:65 http://archive.ubuntu.com/ubuntu bionic/main amd64 libnpth0 amd64 1.5-3 [7668 B]\n",
      "Get:66 http://archive.ubuntu.com/ubuntu bionic-updates/main amd64 dirmngr amd64 2.2.4-1ubuntu1.2 [316 kB]\n",
      "Get:67 http://archive.ubuntu.com/ubuntu bionic/main amd64 libfakeroot amd64 1.22-2ubuntu1 [25.9 kB]\n",
      "Get:68 http://archive.ubuntu.com/ubuntu bionic/main amd64 fakeroot amd64 1.22-2ubuntu1 [62.3 kB]\n",
      "Get:69 http://archive.ubuntu.com/ubuntu bionic-updates/main amd64 gnupg-l10n all 2.2.4-1ubuntu1.2 [49.6 kB]\n",
      "Get:70 http://archive.ubuntu.com/ubuntu bionic-updates/main amd64 gnupg-utils amd64 2.2.4-1ubuntu1.2 [127 kB]\n",
      "Get:71 http://archive.ubuntu.com/ubuntu bionic-updates/main amd64 gpg amd64 2.2.4-1ubuntu1.2 [467 kB]\n",
      "Get:72 http://archive.ubuntu.com/ubuntu bionic/main amd64 pinentry-curses amd64 1.1.0-1 [35.8 kB]\n",
      "Get:73 http://archive.ubuntu.com/ubuntu bionic-updates/main amd64 gpg-agent amd64 2.2.4-1ubuntu1.2 [227 kB]\n",
      "Get:74 http://archive.ubuntu.com/ubuntu bionic-updates/main amd64 gpg-wks-client amd64 2.2.4-1ubuntu1.2 [91.9 kB]\n",
      "Get:75 http://archive.ubuntu.com/ubuntu bionic-updates/main amd64 gpg-wks-server amd64 2.2.4-1ubuntu1.2 [84.9 kB]\n",
      "Get:76 http://archive.ubuntu.com/ubuntu bionic-updates/main amd64 gpgsm amd64 2.2.4-1ubuntu1.2 [215 kB]\n",
      "Get:77 http://archive.ubuntu.com/ubuntu bionic-updates/main amd64 gnupg amd64 2.2.4-1ubuntu1.2 [249 kB]\n",
      "Get:78 http://archive.ubuntu.com/ubuntu bionic/main amd64 libalgorithm-diff-perl all 1.19.03-1 [47.6 kB]\n",
      "Get:79 http://archive.ubuntu.com/ubuntu bionic/main amd64 libalgorithm-diff-xs-perl amd64 0.04-5 [11.1 kB]\n",
      "Get:80 http://archive.ubuntu.com/ubuntu bionic/main amd64 libalgorithm-merge-perl all 0.08-3 [12.0 kB]\n",
      "Get:81 http://archive.ubuntu.com/ubuntu bionic/main amd64 libfile-fcntllock-perl amd64 0.22-3build2 [33.2 kB]\n",
      "Get:82 http://archive.ubuntu.com/ubuntu bionic/main amd64 libsasl2-modules amd64 2.1.27~101-g0780600+dfsg-3ubuntu2 [48.7 kB]\n",
      "Get:83 http://archive.ubuntu.com/ubuntu bionic/main amd64 manpages-dev all 4.15-1 [2217 kB]\n",
      "\u001b[91mdebconf: delaying package configuration, since apt-utils is not installed\n",
      "\u001b[0mFetched 50.5 MB in 19s (2595 kB/s)\n",
      "Selecting previously unselected package liblocale-gettext-perl.\n",
      "(Reading database ... 4040 files and directories currently installed.)\n",
      "Preparing to unpack .../00-liblocale-gettext-perl_1.07-3build2_amd64.deb ...\n",
      "Unpacking liblocale-gettext-perl (1.07-3build2) ...\n",
      "Selecting previously unselected package perl-modules-5.26.\n",
      "Preparing to unpack .../01-perl-modules-5.26_5.26.1-6ubuntu0.3_all.deb ...\n",
      "Unpacking perl-modules-5.26 (5.26.1-6ubuntu0.3) ...\n",
      "Selecting previously unselected package libgdbm5:amd64.\n",
      "Preparing to unpack .../02-libgdbm5_1.14.1-6_amd64.deb ...\n",
      "Unpacking libgdbm5:amd64 (1.14.1-6) ...\n",
      "Selecting previously unselected package libgdbm-compat4:amd64.\n",
      "Preparing to unpack .../03-libgdbm-compat4_1.14.1-6_amd64.deb ...\n",
      "Unpacking libgdbm-compat4:amd64 (1.14.1-6) ...\n",
      "Selecting previously unselected package libperl5.26:amd64.\n",
      "Preparing to unpack .../04-libperl5.26_5.26.1-6ubuntu0.3_amd64.deb ...\n",
      "Unpacking libperl5.26:amd64 (5.26.1-6ubuntu0.3) ...\n",
      "Selecting previously unselected package perl.\n",
      "Preparing to unpack .../05-perl_5.26.1-6ubuntu0.3_amd64.deb ...\n",
      "Unpacking perl (5.26.1-6ubuntu0.3) ...\n",
      "Selecting previously unselected package readline-common.\n",
      "Preparing to unpack .../06-readline-common_7.0-3_all.deb ...\n",
      "Unpacking readline-common (7.0-3) ...\n",
      "Selecting previously unselected package libreadline7:amd64.\n",
      "Preparing to unpack .../07-libreadline7_7.0-3_amd64.deb ...\n",
      "Unpacking libreadline7:amd64 (7.0-3) ...\n",
      "Selecting previously unselected package libsqlite3-0:amd64.\n",
      "Preparing to unpack .../08-libsqlite3-0_3.22.0-1ubuntu0.1_amd64.deb ...\n",
      "Unpacking libsqlite3-0:amd64 (3.22.0-1ubuntu0.1) ...\n",
      "Selecting previously unselected package libssl1.1:amd64.\n",
      "Preparing to unpack .../09-libssl1.1_1.1.1-1ubuntu2.1~18.04.4_amd64.deb ...\n",
      "Unpacking libssl1.1:amd64 (1.1.1-1ubuntu2.1~18.04.4) ...\n",
      "Selecting previously unselected package netbase.\n",
      "Preparing to unpack .../10-netbase_5.4_all.deb ...\n",
      "Unpacking netbase (5.4) ...\n",
      "Selecting previously unselected package xz-utils.\n",
      "Preparing to unpack .../11-xz-utils_5.2.2-1.3_amd64.deb ...\n",
      "Unpacking xz-utils (5.2.2-1.3) ...\n",
      "Selecting previously unselected package manpages.\n",
      "Preparing to unpack .../12-manpages_4.15-1_all.deb ...\n",
      "Unpacking manpages (4.15-1) ...\n",
      "Selecting previously unselected package binutils-common:amd64.\n",
      "Preparing to unpack .../13-binutils-common_2.30-21ubuntu1~18.04.2_amd64.deb ...\n",
      "Unpacking binutils-common:amd64 (2.30-21ubuntu1~18.04.2) ...\n",
      "Selecting previously unselected package libbinutils:amd64.\n",
      "Preparing to unpack .../14-libbinutils_2.30-21ubuntu1~18.04.2_amd64.deb ...\n",
      "Unpacking libbinutils:amd64 (2.30-21ubuntu1~18.04.2) ...\n",
      "Selecting previously unselected package binutils-x86-64-linux-gnu.\n",
      "Preparing to unpack .../15-binutils-x86-64-linux-gnu_2.30-21ubuntu1~18.04.2_amd64.deb ...\n",
      "Unpacking binutils-x86-64-linux-gnu (2.30-21ubuntu1~18.04.2) ...\n",
      "Selecting previously unselected package binutils.\n",
      "Preparing to unpack .../16-binutils_2.30-21ubuntu1~18.04.2_amd64.deb ...\n",
      "Unpacking binutils (2.30-21ubuntu1~18.04.2) ...\n",
      "Selecting previously unselected package libc-dev-bin.\n",
      "Preparing to unpack .../17-libc-dev-bin_2.27-3ubuntu1_amd64.deb ...\n",
      "Unpacking libc-dev-bin (2.27-3ubuntu1) ...\n",
      "Selecting previously unselected package linux-libc-dev:amd64.\n",
      "Preparing to unpack .../18-linux-libc-dev_4.15.0-55.60_amd64.deb ...\n",
      "Unpacking linux-libc-dev:amd64 (4.15.0-55.60) ...\n",
      "Selecting previously unselected package libc6-dev:amd64.\n",
      "Preparing to unpack .../19-libc6-dev_2.27-3ubuntu1_amd64.deb ...\n",
      "Unpacking libc6-dev:amd64 (2.27-3ubuntu1) ...\n",
      "Selecting previously unselected package gcc-7-base:amd64.\n",
      "Preparing to unpack .../20-gcc-7-base_7.4.0-1ubuntu1~18.04.1_amd64.deb ...\n",
      "Unpacking gcc-7-base:amd64 (7.4.0-1ubuntu1~18.04.1) ...\n",
      "Selecting previously unselected package libisl19:amd64.\n",
      "Preparing to unpack .../21-libisl19_0.19-1_amd64.deb ...\n",
      "Unpacking libisl19:amd64 (0.19-1) ...\n",
      "Selecting previously unselected package libmpfr6:amd64.\n",
      "Preparing to unpack .../22-libmpfr6_4.0.1-1_amd64.deb ...\n",
      "Unpacking libmpfr6:amd64 (4.0.1-1) ...\n",
      "Selecting previously unselected package libmpc3:amd64.\n",
      "Preparing to unpack .../23-libmpc3_1.1.0-1_amd64.deb ...\n",
      "Unpacking libmpc3:amd64 (1.1.0-1) ...\n",
      "Selecting previously unselected package cpp-7.\n",
      "Preparing to unpack .../24-cpp-7_7.4.0-1ubuntu1~18.04.1_amd64.deb ...\n",
      "Unpacking cpp-7 (7.4.0-1ubuntu1~18.04.1) ...\n"
     ]
    },
    {
     "name": "stdout",
     "output_type": "stream",
     "text": [
      "Selecting previously unselected package cpp.\n",
      "Preparing to unpack .../25-cpp_4%3a7.4.0-1ubuntu2.3_amd64.deb ...\n",
      "Unpacking cpp (4:7.4.0-1ubuntu2.3) ...\n",
      "Selecting previously unselected package libcc1-0:amd64.\n",
      "Preparing to unpack .../26-libcc1-0_8.3.0-6ubuntu1~18.04.1_amd64.deb ...\n",
      "Unpacking libcc1-0:amd64 (8.3.0-6ubuntu1~18.04.1) ...\n",
      "Selecting previously unselected package libgomp1:amd64.\n",
      "Preparing to unpack .../27-libgomp1_8.3.0-6ubuntu1~18.04.1_amd64.deb ...\n",
      "Unpacking libgomp1:amd64 (8.3.0-6ubuntu1~18.04.1) ...\n",
      "Selecting previously unselected package libitm1:amd64.\n",
      "Preparing to unpack .../28-libitm1_8.3.0-6ubuntu1~18.04.1_amd64.deb ...\n",
      "Unpacking libitm1:amd64 (8.3.0-6ubuntu1~18.04.1) ...\n",
      "Selecting previously unselected package libatomic1:amd64.\n",
      "Preparing to unpack .../29-libatomic1_8.3.0-6ubuntu1~18.04.1_amd64.deb ...\n",
      "Unpacking libatomic1:amd64 (8.3.0-6ubuntu1~18.04.1) ...\n",
      "Selecting previously unselected package libasan4:amd64.\n",
      "Preparing to unpack .../30-libasan4_7.4.0-1ubuntu1~18.04.1_amd64.deb ...\n",
      "Unpacking libasan4:amd64 (7.4.0-1ubuntu1~18.04.1) ...\n",
      "Selecting previously unselected package liblsan0:amd64.\n",
      "Preparing to unpack .../31-liblsan0_8.3.0-6ubuntu1~18.04.1_amd64.deb ...\n",
      "Unpacking liblsan0:amd64 (8.3.0-6ubuntu1~18.04.1) ...\n",
      "Selecting previously unselected package libtsan0:amd64.\n",
      "Preparing to unpack .../32-libtsan0_8.3.0-6ubuntu1~18.04.1_amd64.deb ...\n",
      "Unpacking libtsan0:amd64 (8.3.0-6ubuntu1~18.04.1) ...\n",
      "Selecting previously unselected package libubsan0:amd64.\n",
      "Preparing to unpack .../33-libubsan0_7.4.0-1ubuntu1~18.04.1_amd64.deb ...\n",
      "Unpacking libubsan0:amd64 (7.4.0-1ubuntu1~18.04.1) ...\n",
      "Selecting previously unselected package libcilkrts5:amd64.\n",
      "Preparing to unpack .../34-libcilkrts5_7.4.0-1ubuntu1~18.04.1_amd64.deb ...\n",
      "Unpacking libcilkrts5:amd64 (7.4.0-1ubuntu1~18.04.1) ...\n",
      "Selecting previously unselected package libmpx2:amd64.\n",
      "Preparing to unpack .../35-libmpx2_8.3.0-6ubuntu1~18.04.1_amd64.deb ...\n",
      "Unpacking libmpx2:amd64 (8.3.0-6ubuntu1~18.04.1) ...\n",
      "Selecting previously unselected package libquadmath0:amd64.\n",
      "Preparing to unpack .../36-libquadmath0_8.3.0-6ubuntu1~18.04.1_amd64.deb ...\n",
      "Unpacking libquadmath0:amd64 (8.3.0-6ubuntu1~18.04.1) ...\n",
      "Selecting previously unselected package libgcc-7-dev:amd64.\n",
      "Preparing to unpack .../37-libgcc-7-dev_7.4.0-1ubuntu1~18.04.1_amd64.deb ...\n",
      "Unpacking libgcc-7-dev:amd64 (7.4.0-1ubuntu1~18.04.1) ...\n",
      "Selecting previously unselected package gcc-7.\n",
      "Preparing to unpack .../38-gcc-7_7.4.0-1ubuntu1~18.04.1_amd64.deb ...\n",
      "Unpacking gcc-7 (7.4.0-1ubuntu1~18.04.1) ...\n",
      "Selecting previously unselected package gcc.\n",
      "Preparing to unpack .../39-gcc_4%3a7.4.0-1ubuntu2.3_amd64.deb ...\n",
      "Unpacking gcc (4:7.4.0-1ubuntu2.3) ...\n",
      "Selecting previously unselected package libstdc++-7-dev:amd64.\n",
      "Preparing to unpack .../40-libstdc++-7-dev_7.4.0-1ubuntu1~18.04.1_amd64.deb ...\n",
      "Unpacking libstdc++-7-dev:amd64 (7.4.0-1ubuntu1~18.04.1) ...\n",
      "Selecting previously unselected package g++-7.\n",
      "Preparing to unpack .../41-g++-7_7.4.0-1ubuntu1~18.04.1_amd64.deb ...\n",
      "Unpacking g++-7 (7.4.0-1ubuntu1~18.04.1) ...\n",
      "Selecting previously unselected package g++.\n",
      "Preparing to unpack .../42-g++_4%3a7.4.0-1ubuntu2.3_amd64.deb ...\n",
      "Unpacking g++ (4:7.4.0-1ubuntu2.3) ...\n",
      "Selecting previously unselected package make.\n",
      "Preparing to unpack .../43-make_4.1-9.1ubuntu1_amd64.deb ...\n",
      "Unpacking make (4.1-9.1ubuntu1) ...\n",
      "Selecting previously unselected package libdpkg-perl.\n",
      "Preparing to unpack .../44-libdpkg-perl_1.19.0.5ubuntu2.1_all.deb ...\n",
      "Unpacking libdpkg-perl (1.19.0.5ubuntu2.1) ...\n",
      "Selecting previously unselected package patch.\n",
      "Preparing to unpack .../45-patch_2.7.6-2ubuntu1.1_amd64.deb ...\n",
      "Unpacking patch (2.7.6-2ubuntu1.1) ...\n",
      "Selecting previously unselected package dpkg-dev.\n",
      "Preparing to unpack .../46-dpkg-dev_1.19.0.5ubuntu2.1_all.deb ...\n",
      "Unpacking dpkg-dev (1.19.0.5ubuntu2.1) ...\n",
      "Selecting previously unselected package build-essential.\n",
      "Preparing to unpack .../47-build-essential_12.4ubuntu1_amd64.deb ...\n",
      "Unpacking build-essential (12.4ubuntu1) ...\n",
      "Selecting previously unselected package libassuan0:amd64.\n",
      "Preparing to unpack .../48-libassuan0_2.5.1-2_amd64.deb ...\n",
      "Unpacking libassuan0:amd64 (2.5.1-2) ...\n",
      "Selecting previously unselected package gpgconf.\n",
      "Preparing to unpack .../49-gpgconf_2.2.4-1ubuntu1.2_amd64.deb ...\n",
      "Unpacking gpgconf (2.2.4-1ubuntu1.2) ...\n",
      "Selecting previously unselected package libksba8:amd64.\n",
      "Preparing to unpack .../50-libksba8_1.3.5-2_amd64.deb ...\n",
      "Unpacking libksba8:amd64 (1.3.5-2) ...\n",
      "Selecting previously unselected package libroken18-heimdal:amd64.\n",
      "Preparing to unpack .../51-libroken18-heimdal_7.5.0+dfsg-1_amd64.deb ...\n",
      "Unpacking libroken18-heimdal:amd64 (7.5.0+dfsg-1) ...\n",
      "Selecting previously unselected package libasn1-8-heimdal:amd64.\n",
      "Preparing to unpack .../52-libasn1-8-heimdal_7.5.0+dfsg-1_amd64.deb ...\n",
      "Unpacking libasn1-8-heimdal:amd64 (7.5.0+dfsg-1) ...\n",
      "Selecting previously unselected package libheimbase1-heimdal:amd64.\n",
      "Preparing to unpack .../53-libheimbase1-heimdal_7.5.0+dfsg-1_amd64.deb ...\n",
      "Unpacking libheimbase1-heimdal:amd64 (7.5.0+dfsg-1) ...\n",
      "Selecting previously unselected package libhcrypto4-heimdal:amd64.\n",
      "Preparing to unpack .../54-libhcrypto4-heimdal_7.5.0+dfsg-1_amd64.deb ...\n",
      "Unpacking libhcrypto4-heimdal:amd64 (7.5.0+dfsg-1) ...\n",
      "Selecting previously unselected package libwind0-heimdal:amd64.\n",
      "Preparing to unpack .../55-libwind0-heimdal_7.5.0+dfsg-1_amd64.deb ...\n",
      "Unpacking libwind0-heimdal:amd64 (7.5.0+dfsg-1) ...\n",
      "Selecting previously unselected package libhx509-5-heimdal:amd64.\n",
      "Preparing to unpack .../56-libhx509-5-heimdal_7.5.0+dfsg-1_amd64.deb ...\n",
      "Unpacking libhx509-5-heimdal:amd64 (7.5.0+dfsg-1) ...\n",
      "Selecting previously unselected package libkrb5-26-heimdal:amd64.\n",
      "Preparing to unpack .../57-libkrb5-26-heimdal_7.5.0+dfsg-1_amd64.deb ...\n",
      "Unpacking libkrb5-26-heimdal:amd64 (7.5.0+dfsg-1) ...\n",
      "Selecting previously unselected package libheimntlm0-heimdal:amd64.\n",
      "Preparing to unpack .../58-libheimntlm0-heimdal_7.5.0+dfsg-1_amd64.deb ...\n",
      "Unpacking libheimntlm0-heimdal:amd64 (7.5.0+dfsg-1) ...\n",
      "Selecting previously unselected package libgssapi3-heimdal:amd64.\n",
      "Preparing to unpack .../59-libgssapi3-heimdal_7.5.0+dfsg-1_amd64.deb ...\n",
      "Unpacking libgssapi3-heimdal:amd64 (7.5.0+dfsg-1) ...\n",
      "Selecting previously unselected package libsasl2-modules-db:amd64.\n",
      "Preparing to unpack .../60-libsasl2-modules-db_2.1.27~101-g0780600+dfsg-3ubuntu2_amd64.deb ...\n",
      "Unpacking libsasl2-modules-db:amd64 (2.1.27~101-g0780600+dfsg-3ubuntu2) ...\n",
      "Selecting previously unselected package libsasl2-2:amd64.\n",
      "Preparing to unpack .../61-libsasl2-2_2.1.27~101-g0780600+dfsg-3ubuntu2_amd64.deb ...\n",
      "Unpacking libsasl2-2:amd64 (2.1.27~101-g0780600+dfsg-3ubuntu2) ...\n",
      "Selecting previously unselected package libldap-common.\n",
      "Preparing to unpack .../62-libldap-common_2.4.45+dfsg-1ubuntu1.2_all.deb ...\n",
      "Unpacking libldap-common (2.4.45+dfsg-1ubuntu1.2) ...\n",
      "Selecting previously unselected package libldap-2.4-2:amd64.\n",
      "Preparing to unpack .../63-libldap-2.4-2_2.4.45+dfsg-1ubuntu1.2_amd64.deb ...\n",
      "Unpacking libldap-2.4-2:amd64 (2.4.45+dfsg-1ubuntu1.2) ...\n",
      "Selecting previously unselected package libnpth0:amd64.\n",
      "Preparing to unpack .../64-libnpth0_1.5-3_amd64.deb ...\n",
      "Unpacking libnpth0:amd64 (1.5-3) ...\n",
      "Selecting previously unselected package dirmngr.\n",
      "Preparing to unpack .../65-dirmngr_2.2.4-1ubuntu1.2_amd64.deb ...\n",
      "Unpacking dirmngr (2.2.4-1ubuntu1.2) ...\n",
      "Selecting previously unselected package libfakeroot:amd64.\n",
      "Preparing to unpack .../66-libfakeroot_1.22-2ubuntu1_amd64.deb ...\n",
      "Unpacking libfakeroot:amd64 (1.22-2ubuntu1) ...\n",
      "Selecting previously unselected package fakeroot.\n",
      "Preparing to unpack .../67-fakeroot_1.22-2ubuntu1_amd64.deb ...\n",
      "Unpacking fakeroot (1.22-2ubuntu1) ...\n",
      "Selecting previously unselected package gnupg-l10n.\n",
      "Preparing to unpack .../68-gnupg-l10n_2.2.4-1ubuntu1.2_all.deb ...\n",
      "Unpacking gnupg-l10n (2.2.4-1ubuntu1.2) ...\n",
      "Selecting previously unselected package gnupg-utils.\n",
      "Preparing to unpack .../69-gnupg-utils_2.2.4-1ubuntu1.2_amd64.deb ...\n",
      "Unpacking gnupg-utils (2.2.4-1ubuntu1.2) ...\n",
      "Selecting previously unselected package gpg.\n",
      "Preparing to unpack .../70-gpg_2.2.4-1ubuntu1.2_amd64.deb ...\n",
      "Unpacking gpg (2.2.4-1ubuntu1.2) ...\n",
      "Selecting previously unselected package pinentry-curses.\n",
      "Preparing to unpack .../71-pinentry-curses_1.1.0-1_amd64.deb ...\n",
      "Unpacking pinentry-curses (1.1.0-1) ...\n",
      "Selecting previously unselected package gpg-agent.\n",
      "Preparing to unpack .../72-gpg-agent_2.2.4-1ubuntu1.2_amd64.deb ...\n",
      "Unpacking gpg-agent (2.2.4-1ubuntu1.2) ...\n"
     ]
    },
    {
     "name": "stdout",
     "output_type": "stream",
     "text": [
      "Selecting previously unselected package gpg-wks-client.\n",
      "Preparing to unpack .../73-gpg-wks-client_2.2.4-1ubuntu1.2_amd64.deb ...\n",
      "Unpacking gpg-wks-client (2.2.4-1ubuntu1.2) ...\n",
      "Selecting previously unselected package gpg-wks-server.\n",
      "Preparing to unpack .../74-gpg-wks-server_2.2.4-1ubuntu1.2_amd64.deb ...\n",
      "Unpacking gpg-wks-server (2.2.4-1ubuntu1.2) ...\n",
      "Selecting previously unselected package gpgsm.\n",
      "Preparing to unpack .../75-gpgsm_2.2.4-1ubuntu1.2_amd64.deb ...\n",
      "Unpacking gpgsm (2.2.4-1ubuntu1.2) ...\n",
      "Selecting previously unselected package gnupg.\n",
      "Preparing to unpack .../76-gnupg_2.2.4-1ubuntu1.2_amd64.deb ...\n",
      "Unpacking gnupg (2.2.4-1ubuntu1.2) ...\n",
      "Selecting previously unselected package libalgorithm-diff-perl.\n",
      "Preparing to unpack .../77-libalgorithm-diff-perl_1.19.03-1_all.deb ...\n",
      "Unpacking libalgorithm-diff-perl (1.19.03-1) ...\n",
      "Selecting previously unselected package libalgorithm-diff-xs-perl.\n",
      "Preparing to unpack .../78-libalgorithm-diff-xs-perl_0.04-5_amd64.deb ...\n",
      "Unpacking libalgorithm-diff-xs-perl (0.04-5) ...\n",
      "Selecting previously unselected package libalgorithm-merge-perl.\n",
      "Preparing to unpack .../79-libalgorithm-merge-perl_0.08-3_all.deb ...\n",
      "Unpacking libalgorithm-merge-perl (0.08-3) ...\n",
      "Selecting previously unselected package libfile-fcntllock-perl.\n",
      "Preparing to unpack .../80-libfile-fcntllock-perl_0.22-3build2_amd64.deb ...\n",
      "Unpacking libfile-fcntllock-perl (0.22-3build2) ...\n",
      "Selecting previously unselected package libsasl2-modules:amd64.\n",
      "Preparing to unpack .../81-libsasl2-modules_2.1.27~101-g0780600+dfsg-3ubuntu2_amd64.deb ...\n",
      "Unpacking libsasl2-modules:amd64 (2.1.27~101-g0780600+dfsg-3ubuntu2) ...\n",
      "Selecting previously unselected package manpages-dev.\n",
      "Preparing to unpack .../82-manpages-dev_4.15-1_all.deb ...\n",
      "Unpacking manpages-dev (4.15-1) ...\n",
      "Setting up libquadmath0:amd64 (8.3.0-6ubuntu1~18.04.1) ...\n",
      "Setting up libnpth0:amd64 (1.5-3) ...\n",
      "Setting up libgomp1:amd64 (8.3.0-6ubuntu1~18.04.1) ...\n",
      "Setting up libatomic1:amd64 (8.3.0-6ubuntu1~18.04.1) ...\n",
      "Setting up readline-common (7.0-3) ...\n",
      "Setting up manpages (4.15-1) ...\n",
      "Setting up libcc1-0:amd64 (8.3.0-6ubuntu1~18.04.1) ...\n",
      "Setting up make (4.1-9.1ubuntu1) ...\n",
      "Setting up libldap-common (2.4.45+dfsg-1ubuntu1.2) ...\n",
      "Setting up libreadline7:amd64 (7.0-3) ...\n",
      "Setting up libtsan0:amd64 (8.3.0-6ubuntu1~18.04.1) ...\n",
      "Setting up libsasl2-modules-db:amd64 (2.1.27~101-g0780600+dfsg-3ubuntu2) ...\n",
      "Setting up linux-libc-dev:amd64 (4.15.0-55.60) ...\n",
      "Setting up libmpfr6:amd64 (4.0.1-1) ...\n",
      "Setting up libsasl2-2:amd64 (2.1.27~101-g0780600+dfsg-3ubuntu2) ...\n",
      "Setting up libroken18-heimdal:amd64 (7.5.0+dfsg-1) ...\n",
      "Setting up libksba8:amd64 (1.3.5-2) ...\n",
      "Setting up perl-modules-5.26 (5.26.1-6ubuntu0.3) ...\n",
      "Setting up libgdbm5:amd64 (1.14.1-6) ...\n",
      "Setting up gnupg-l10n (2.2.4-1ubuntu1.2) ...\n",
      "Setting up liblsan0:amd64 (8.3.0-6ubuntu1~18.04.1) ...\n",
      "Setting up gcc-7-base:amd64 (7.4.0-1ubuntu1~18.04.1) ...\n",
      "Setting up binutils-common:amd64 (2.30-21ubuntu1~18.04.2) ...\n",
      "Setting up libmpx2:amd64 (8.3.0-6ubuntu1~18.04.1) ...\n",
      "Setting up patch (2.7.6-2ubuntu1.1) ...\n",
      "Processing triggers for libc-bin (2.27-3ubuntu1) ...\n",
      "Setting up libssl1.1:amd64 (1.1.1-1ubuntu2.1~18.04.4) ...\n",
      "debconf: unable to initialize frontend: Dialog\n",
      "debconf: (TERM is not set, so the dialog frontend is not usable.)\n",
      "debconf: falling back to frontend: Readline\n",
      "Setting up xz-utils (5.2.2-1.3) ...\n",
      "update-alternatives: using /usr/bin/xz to provide /usr/bin/lzma (lzma) in auto mode\n",
      "update-alternatives: warning: skip creation of /usr/share/man/man1/lzma.1.gz because associated file /usr/share/man/man1/xz.1.gz (of link group lzma) doesn't exist\n",
      "update-alternatives: warning: skip creation of /usr/share/man/man1/unlzma.1.gz because associated file /usr/share/man/man1/unxz.1.gz (of link group lzma) doesn't exist\n",
      "update-alternatives: warning: skip creation of /usr/share/man/man1/lzcat.1.gz because associated file /usr/share/man/man1/xzcat.1.gz (of link group lzma) doesn't exist\n",
      "update-alternatives: warning: skip creation of /usr/share/man/man1/lzmore.1.gz because associated file /usr/share/man/man1/xzmore.1.gz (of link group lzma) doesn't exist\n",
      "update-alternatives: warning: skip creation of /usr/share/man/man1/lzless.1.gz because associated file /usr/share/man/man1/xzless.1.gz (of link group lzma) doesn't exist\n",
      "update-alternatives: warning: skip creation of /usr/share/man/man1/lzdiff.1.gz because associated file /usr/share/man/man1/xzdiff.1.gz (of link group lzma) doesn't exist\n",
      "update-alternatives: warning: skip creation of /usr/share/man/man1/lzcmp.1.gz because associated file /usr/share/man/man1/xzcmp.1.gz (of link group lzma) doesn't exist\n",
      "update-alternatives: warning: skip creation of /usr/share/man/man1/lzgrep.1.gz because associated file /usr/share/man/man1/xzgrep.1.gz (of link group lzma) doesn't exist\n",
      "update-alternatives: warning: skip creation of /usr/share/man/man1/lzegrep.1.gz because associated file /usr/share/man/man1/xzegrep.1.gz (of link group lzma) doesn't exist\n",
      "update-alternatives: warning: skip creation of /usr/share/man/man1/lzfgrep.1.gz because associated file /usr/share/man/man1/xzfgrep.1.gz (of link group lzma) doesn't exist\n",
      "Setting up libheimbase1-heimdal:amd64 (7.5.0+dfsg-1) ...\n",
      "Setting up libfakeroot:amd64 (1.22-2ubuntu1) ...\n",
      "Setting up libsqlite3-0:amd64 (3.22.0-1ubuntu0.1) ...\n",
      "Setting up liblocale-gettext-perl (1.07-3build2) ...\n",
      "Setting up libmpc3:amd64 (1.1.0-1) ...\n",
      "Setting up libc-dev-bin (2.27-3ubuntu1) ...\n",
      "Setting up libgdbm-compat4:amd64 (1.14.1-6) ...\n",
      "Setting up libsasl2-modules:amd64 (2.1.27~101-g0780600+dfsg-3ubuntu2) ...\n",
      "Setting up manpages-dev (4.15-1) ...\n",
      "Setting up libc6-dev:amd64 (2.27-3ubuntu1) ...\n",
      "Setting up libassuan0:amd64 (2.5.1-2) ...\n",
      "Setting up libitm1:amd64 (8.3.0-6ubuntu1~18.04.1) ...\n",
      "Setting up netbase (5.4) ...\n",
      "Setting up libisl19:amd64 (0.19-1) ...\n",
      "Setting up libwind0-heimdal:amd64 (7.5.0+dfsg-1) ...\n",
      "Setting up libasan4:amd64 (7.4.0-1ubuntu1~18.04.1) ...\n",
      "Setting up libbinutils:amd64 (2.30-21ubuntu1~18.04.2) ...\n",
      "Setting up libcilkrts5:amd64 (7.4.0-1ubuntu1~18.04.1) ...\n",
      "Setting up libasn1-8-heimdal:amd64 (7.5.0+dfsg-1) ...\n",
      "Setting up libubsan0:amd64 (7.4.0-1ubuntu1~18.04.1) ...\n",
      "Setting up gpgconf (2.2.4-1ubuntu1.2) ...\n",
      "Setting up libhcrypto4-heimdal:amd64 (7.5.0+dfsg-1) ...\n",
      "Setting up fakeroot (1.22-2ubuntu1) ...\n",
      "update-alternatives: using /usr/bin/fakeroot-sysv to provide /usr/bin/fakeroot (fakeroot) in auto mode\n",
      "update-alternatives: warning: skip creation of /usr/share/man/man1/fakeroot.1.gz because associated file /usr/share/man/man1/fakeroot-sysv.1.gz (of link group fakeroot) doesn't exist\n",
      "update-alternatives: warning: skip creation of /usr/share/man/man1/faked.1.gz because associated file /usr/share/man/man1/faked-sysv.1.gz (of link group fakeroot) doesn't exist\n",
      "update-alternatives: warning: skip creation of /usr/share/man/es/man1/fakeroot.1.gz because associated file /usr/share/man/es/man1/fakeroot-sysv.1.gz (of link group fakeroot) doesn't exist\n",
      "update-alternatives: warning: skip creation of /usr/share/man/es/man1/faked.1.gz because associated file /usr/share/man/es/man1/faked-sysv.1.gz (of link group fakeroot) doesn't exist\n",
      "update-alternatives: warning: skip creation of /usr/share/man/fr/man1/fakeroot.1.gz because associated file /usr/share/man/fr/man1/fakeroot-sysv.1.gz (of link group fakeroot) doesn't exist\n",
      "update-alternatives: warning: skip creation of /usr/share/man/fr/man1/faked.1.gz because associated file /usr/share/man/fr/man1/faked-sysv.1.gz (of link group fakeroot) doesn't exist\n",
      "update-alternatives: warning: skip creation of /usr/share/man/sv/man1/fakeroot.1.gz because associated file /usr/share/man/sv/man1/fakeroot-sysv.1.gz (of link group fakeroot) doesn't exist\n",
      "update-alternatives: warning: skip creation of /usr/share/man/sv/man1/faked.1.gz because associated file /usr/share/man/sv/man1/faked-sysv.1.gz (of link group fakeroot) doesn't exist\n",
      "Setting up libhx509-5-heimdal:amd64 (7.5.0+dfsg-1) ...\n",
      "Setting up libgcc-7-dev:amd64 (7.4.0-1ubuntu1~18.04.1) ...\n",
      "Setting up cpp-7 (7.4.0-1ubuntu1~18.04.1) ...\n",
      "Setting up libstdc++-7-dev:amd64 (7.4.0-1ubuntu1~18.04.1) ...\n",
      "Setting up libperl5.26:amd64 (5.26.1-6ubuntu0.3) ...\n",
      "Setting up gpgsm (2.2.4-1ubuntu1.2) ...\n",
      "Setting up gnupg-utils (2.2.4-1ubuntu1.2) ...\n",
      "Setting up pinentry-curses (1.1.0-1) ...\n"
     ]
    },
    {
     "name": "stdout",
     "output_type": "stream",
     "text": [
      "Setting up libkrb5-26-heimdal:amd64 (7.5.0+dfsg-1) ...\n",
      "Setting up libheimntlm0-heimdal:amd64 (7.5.0+dfsg-1) ...\n",
      "Setting up gpg (2.2.4-1ubuntu1.2) ...\n",
      "Setting up binutils-x86-64-linux-gnu (2.30-21ubuntu1~18.04.2) ...\n",
      "Setting up cpp (4:7.4.0-1ubuntu2.3) ...\n",
      "Setting up gpg-agent (2.2.4-1ubuntu1.2) ...\n",
      "Setting up gpg-wks-server (2.2.4-1ubuntu1.2) ...\n",
      "Setting up perl (5.26.1-6ubuntu0.3) ...\n",
      "Setting up libfile-fcntllock-perl (0.22-3build2) ...\n",
      "Setting up libalgorithm-diff-perl (1.19.03-1) ...\n",
      "Setting up binutils (2.30-21ubuntu1~18.04.2) ...\n",
      "Setting up libgssapi3-heimdal:amd64 (7.5.0+dfsg-1) ...\n",
      "Setting up gcc-7 (7.4.0-1ubuntu1~18.04.1) ...\n",
      "Setting up g++-7 (7.4.0-1ubuntu1~18.04.1) ...\n",
      "Setting up libdpkg-perl (1.19.0.5ubuntu2.1) ...\n",
      "Setting up gcc (4:7.4.0-1ubuntu2.3) ...\n",
      "Setting up libalgorithm-merge-perl (0.08-3) ...\n",
      "Setting up dpkg-dev (1.19.0.5ubuntu2.1) ...\n",
      "Setting up libalgorithm-diff-xs-perl (0.04-5) ...\n",
      "Setting up libldap-2.4-2:amd64 (2.4.45+dfsg-1ubuntu1.2) ...\n",
      "Setting up g++ (4:7.4.0-1ubuntu2.3) ...\n",
      "update-alternatives: using /usr/bin/g++ to provide /usr/bin/c++ (c++) in auto mode\n",
      "update-alternatives: warning: skip creation of /usr/share/man/man1/c++.1.gz because associated file /usr/share/man/man1/g++.1.gz (of link group c++) doesn't exist\n",
      "Setting up dirmngr (2.2.4-1ubuntu1.2) ...\n",
      "Setting up build-essential (12.4ubuntu1) ...\n",
      "Setting up gpg-wks-client (2.2.4-1ubuntu1.2) ...\n",
      "Setting up gnupg (2.2.4-1ubuntu1.2) ...\n",
      "Processing triggers for libc-bin (2.27-3ubuntu1) ...\n",
      "Removing intermediate container 297c573a934a\n",
      " ---> d3e61e8b947d\n",
      "Step 4/6 : COPY hello.c /\n",
      " ---> 843f3a355587\n",
      "Step 5/6 : RUN make hello\n",
      " ---> Running in 7b266933fbe7\n",
      "cc     hello.c   -o hello\n",
      "\u001b[91mhello.c: In function 'main':\n",
      "\u001b[0m\u001b[91mhello.c:2:3: warning: implicit declaration of function 'puts' [-Wimplicit-function-declaration]\n",
      "   puts(\"Hello, world!\");\n",
      "   ^~~~\n",
      "\u001b[0mRemoving intermediate container 7b266933fbe7\n",
      " ---> 79446449e57e\n",
      "Step 6/6 : CMD /hello\n",
      " ---> Running in 62e859e843b3\n",
      "Removing intermediate container 62e859e843b3\n",
      " ---> e2b964d1eb78\n",
      "Successfully built e2b964d1eb78\n",
      "Successfully tagged hello:latest\n"
     ]
    }
   ],
   "source": [
    "!docker build . -t hello"
   ]
  },
  {
   "cell_type": "code",
   "execution_count": 78,
   "metadata": {
    "hidden": true
   },
   "outputs": [
    {
     "name": "stdout",
     "output_type": "stream",
     "text": [
      "Hello, world!\r\n"
     ]
    }
   ],
   "source": [
    "!docker run hello"
   ]
  },
  {
   "cell_type": "markdown",
   "metadata": {
    "hidden": true
   },
   "source": [
    "In the resulting image we have:\n",
    "* Binary\n",
    "* Source code\n",
    "* Compiler\n",
    "\n",
    "We actually need to ship only the first one. \n",
    "\n",
    "We can't just append `RUN make clean` or `RUN apt-get remove` because they would only be added as further layers, **not reducing image size**.\n",
    "\n",
    "One solution to this is **collapsing layers**. We could write:\n",
    "```\n",
    "FROM ubuntu\n",
    "RUN apt-get update \\\n",
    " && apt-get install xxx \\\n",
    " && ... \\\n",
    " && apt-get remove xxx \\\n",
    " && ...\n",
    " ```\n",
    "This would result in one unique layer, not increasing image size.\n",
    "\n",
    "Cons:\n",
    "* Not very readable\n",
    "* Expensive layer\n",
    "* Some files might remain if cleanup is not thorough\n",
    "\n",
    "A better solution is using multi-stage build. \n",
    "We can add another `FROM` to create a new stage.\n",
    "We can `COPY` files from one stage to the other."
   ]
  },
  {
   "cell_type": "code",
   "execution_count": 94,
   "metadata": {
    "hidden": true
   },
   "outputs": [
    {
     "name": "stdout",
     "output_type": "stream",
     "text": [
      "FROM ubuntu\r\n",
      "RUN apt-get update\r\n",
      "RUN apt-get install -y build-essential\r\n",
      "COPY hello.c /\r\n",
      "RUN make hello\r\n",
      "CMD /hello\r\n",
      "FROM ubuntu \r\n",
      "COPY --from=0 /hello /hello \r\n",
      "CMD /hello\r\n"
     ]
    }
   ],
   "source": [
    "!echo '\\nFROM ubuntu\\\n",
    "\\nCOPY --from=0 /hello /hello\\\n",
    "\\nCMD /hello' >> Dockerfile\n",
    "!cat Dockerfile"
   ]
  },
  {
   "cell_type": "markdown",
   "metadata": {
    "hidden": true
   },
   "source": [
    "We can also name the stages with e.g. `FROM ubuntu as compiler`.\n",
    "\n",
    "We can refer to it later with `COPY --from=compiler`.\n",
    "\n",
    "Let's build the image with a new tag and compare image sizes."
   ]
  },
  {
   "cell_type": "code",
   "execution_count": 97,
   "metadata": {
    "hidden": true
   },
   "outputs": [
    {
     "name": "stdout",
     "output_type": "stream",
     "text": [
      "Sending build context to Docker daemon  3.072kB\n",
      "Step 1/9 : FROM ubuntu\n",
      " ---> 3556258649b2\n",
      "Step 2/9 : RUN apt-get update\n",
      " ---> Using cache\n",
      " ---> 8a0c8ffe9755\n",
      "Step 3/9 : RUN apt-get install -y build-essential\n",
      " ---> Using cache\n",
      " ---> d3e61e8b947d\n",
      "Step 4/9 : COPY hello.c /\n",
      " ---> Using cache\n",
      " ---> 843f3a355587\n",
      "Step 5/9 : RUN make hello\n",
      " ---> Using cache\n",
      " ---> 79446449e57e\n",
      "Step 6/9 : CMD /hello\n",
      " ---> Using cache\n",
      " ---> e2b964d1eb78\n",
      "Step 7/9 : FROM ubuntu\n",
      " ---> 3556258649b2\n",
      "Step 8/9 : COPY --from=0 /hello /hello\n",
      " ---> Using cache\n",
      " ---> 8ce723db3f20\n",
      "Step 9/9 : CMD /hello\n",
      " ---> Using cache\n",
      " ---> 6b028ad316d0\n",
      "Successfully built 6b028ad316d0\n",
      "Successfully tagged hello:multistage\n",
      "Hello, world!\n"
     ]
    }
   ],
   "source": [
    "!docker build . -t hello:multistage\n",
    "!docker run hello:multistage"
   ]
  },
  {
   "cell_type": "code",
   "execution_count": 103,
   "metadata": {
    "hidden": true
   },
   "outputs": [
    {
     "name": "stdout",
     "output_type": "stream",
     "text": [
      "REPOSITORY          TAG                 IMAGE ID            CREATED             SIZE\r\n",
      "hello               multistage          6b028ad316d0        2 minutes ago       64.2MB\r\n",
      "hello               latest              e2b964d1eb78        31 minutes ago      296MB\r\n"
     ]
    }
   ],
   "source": [
    "!docker images hello"
   ]
  },
  {
   "cell_type": "code",
   "execution_count": 104,
   "metadata": {
    "hidden": true
   },
   "outputs": [
    {
     "name": "stdout",
     "output_type": "stream",
     "text": [
      "REPOSITORY          TAG                 IMAGE ID            CREATED             SIZE\r\n",
      "ubuntu              latest              3556258649b2        5 days ago          64.2MB\r\n"
     ]
    }
   ],
   "source": [
    "!docker images ubuntu"
   ]
  },
  {
   "cell_type": "markdown",
   "metadata": {
    "heading_collapsed": true
   },
   "source": [
    "## Efficient Dockerfiles: dependencies and unit tests"
   ]
  },
  {
   "cell_type": "markdown",
   "metadata": {
    "hidden": true
   },
   "source": [
    "```\n",
    "FROM python\n",
    "WORKDIR /src\n",
    "COPY . .\n",
    "RUN pip install -qr requirements.txt\n",
    "EXPOSE 5000\n",
    "CMD [\"python\", \"app.py\"]\n",
    "```"
   ]
  },
  {
   "cell_type": "markdown",
   "metadata": {
    "hidden": true
   },
   "source": [
    "Using this `Dockerfile`, dependencies are installed every time."
   ]
  },
  {
   "cell_type": "markdown",
   "metadata": {
    "hidden": true
   },
   "source": [
    "```\n",
    "FROM python\n",
    "COPY requirements.txt /tmp/requirements.txt\n",
    "RUN pip install -qr /tmp/requirements.txt\n",
    "WORKDIR /src\n",
    "COPY . .\n",
    "EXPOSE 5000\n",
    "CMD [\"python\", \"app.py\"]\n",
    "```"
   ]
  },
  {
   "cell_type": "markdown",
   "metadata": {
    "hidden": true
   },
   "source": [
    "This stores an image in cache with dependencies installed and only runs the python script.\n",
    "\n",
    "When a change in `requirements.txt` is detected, the cache is broken and new dependencies are installed.\n",
    "\n",
    "We can apply the same concept with unit tests:"
   ]
  },
  {
   "cell_type": "markdown",
   "metadata": {
    "hidden": true
   },
   "source": [
    "```\n",
    "FROM <baseimage>\n",
    "RUN <install dependencies>\n",
    "COPY <code>\n",
    "RUN <build code>\n",
    "RUN <install test dependencies>\n",
    "COPY <test data sets and fixtures>\n",
    "RUN <unit tests>\n",
    "FROM <baseimage>\n",
    "RUN <install dependencies>\n",
    "COPY <code>\n",
    "RUN <build code>\n",
    "CMD, EXPOSE ...\n",
    "```"
   ]
  },
  {
   "cell_type": "markdown",
   "metadata": {
    "hidden": true
   },
   "source": [
    "If `RUN <unit tests>` fails, it will not build the image. If it succeeds, it will ship a clean image without test data and libraries."
   ]
  },
  {
   "cell_type": "markdown",
   "metadata": {
    "heading_collapsed": true
   },
   "source": [
    "## Networking"
   ]
  },
  {
   "cell_type": "markdown",
   "metadata": {
    "hidden": true
   },
   "source": [
    "We want to run a web server in a container and access it from our host."
   ]
  },
  {
   "cell_type": "code",
   "execution_count": null,
   "metadata": {
    "hidden": true
   },
   "outputs": [],
   "source": [
    "!docker run -d -P nginx"
   ]
  },
  {
   "cell_type": "markdown",
   "metadata": {
    "hidden": true
   },
   "source": [
    "`-P` stands for Publish and will expose the web server.\n",
    "\n",
    "To see where it is running we can:"
   ]
  },
  {
   "cell_type": "code",
   "execution_count": 106,
   "metadata": {
    "hidden": true
   },
   "outputs": [
    {
     "name": "stdout",
     "output_type": "stream",
     "text": [
      "CONTAINER ID        IMAGE               COMMAND                  CREATED             STATUS              PORTS                   NAMES\r\n",
      "58deadd0fc25        nginx               \"nginx -g 'daemon of…\"   4 minutes ago       Up 4 minutes        0.0.0.0:32771->80/tcp   tender_yalow\r\n",
      "af9a3c938a5e        figlet              \"bash\"                   About an hour ago   Up About an hour                            nervous_franklin\r\n",
      "8261f1c10324        c6b9077a0a85        \"bash\"                   2 hours ago         Up 2 hours                                  wonderful_cocks\r\n",
      "015035d657d7        68ef50eee796        \"/bin/bash\"              3 hours ago         Up 3 hours                                  dazzling_wescoff\r\n",
      "bc663b322a1a        jpetazzo/clock      \"/bin/sh -c 'while d…\"   4 hours ago         Up 4 hours                                  lucid_sinoussi\r\n"
     ]
    }
   ],
   "source": [
    "!docker ps"
   ]
  },
  {
   "cell_type": "markdown",
   "metadata": {
    "hidden": true
   },
   "source": [
    "The web server runs on port 80 inside the container and is mapped on port 32771 on our host.\n",
    "\n",
    "We can access the web server by accessing http://localhost:32771.\n",
    "\n",
    "We can specify the mapping of ports ourselves."
   ]
  },
  {
   "cell_type": "code",
   "execution_count": 107,
   "metadata": {
    "hidden": true
   },
   "outputs": [
    {
     "name": "stdout",
     "output_type": "stream",
     "text": [
      "6ba26fef8f0ff7400993cc82e2007ca5df0fd24426b2021d36712d6263fdc1b4\r\n"
     ]
    }
   ],
   "source": [
    "!docker run -d -p 30123:80 nginx"
   ]
  },
  {
   "cell_type": "code",
   "execution_count": 108,
   "metadata": {
    "hidden": true
   },
   "outputs": [
    {
     "name": "stdout",
     "output_type": "stream",
     "text": [
      "<!DOCTYPE html>\r\n",
      "<html>\r\n",
      "<head>\r\n",
      "<title>Welcome to nginx!</title>\r\n",
      "<style>\r\n",
      "    body {\r\n",
      "        width: 35em;\r\n",
      "        margin: 0 auto;\r\n",
      "        font-family: Tahoma, Verdana, Arial, sans-serif;\r\n",
      "    }\r\n",
      "</style>\r\n",
      "</head>\r\n",
      "<body>\r\n",
      "<h1>Welcome to nginx!</h1>\r\n",
      "<p>If you see this page, the nginx web server is successfully installed and\r\n",
      "working. Further configuration is required.</p>\r\n",
      "\r\n",
      "<p>For online documentation and support please refer to\r\n",
      "<a href=\"http://nginx.org/\">nginx.org</a>.<br/>\r\n",
      "Commercial support is available at\r\n",
      "<a href=\"http://nginx.com/\">nginx.com</a>.</p>\r\n",
      "\r\n",
      "<p><em>Thank you for using nginx.</em></p>\r\n",
      "</body>\r\n",
      "</html>\r\n"
     ]
    }
   ],
   "source": [
    "!curl localhost:30123"
   ]
  },
  {
   "cell_type": "markdown",
   "metadata": {
    "heading_collapsed": true,
    "hidden": true
   },
   "source": [
    "### Virtual networks"
   ]
  },
  {
   "cell_type": "markdown",
   "metadata": {
    "hidden": true
   },
   "source": [
    "We now want to run an app which requires two containers connected to the same network.\n",
    "\n",
    "<img src=\"img/networking.png\" alt=\"Networking\" style=\"width: 800px;\"/>"
   ]
  },
  {
   "cell_type": "code",
   "execution_count": 112,
   "metadata": {
    "hidden": true
   },
   "outputs": [
    {
     "name": "stdout",
     "output_type": "stream",
     "text": [
      "0af32ab638020d23df32efe72accfd75a24492b25114dff3765e06ef2bfb7448\r\n"
     ]
    }
   ],
   "source": [
    "!docker network create dev"
   ]
  },
  {
   "cell_type": "markdown",
   "metadata": {
    "hidden": true
   },
   "source": [
    "Let's run a simple Flask Python web server (https://github.com/jpetazzo/trainingwheels/blob/master/www/Dockerfile) which counts the number of received requests.\n",
    "\n",
    "The requests are stored in a redis database."
   ]
  },
  {
   "cell_type": "code",
   "execution_count": 113,
   "metadata": {
    "hidden": true
   },
   "outputs": [
    {
     "name": "stdout",
     "output_type": "stream",
     "text": [
      "Unable to find image 'jpetazzo/trainingwheels:latest' locally\n",
      "latest: Pulling from jpetazzo/trainingwheels\n",
      "\n",
      "\u001b[1Bada9c7bb: Pulling fs layer \n",
      "\u001b[1B7faec825: Pulling fs layer \n",
      "\u001b[1B419a96b1: Pulling fs layer \n",
      "\u001b[1B51e26e75: Pulling fs layer \n",
      "\u001b[1B5374cd04: Pulling fs layer \n",
      "\u001b[1B5f770184: Pulling fs layer \n",
      "\u001b[1B2f2c6005: Pulling fs layer \n",
      "\u001b[1B20185d1e: Pulling fs layer \n",
      "\u001b[1B35822e4d: Pulling fs layer \n",
      "\u001b[1Bfcdac342: Pulling fs layer \n",
      "\u001b[1B50465967: Pulling fs layer \n",
      "\u001b[1B0d20abd2: Pulling fs layer \n"
     ]
    },
    {
     "name": "stdout",
     "output_type": "stream",
     "text": [
      "\u001b[1BDigest: sha256:43e6fea8c035e881bfaa46667c687d5a91e397b5d9f9104479f2362305f86bbcA\u001b[1K\u001b[K\u001b[12A\u001b[1K\u001b[K\u001b[11A\u001b[1K\u001b[K\u001b[11A\u001b[1K\u001b[K\u001b[13A\u001b[1K\u001b[K\u001b[11A\u001b[1K\u001b[K\u001b[11A\u001b[1K\u001b[K\u001b[12A\u001b[1K\u001b[K\u001b[11A\u001b[1K\u001b[K\u001b[12A\u001b[1K\u001b[K\u001b[11A\u001b[1K\u001b[K\u001b[12A\u001b[1K\u001b[K\u001b[11A\u001b[1K\u001b[K\u001b[12A\u001b[1K\u001b[K\u001b[11A\u001b[1K\u001b[K\u001b[11A\u001b[1K\u001b[K\u001b[12A\u001b[1K\u001b[K\u001b[11A\u001b[1K\u001b[K\u001b[11A\u001b[1K\u001b[K\u001b[12A\u001b[1K\u001b[K\u001b[11A\u001b[1K\u001b[K\u001b[11A\u001b[1K\u001b[K\u001b[13A\u001b[1K\u001b[K\u001b[11A\u001b[1K\u001b[K\u001b[11A\u001b[1K\u001b[K\u001b[13A\u001b[1K\u001b[K\u001b[13A\u001b[1K\u001b[K\u001b[12A\u001b[1K\u001b[K\u001b[12A\u001b[1K\u001b[K\u001b[13A\u001b[1K\u001b[K\u001b[12A\u001b[1K\u001b[K\u001b[13A\u001b[1K\u001b[K\u001b[12A\u001b[1K\u001b[K\u001b[13A\u001b[1K\u001b[K\u001b[13A\u001b[1K\u001b[K\u001b[10A\u001b[1K\u001b[K\u001b[12A\u001b[1K\u001b[K\u001b[13A\u001b[1K\u001b[K\u001b[10A\u001b[1K\u001b[K\u001b[10A\u001b[1K\u001b[K\u001b[10A\u001b[1K\u001b[K\u001b[12A\u001b[1K\u001b[K\u001b[10A\u001b[1K\u001b[K\u001b[12A\u001b[1K\u001b[K\u001b[12A\u001b[1K\u001b[K\u001b[10A\u001b[1K\u001b[K\u001b[12A\u001b[1K\u001b[K\u001b[10A\u001b[1K\u001b[K\u001b[12A\u001b[1K\u001b[K\u001b[10A\u001b[1K\u001b[K\u001b[12A\u001b[1K\u001b[K\u001b[10A\u001b[1K\u001b[K\u001b[12A\u001b[1K\u001b[K\u001b[10A\u001b[1K\u001b[K\u001b[10A\u001b[1K\u001b[K\u001b[13A\u001b[1K\u001b[K\u001b[12A\u001b[1K\u001b[K\u001b[12A\u001b[1K\u001b[K\u001b[12A\u001b[1K\u001b[K\u001b[12A\u001b[1K\u001b[K\u001b[10A\u001b[1K\u001b[K\u001b[12A\u001b[1K\u001b[K\u001b[10A\u001b[1K\u001b[K\u001b[10A\u001b[1K\u001b[K\u001b[12A\u001b[1K\u001b[K\u001b[10A\u001b[1K\u001b[K\u001b[12A\u001b[1K\u001b[K\u001b[13A\u001b[1K\u001b[K\u001b[12A\u001b[1K\u001b[K\u001b[10A\u001b[1K\u001b[K\u001b[12A\u001b[1K\u001b[K\u001b[12A\u001b[1K\u001b[K\u001b[10A\u001b[1K\u001b[K\u001b[10A\u001b[1K\u001b[K\u001b[12A\u001b[1K\u001b[K\u001b[10A\u001b[1K\u001b[K\u001b[12A\u001b[1K\u001b[K\u001b[10A\u001b[1K\u001b[K\u001b[10A\u001b[1K\u001b[K\u001b[13A\u001b[1K\u001b[K\u001b[10A\u001b[1K\u001b[K\u001b[10A\u001b[1K\u001b[K\u001b[9A\u001b[1K\u001b[K\u001b[13A\u001b[1K\u001b[K\u001b[9A\u001b[1K\u001b[K\u001b[9A\u001b[1K\u001b[K\u001b[9A\u001b[1K\u001b[K\u001b[10A\u001b[1K\u001b[K\u001b[9A\u001b[1K\u001b[K\u001b[9A\u001b[1K\u001b[K\u001b[9A\u001b[1K\u001b[K\u001b[13A\u001b[1K\u001b[K\u001b[9A\u001b[1K\u001b[K\u001b[13A\u001b[1K\u001b[K\u001b[9A\u001b[1K\u001b[K\u001b[13A\u001b[1K\u001b[K\u001b[9A\u001b[1K\u001b[K\u001b[13A\u001b[1K\u001b[K\u001b[9A\u001b[1K\u001b[K\u001b[10A\u001b[1K\u001b[K\u001b[13A\u001b[1K\u001b[K\u001b[9A\u001b[1K\u001b[K\u001b[10A\u001b[1K\u001b[K\u001b[13A\u001b[1K\u001b[K\u001b[9A\u001b[1K\u001b[K\u001b[13A\u001b[1K\u001b[K\u001b[10A\u001b[1K\u001b[K\u001b[9A\u001b[1K\u001b[K\u001b[13A\u001b[1K\u001b[K\u001b[13A\u001b[1K\u001b[K\u001b[13A\u001b[1K\u001b[K\u001b[13A\u001b[1K\u001b[K\u001b[13A\u001b[1K\u001b[K\u001b[13A\u001b[1K\u001b[K\u001b[10A\u001b[1K\u001b[K\u001b[13A\u001b[1K\u001b[K\u001b[13A\u001b[1K\u001b[K\u001b[13A\u001b[1K\u001b[K\u001b[13A\u001b[1K\u001b[K\u001b[10A\u001b[1K\u001b[K\u001b[9A\u001b[1K\u001b[K\u001b[13A\u001b[1K\u001b[K\u001b[13A\u001b[1K\u001b[K\u001b[13A\u001b[1K\u001b[K\u001b[9A\u001b[1K\u001b[K\u001b[9A\u001b[1K\u001b[K\u001b[13A\u001b[1K\u001b[K\u001b[9A\u001b[1K\u001b[K\u001b[10A\u001b[1K\u001b[K\u001b[13A\u001b[1K\u001b[K\u001b[9A\u001b[1K\u001b[K\u001b[13A\u001b[1K\u001b[K\u001b[10A\u001b[1K\u001b[K\u001b[9A\u001b[1K\u001b[K\u001b[13A\u001b[1K\u001b[K\u001b[10A\u001b[1K\u001b[K\u001b[13A\u001b[1K\u001b[K\u001b[9A\u001b[1K\u001b[K\u001b[13A\u001b[1K\u001b[K\u001b[10A\u001b[1K\u001b[K\u001b[13A\u001b[1K\u001b[K\u001b[10A\u001b[1K\u001b[K\u001b[9A\u001b[1K\u001b[K\u001b[13A\u001b[1K\u001b[K\u001b[10A\u001b[1K\u001b[K\u001b[13A\u001b[1K\u001b[K\u001b[9A\u001b[1K\u001b[K\u001b[13A\u001b[1K\u001b[K\u001b[13A\u001b[1K\u001b[K\u001b[9A\u001b[1K\u001b[K\u001b[10A\u001b[1K\u001b[K\u001b[10A\u001b[1K\u001b[K\u001b[9A\u001b[1K\u001b[K\u001b[10A\u001b[1K\u001b[K\u001b[9A\u001b[1K\u001b[K\u001b[10A\u001b[1K\u001b[K\u001b[10A\u001b[1K\u001b[K\u001b[9A\u001b[1K\u001b[K\u001b[13A\u001b[1K\u001b[K\u001b[10A\u001b[1K\u001b[K\u001b[9A\u001b[1K\u001b[K\u001b[10A\u001b[1K\u001b[K\u001b[9A\u001b[1K\u001b[K\u001b[13A\u001b[1K\u001b[K\u001b[13A\u001b[1K\u001b[K\u001b[13A\u001b[1K\u001b[K\u001b[9A\u001b[1K\u001b[K\u001b[13A\u001b[1K\u001b[K\u001b[10A\u001b[1K\u001b[K\u001b[13A\u001b[1K\u001b[K\u001b[9A\u001b[1K\u001b[K\u001b[10A\u001b[1K\u001b[K\u001b[13A\u001b[1K\u001b[K\u001b[9A\u001b[1K\u001b[K\u001b[10A\u001b[1K\u001b[K\u001b[13A\u001b[1K\u001b[K\u001b[9A\u001b[1K\u001b[K\u001b[13A\u001b[1K\u001b[K\u001b[10A\u001b[1K\u001b[K\u001b[9A\u001b[1K\u001b[K\u001b[13A\u001b[1K\u001b[K\u001b[9A\u001b[1K\u001b[K\u001b[9A\u001b[1K\u001b[K\u001b[13A\u001b[1K\u001b[K\u001b[9A\u001b[1K\u001b[K\u001b[10A\u001b[1K\u001b[K\u001b[9A\u001b[1K\u001b[K\u001b[10A\u001b[1K\u001b[K\u001b[9A\u001b[1K\u001b[K\u001b[13A\u001b[1K\u001b[K\u001b[10A\u001b[1K\u001b[K\u001b[9A\u001b[1K\u001b[K\u001b[13A\u001b[1K\u001b[K\u001b[9A\u001b[1K\u001b[K\u001b[10A\u001b[1K\u001b[K\u001b[13A\u001b[1K\u001b[K\u001b[9A\u001b[1K\u001b[K\u001b[10A\u001b[1K\u001b[K\u001b[13A\u001b[1K\u001b[K\u001b[13A\u001b[1K\u001b[K\u001b[9A\u001b[1K\u001b[K\u001b[10A\u001b[1K\u001b[K\u001b[13A\u001b[1K\u001b[K\u001b[9A\u001b[1K\u001b[K\u001b[13A\u001b[1K\u001b[K\u001b[10A\u001b[1K\u001b[K\u001b[13A\u001b[1K\u001b[K\u001b[9A\u001b[1K\u001b[K\u001b[13A\u001b[1K\u001b[K\u001b[13A\u001b[1K\u001b[K\u001b[9A\u001b[1K\u001b[K\u001b[13A\u001b[1K\u001b[K\u001b[13A\u001b[1K\u001b[K\u001b[10A\u001b[1K\u001b[K\u001b[13A\u001b[1K\u001b[K\u001b[13A\u001b[1K\u001b[K\u001b[13A\u001b[1K\u001b[K\u001b[13A\u001b[1K\u001b[K\u001b[13A\u001b[1K\u001b[K\u001b[13A\u001b[1K\u001b[K\u001b[13A\u001b[1K\u001b[K\u001b[10A\u001b[1K\u001b[K\u001b[13A\u001b[1K\u001b[K\u001b[8A\u001b[1K\u001b[K\u001b[10A\u001b[1K\u001b[K\u001b[8A\u001b[1K\u001b[K\u001b[13A\u001b[1K\u001b[K\u001b[13A\u001b[1K\u001b[K\u001b[13A\u001b[1K\u001b[K\u001b[13A\u001b[1K\u001b[K\u001b[13A\u001b[1K\u001b[K\u001b[13A\u001b[1K\u001b[K\u001b[8A\u001b[1K\u001b[K\u001b[10A\u001b[1K\u001b[K\u001b[8A\u001b[1K\u001b[K\u001b[8A\u001b[1K\u001b[K\u001b[9A\u001b[1K\u001b[K\u001b[10A\u001b[1K\u001b[K\u001b[13A\u001b[1K\u001b[K\u001b[13A\u001b[1K\u001b[K\u001b[13A\u001b[1K\u001b[K\u001b[8A\u001b[1K\u001b[K\u001b[9A\u001b[1K\u001b[K\u001b[13A\u001b[1K\u001b[K\u001b[8A\u001b[1K\u001b[K\u001b[8A\u001b[1K\u001b[K\u001b[10A\u001b[1K\u001b[K\u001b[8A\u001b[1K\u001b[K\u001b[9A\u001b[1K\u001b[K\u001b[12A\u001b[1K\u001b[K\u001b[10A\u001b[1K\u001b[K\u001b[12A\u001b[1K\u001b[K\u001b[9A\u001b[1K\u001b[K\u001b[9A\u001b[1K\u001b[K\u001b[12A\u001b[1K\u001b[K\u001b[9A\u001b[1K\u001b[K\u001b[7A\u001b[1K\u001b[K\u001b[7A\u001b[1K\u001b[K\u001b[12A\u001b[1K\u001b[K\u001b[11A\u001b[1K\u001b[K\u001b[11A\u001b[1K\u001b[K\u001b[11A\u001b[1K\u001b[K\u001b[11A\u001b[1K\u001b[K\u001b[7A\u001b[1K\u001b[K\u001b[10A\u001b[1K\u001b[K\u001b[7A\u001b[1K\u001b[K\u001b[10A\u001b[1K\u001b[K\u001b[9A\u001b[1K\u001b[K\u001b[10A\u001b[1K\u001b[K\u001b[7A\u001b[1K\u001b[K\u001b[10A\u001b[1K\u001b[K\u001b[7A\u001b[1K\u001b[K\u001b[10A\u001b[1K\u001b[K\u001b[10A\u001b[1K\u001b[K\u001b[10A\u001b[1K\u001b[K\u001b[10A\u001b[1K\u001b[K\u001b[10A\u001b[1K\u001b[K\u001b[10A\u001b[1K\u001b[K\u001b[6A\u001b[1K\u001b[K\u001b[10A\u001b[1K\u001b[K\u001b[9A\u001b[1K\u001b[K\u001b[7A\u001b[1K\u001b[K\u001b[9A\u001b[1K\u001b[K\u001b[10A\u001b[1K\u001b[K\u001b[9A\u001b[1K\u001b[K\u001b[10A\u001b[1K\u001b[K\u001b[7A\u001b[1K\u001b[K\u001b[9A\u001b[1K\u001b[K\u001b[9A\u001b[1K\u001b[K\u001b[5A\u001b[1K\u001b[K\u001b[9A\u001b[1K\u001b[K\u001b[7A\u001b[1K\u001b[K\u001b[5A\u001b[1K\u001b[K\u001b[5A\u001b[1K\u001b[K\u001b[10A\u001b[1K\u001b[K\u001b[9A\u001b[1K\u001b[K\u001b[7A\u001b[1K\u001b[K\u001b[10A\u001b[1K\u001b[K\u001b[10A\u001b[1K\u001b[K\u001b[10A\u001b[1K\u001b[K\u001b[10A\u001b[1K\u001b[K\u001b[10A\u001b[1K\u001b[K\u001b[10A\u001b[1K\u001b[K\u001b[10A\u001b[1K\u001b[K\u001b[10A\u001b[1K\u001b[K\u001b[7A\u001b[1K\u001b[K\u001b[7A\u001b[1K\u001b[K\u001b[10A\u001b[1K\u001b[K\u001b[7A\u001b[1K\u001b[K\u001b[10A\u001b[1K\u001b[K\u001b[7A\u001b[1K\u001b[K\u001b[10A\u001b[1K\u001b[K\u001b[9A\u001b[1K\u001b[K\u001b[10A\u001b[1K\u001b[K\u001b[7A\u001b[1K\u001b[K\u001b[9A\u001b[1K\u001b[K\u001b[7A\u001b[1K\u001b[K\u001b[10A\u001b[1K\u001b[K\u001b[10A\u001b[1K\u001b[K\u001b[9A\u001b[1K\u001b[K\u001b[4A\u001b[1K\u001b[K\u001b[10A\u001b[1K\u001b[K\u001b[9A\u001b[1K\u001b[K\u001b[9A\u001b[1K\u001b[K\u001b[4A\u001b[1K\u001b[K\u001b[4A\u001b[1K\u001b[K\u001b[9A\u001b[1K\u001b[K\u001b[4A\u001b[1K\u001b[K\u001b[4A\u001b[1K\u001b[K\u001b[9A\u001b[1K\u001b[K\u001b[9A\u001b[1K\u001b[K\u001b[9A\u001b[1K\u001b[K\u001b[7A\u001b[1K\u001b[K\u001b[7A\u001b[1K\u001b[K\u001b[7A\u001b[1K\u001b[K\u001b[7A\u001b[1K\u001b[K\u001b[3A\u001b[1K\u001b[K\u001b[9A\u001b[1K\u001b[K\u001b[9A\u001b[1K\u001b[K\u001b[9A\u001b[1K\u001b[K\u001b[7A\u001b[1K\u001b[K\u001b[9A\u001b[1K\u001b[K\u001b[7A\u001b[1K\u001b[K\u001b[9A\u001b[1K\u001b[K\u001b[9A\u001b[1K\u001b[K\u001b[9A\u001b[1K\u001b[K\u001b[9A\u001b[1K\u001b[K\u001b[7A\u001b[1K\u001b[K\u001b[7A\u001b[1K\u001b[K\u001b[1A\u001b[1K\u001b[K\u001b[7A\u001b[1K\u001b[K\u001b[9A\u001b[1K\u001b[K\u001b[7A\u001b[1K\u001b[K\u001b[9A\u001b[1K\u001b[K\u001b[9A\u001b[1K\u001b[K\u001b[7A\u001b[1K\u001b[K\u001b[7A\u001b[1K\u001b[K\u001b[9A\u001b[1K\u001b[K\u001b[7A\u001b[1K\u001b[K\u001b[9A\u001b[1K\u001b[K\u001b[7A\u001b[1K\u001b[K\u001b[9A\u001b[1K\u001b[K\u001b[9A\u001b[1K\u001b[K\u001b[7A\u001b[1K\u001b[K\u001b[7A\u001b[1K\u001b[K\u001b[7A\u001b[1K\u001b[K\u001b[7A\u001b[1K\u001b[K\u001b[7A\u001b[1K\u001b[K\u001b[9A\u001b[1K\u001b[K\u001b[7A\u001b[1K\u001b[K\u001b[9A\u001b[1K\u001b[K\u001b[7A\u001b[1K\u001b[K\u001b[7A\u001b[1K\u001b[K\u001b[9A\u001b[1K\u001b[K\u001b[7A\u001b[1K\u001b[K\u001b[9A\u001b[1K\u001b[K\u001b[7A\u001b[1K\u001b[K\u001b[9A\u001b[1K\u001b[K\u001b[9A\u001b[1K\u001b[K\u001b[9A\u001b[1K\u001b[K\u001b[9A\u001b[1K\u001b[K\u001b[9A\u001b[1K\u001b[K\u001b[9A\u001b[1K\u001b[K\u001b[9A\u001b[1K\u001b[K\u001b[9A\u001b[1K\u001b[K\u001b[9A\u001b[1K\u001b[K\u001b[9A\u001b[1K\u001b[K\u001b[9A\u001b[1K\u001b[K\u001b[9A\u001b[1K\u001b[K\u001b[9A\u001b[1K\u001b[K\u001b[9A\u001b[1K\u001b[K\u001b[9A\u001b[1K\u001b[K\u001b[9A\u001b[1K\u001b[K\u001b[9A\u001b[1K\u001b[K\u001b[9A\u001b[1K\u001b[K\u001b[9A\u001b[1K\u001b[K\u001b[9A\u001b[1K\u001b[K\u001b[9A\u001b[1K\u001b[K\u001b[9A\u001b[1K\u001b[K\u001b[9A\u001b[1K\u001b[K\u001b[9A\u001b[1K\u001b[K\u001b[9A\u001b[1K\u001b[K\u001b[9A\u001b[1K\u001b[K\u001b[9A\u001b[1K\u001b[K\u001b[9A\u001b[1K\u001b[K\u001b[9A\u001b[1K\u001b[K\u001b[9A\u001b[1K\u001b[K\u001b[9A\u001b[1K\u001b[K\u001b[9A\u001b[1K\u001b[K\u001b[9A\u001b[1K\u001b[K\u001b[9A\u001b[1K\u001b[K\u001b[9A\u001b[1K\u001b[K\u001b[9A\u001b[1K\u001b[K\u001b[9A\u001b[1K\u001b[K\u001b[9A\u001b[1K\u001b[K\u001b[9A\u001b[1K\u001b[K\u001b[9A\u001b[1K\u001b[K\u001b[9A\u001b[1K\u001b[K\u001b[9A\u001b[1K\u001b[K\u001b[9A\u001b[1K\u001b[K\u001b[9A\u001b[1K\u001b[K\u001b[9A\u001b[1K\u001b[K\u001b[9A\u001b[1K\u001b[K\u001b[9A\u001b[1K\u001b[K\u001b[9A\u001b[1K\u001b[K\u001b[9A\u001b[1K\u001b[K\u001b[9A\u001b[1K\u001b[K\u001b[9A\u001b[1K\u001b[K\u001b[9A\u001b[1K\u001b[K\u001b[9A\u001b[1K\u001b[K\u001b[9A\u001b[1K\u001b[K\u001b[9A\u001b[1K\u001b[K\u001b[9A\u001b[1K\u001b[K\u001b[9A\u001b[1K\u001b[K\u001b[9A\u001b[1K\u001b[K\u001b[9A\u001b[1K\u001b[K\u001b[9A\u001b[1K\u001b[K\u001b[9A\u001b[1K\u001b[K\u001b[9A\u001b[1K\u001b[K\u001b[9A\u001b[1K\u001b[K\u001b[9A\u001b[1K\u001b[K\u001b[9A\u001b[1K\u001b[K\u001b[9A\u001b[1K\u001b[K\u001b[9A\u001b[1K\u001b[K\u001b[9A\u001b[1K\u001b[K\u001b[9A\u001b[1K\u001b[K\u001b[9A\u001b[1K\u001b[K\u001b[9A\u001b[1K\u001b[K\u001b[9A\u001b[1K\u001b[K\u001b[9A\u001b[1K\u001b[K\u001b[9A\u001b[1K\u001b[K\u001b[9A\u001b[1K\u001b[K\u001b[9A\u001b[1K\u001b[K\u001b[9A\u001b[1K\u001b[K\u001b[9A\u001b[1K\u001b[K\u001b[9A\u001b[1K\u001b[K\u001b[9A\u001b[1K\u001b[K\u001b[9A\u001b[1K\u001b[K\u001b[9A\u001b[1K\u001b[K\u001b[9A\u001b[1K\u001b[K\u001b[9A\u001b[1K\u001b[K\u001b[9A\u001b[1K\u001b[K\u001b[9A\u001b[1K\u001b[K\u001b[9A\u001b[1K\u001b[K\u001b[9A\u001b[1K\u001b[K\u001b[9A\u001b[1K\u001b[K\u001b[9A\u001b[1K\u001b[K\u001b[9A\u001b[1K\u001b[K\u001b[9A\u001b[1K\u001b[K\u001b[9A\u001b[1K\u001b[K\u001b[9A\u001b[1K\u001b[K\u001b[9A\u001b[1K\u001b[K\u001b[9A\u001b[1K\u001b[K\u001b[9A\u001b[1K\u001b[K\u001b[9A\u001b[1K\u001b[K\u001b[9A\u001b[1K\u001b[K\u001b[9A\u001b[1K\u001b[K\u001b[9A\u001b[1K\u001b[K\u001b[9A\u001b[1K\u001b[K\u001b[9A\u001b[1K\u001b[K\u001b[9A\u001b[1K\u001b[K\u001b[9A\u001b[1K\u001b[K\u001b[9A\u001b[1K\u001b[K\u001b[9A\u001b[1K\u001b[K\u001b[9A\u001b[1K\u001b[K\u001b[9A\u001b[1K\u001b[K\u001b[9A\u001b[1K\u001b[K\u001b[9A\u001b[1K\u001b[K\u001b[9A\u001b[1K\u001b[K\u001b[9A\u001b[1K\u001b[K\u001b[9A\u001b[1K\u001b[K\u001b[9A\u001b[1K\u001b[K\u001b[9A\u001b[1K\u001b[K\u001b[9A\u001b[1K\u001b[K\u001b[9A\u001b[1K\u001b[K\u001b[9A\u001b[1K\u001b[K\u001b[9A\u001b[1K\u001b[K\u001b[9A\u001b[1K\u001b[K\u001b[9A\u001b[1K\u001b[K\u001b[9A\u001b[1K\u001b[K\u001b[9A\u001b[1K\u001b[K\u001b[9A\u001b[1K\u001b[K\u001b[9A\u001b[1K\u001b[K\u001b[9A\u001b[1K\u001b[K\u001b[9A\u001b[1K\u001b[K\u001b[9A\u001b[1K\u001b[K\u001b[9A\u001b[1K\u001b[K\u001b[9A\u001b[1K\u001b[K\u001b[9A\u001b[1K\u001b[K\u001b[9A\u001b[1K\u001b[K\u001b[9A\u001b[1K\u001b[K\u001b[9A\u001b[1K\u001b[K\u001b[9A\u001b[1K\u001b[K\u001b[9A\u001b[1K\u001b[K\u001b[9A\u001b[1K\u001b[K\u001b[9A\u001b[1K\u001b[K\u001b[9A\u001b[1K\u001b[K\u001b[9A\u001b[1K\u001b[K\u001b[9A\u001b[1K\u001b[K\u001b[9A\u001b[1K\u001b[K\u001b[9A\u001b[1K\u001b[K\u001b[9A\u001b[1K\u001b[K\u001b[9A\u001b[1K\u001b[K\u001b[9A\u001b[1K\u001b[K\u001b[9A\u001b[1K\u001b[K\u001b[9A\u001b[1K\u001b[K\u001b[9A\u001b[1K\u001b[K\u001b[9A\u001b[1K\u001b[K\u001b[9A\u001b[1K\u001b[K\u001b[9A\u001b[1K\u001b[K\u001b[9A\u001b[1K\u001b[K\u001b[9A\u001b[1K\u001b[K\u001b[9A\u001b[1K\u001b[K\u001b[9A\u001b[1K\u001b[K\u001b[9A\u001b[1K\u001b[K\u001b[9A\u001b[1K\u001b[K\u001b[9A\u001b[1K\u001b[K\u001b[9A\u001b[1K\u001b[K\u001b[9A\u001b[1K\u001b[K\u001b[9A\u001b[1K\u001b[K\u001b[9A\u001b[1K\u001b[K\u001b[9A\u001b[1K\u001b[K\u001b[9A\u001b[1K\u001b[K\u001b[9A\u001b[1K\u001b[K\u001b[9A\u001b[1K\u001b[K\u001b[9A\u001b[1K\u001b[K\u001b[9A\u001b[1K\u001b[K\u001b[9A\u001b[1K\u001b[K\u001b[9A\u001b[1K\u001b[K\u001b[9A\u001b[1K\u001b[K\u001b[9A\u001b[1K\u001b[K\u001b[9A\u001b[1K\u001b[K\u001b[9A\u001b[1K\u001b[K\u001b[9A\u001b[1K\u001b[K\u001b[9A\u001b[1K\u001b[K\u001b[9A\u001b[1K\u001b[K\u001b[9A\u001b[1K\u001b[K\u001b[9A\u001b[1K\u001b[K\u001b[9A\u001b[1K\u001b[K\u001b[9A\u001b[1K\u001b[K\u001b[9A\u001b[1K\u001b[K\u001b[9A\u001b[1K\u001b[K\u001b[9A\u001b[1K\u001b[K\u001b[9A\u001b[1K\u001b[K\u001b[9A\u001b[1K\u001b[K\u001b[9A\u001b[1K\u001b[K\u001b[9A\u001b[1K\u001b[K\u001b[9A\u001b[1K\u001b[K\u001b[9A\u001b[1K\u001b[KExtracting  61.83MB/214.1MB\u001b[9A\u001b[1K\u001b[K\u001b[9A\u001b[1K\u001b[K\u001b[9A\u001b[1K\u001b[K\u001b[9A\u001b[1K\u001b[K\u001b[9A\u001b[1K\u001b[K\u001b[9A\u001b[1K\u001b[K\u001b[9A\u001b[1K\u001b[K\u001b[9A\u001b[1K\u001b[K\u001b[9A\u001b[1K\u001b[K\u001b[9A\u001b[1K\u001b[K\u001b[9A\u001b[1K\u001b[K\u001b[9A\u001b[1K\u001b[K\u001b[9A\u001b[1K\u001b[K\u001b[9A\u001b[1K\u001b[K\u001b[9A\u001b[1K\u001b[K\u001b[9A\u001b[1K\u001b[K\u001b[9A\u001b[1K\u001b[K\u001b[9A\u001b[1K\u001b[K\u001b[9A\u001b[1K\u001b[K\u001b[9A\u001b[1K\u001b[K\u001b[9A\u001b[1K\u001b[K\u001b[9A\u001b[1K\u001b[K\u001b[9A\u001b[1K\u001b[K\u001b[9A\u001b[1K\u001b[K\u001b[9A\u001b[1K\u001b[K\u001b[9A\u001b[1K\u001b[K\u001b[9A\u001b[1K\u001b[K\u001b[9A\u001b[1K\u001b[K\u001b[9A\u001b[1K\u001b[K\u001b[9A\u001b[1K\u001b[K\u001b[9A\u001b[1K\u001b[K\u001b[9A\u001b[1K\u001b[K\u001b[9A\u001b[1K\u001b[K\u001b[9A\u001b[1K\u001b[K\u001b[9A\u001b[1K\u001b[K\u001b[9A\u001b[1K\u001b[K\u001b[9A\u001b[1K\u001b[K\u001b[9A\u001b[1K\u001b[K\u001b[9A\u001b[1K\u001b[K\u001b[9A\u001b[1K\u001b[K\u001b[9A\u001b[1K\u001b[K\u001b[9A\u001b[1K\u001b[K\u001b[9A\u001b[1K\u001b[K\u001b[9A\u001b[1K\u001b[K\u001b[9A\u001b[1K\u001b[K\u001b[9A\u001b[1K\u001b[K\u001b[9A\u001b[1K\u001b[K\u001b[9A\u001b[1K\u001b[K\u001b[9A\u001b[1K\u001b[K\u001b[9A\u001b[1K\u001b[K\u001b[9A\u001b[1K\u001b[K\u001b[9A\u001b[1K\u001b[K\u001b[9A\u001b[1K\u001b[K\u001b[9A\u001b[1K\u001b[K\u001b[9A\u001b[1K\u001b[K\u001b[9A\u001b[1K\u001b[K\u001b[9A\u001b[1K\u001b[K\u001b[9A\u001b[1K\u001b[K\u001b[9A\u001b[1K\u001b[K\u001b[9A\u001b[1K\u001b[K\u001b[9A\u001b[1K\u001b[K\u001b[9A\u001b[1K\u001b[K\u001b[9A\u001b[1K\u001b[K\u001b[9A\u001b[1K\u001b[K\u001b[9A\u001b[1K\u001b[K\u001b[9A\u001b[1K\u001b[K\u001b[9A\u001b[1K\u001b[K\u001b[8A\u001b[1K\u001b[K\u001b[8A\u001b[1K\u001b[K\u001b[8A\u001b[1K\u001b[K\u001b[8A\u001b[1K\u001b[K\u001b[8A\u001b[1K\u001b[K\u001b[8A\u001b[1K\u001b[K\u001b[7A\u001b[1K\u001b[K\u001b[7A\u001b[1K\u001b[K\u001b[7A\u001b[1K\u001b[K\u001b[7A\u001b[1K\u001b[K\u001b[7A\u001b[1K\u001b[K\u001b[7A\u001b[1K\u001b[K\u001b[7A\u001b[1K\u001b[K\u001b[7A\u001b[1K\u001b[K\u001b[7A\u001b[1K\u001b[K\u001b[7A\u001b[1K\u001b[K\u001b[7A\u001b[1K\u001b[K\u001b[7A\u001b[1K\u001b[K\u001b[7A\u001b[1K\u001b[K\u001b[7A\u001b[1K\u001b[K\u001b[6A\u001b[1K\u001b[K\u001b[5A\u001b[1K\u001b[K\u001b[5A\u001b[1K\u001b[K\u001b[5A\u001b[1K\u001b[K\u001b[5A\u001b[1K\u001b[K\u001b[4A\u001b[1K\u001b[K\u001b[4A\u001b[1K\u001b[K\u001b[4A\u001b[1K\u001b[K\u001b[4A\u001b[1K\u001b[K\u001b[3A\u001b[1K\u001b[K\u001b[3A\u001b[1K\u001b[K\u001b[2A\u001b[1K\u001b[K\u001b[2A\u001b[1K\u001b[K\u001b[1A\u001b[1K\u001b[K\u001b[1A\u001b[1K\u001b[K\n",
      "Status: Downloaded newer image for jpetazzo/trainingwheels:latest\n",
      "7dbde7ebedb9f9c959b2fe71d113f39869520268b141aa3ca5e5795f05160bef\n",
      "CONTAINER ID        IMAGE                     COMMAND                  CREATED             STATUS                  PORTS                     NAMES\n",
      "7dbde7ebedb9        jpetazzo/trainingwheels   \"/bin/sh -c 'gunicor…\"   1 second ago        Up Less than a second   0.0.0.0:32772->5000/tcp   elastic_turing\n"
     ]
    }
   ],
   "source": [
    "!docker run --net dev -d -P jpetazzo/trainingwheels"
   ]
  },
  {
   "cell_type": "markdown",
   "metadata": {
    "hidden": true
   },
   "source": [
    "Let's see status of the `-l`ast container started:"
   ]
  },
  {
   "cell_type": "code",
   "execution_count": 114,
   "metadata": {
    "hidden": true
   },
   "outputs": [
    {
     "name": "stdout",
     "output_type": "stream",
     "text": [
      "CONTAINER ID        IMAGE                     COMMAND                  CREATED             STATUS              PORTS                     NAMES\r\n",
      "7dbde7ebedb9        jpetazzo/trainingwheels   \"/bin/sh -c 'gunicor…\"   30 seconds ago      Up 28 seconds       0.0.0.0:32772->5000/tcp   elastic_turing\r\n"
     ]
    }
   ],
   "source": [
    "!docker ps -l"
   ]
  },
  {
   "cell_type": "markdown",
   "metadata": {
    "hidden": true
   },
   "source": [
    "We can see the webapp at http://localhost:32772.\n",
    "\n",
    "The error message says that the `redis` service is unknown.\n",
    "\n",
    "Let's start a `redis` database connected to the same network."
   ]
  },
  {
   "cell_type": "code",
   "execution_count": 121,
   "metadata": {
    "hidden": true
   },
   "outputs": [
    {
     "name": "stdout",
     "output_type": "stream",
     "text": [
      "9440b6f166e98bafadcf3c48f572e848057add6b4ff6a6fbed1e412efb6498d0\r\n"
     ]
    }
   ],
   "source": [
    "!docker run --net dev --net-alias redis -d redis"
   ]
  },
  {
   "cell_type": "markdown",
   "metadata": {
    "hidden": true
   },
   "source": [
    "In the `counter.py` script (https://github.com/jpetazzo/trainingwheels/blob/master/www/counter.py) the database is referenced with a generic `redis`."
   ]
  },
  {
   "cell_type": "markdown",
   "metadata": {
    "heading_collapsed": true,
    "hidden": true
   },
   "source": [
    "### Ambassador design pattern"
   ]
  },
  {
   "cell_type": "markdown",
   "metadata": {
    "hidden": true
   },
   "source": [
    "<img src=\"img/ambassador.png\" alt=\"Ambassador\" style=\"width: 800px;\"/>"
   ]
  },
  {
   "cell_type": "markdown",
   "metadata": {
    "hidden": true
   },
   "source": [
    "DB ambassador:\n",
    "- The database container is moved (or a failover happens). Its new location will be tracked by the ambassador container and the web application container will still be able to connect, without reconfiguration.\n",
    "- The web application code does not have credentials. They are passed to the ambassador to perform authentication before forwarding traffic to the DB container\n",
    "\n",
    "Web host ambassador:\n",
    "- (When running multiple web containers) Run a load balancer and dispatch requests across all backends"
   ]
  },
  {
   "cell_type": "markdown",
   "metadata": {},
   "source": [
    "## Volumes"
   ]
  },
  {
   "cell_type": "markdown",
   "metadata": {},
   "source": [
    "We want to deploy an application in a container, change the source files and see the changes."
   ]
  },
  {
   "cell_type": "code",
   "execution_count": null,
   "metadata": {},
   "outputs": [],
   "source": []
  },
  {
   "cell_type": "markdown",
   "metadata": {},
   "source": [
    "## Docker Compose"
   ]
  },
  {
   "cell_type": "markdown",
   "metadata": {},
   "source": [
    "You can se environment variables e.g. `DEBUG: 1`"
   ]
  },
  {
   "cell_type": "code",
   "execution_count": null,
   "metadata": {},
   "outputs": [],
   "source": []
  }
 ],
 "metadata": {
  "kernelspec": {
   "display_name": "Python 3",
   "language": "python",
   "name": "python3"
  },
  "language_info": {
   "codemirror_mode": {
    "name": "ipython",
    "version": 3
   },
   "file_extension": ".py",
   "mimetype": "text/x-python",
   "name": "python",
   "nbconvert_exporter": "python",
   "pygments_lexer": "ipython3",
   "version": "3.7.3"
  },
  "toc": {
   "base_numbering": 1,
   "nav_menu": {},
   "number_sections": true,
   "sideBar": true,
   "skip_h1_title": false,
   "title_cell": "Table of Contents",
   "title_sidebar": "Contents",
   "toc_cell": false,
   "toc_position": {},
   "toc_section_display": true,
   "toc_window_display": false
  }
 },
 "nbformat": 4,
 "nbformat_minor": 4
}
