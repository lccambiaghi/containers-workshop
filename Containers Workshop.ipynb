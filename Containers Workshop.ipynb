{
 "cells": [
  {
   "cell_type": "code",
   "execution_count": null,
   "metadata": {},
   "outputs": [],
   "source": [
    "from IPython.core.display import display, HTML\n",
    "display(HTML(\"<style>.container { width:95% !important; }</style>\"))"
   ]
  },
  {
   "cell_type": "markdown",
   "metadata": {
    "heading_collapsed": true
   },
   "source": [
    "# Docker"
   ]
  },
  {
   "cell_type": "markdown",
   "metadata": {
    "heading_collapsed": true,
    "hidden": true
   },
   "source": [
    "## First containers"
   ]
  },
  {
   "cell_type": "markdown",
   "metadata": {
    "hidden": true
   },
   "source": [
    "Let's check that docker is installed"
   ]
  },
  {
   "cell_type": "code",
   "execution_count": null,
   "metadata": {
    "hidden": true
   },
   "outputs": [],
   "source": [
    "!docker version"
   ]
  },
  {
   "cell_type": "markdown",
   "metadata": {
    "hidden": true
   },
   "source": [
    "Let's run our first container:"
   ]
  },
  {
   "cell_type": "code",
   "execution_count": null,
   "metadata": {
    "hidden": true
   },
   "outputs": [],
   "source": [
    "!docker run ubuntu"
   ]
  },
  {
   "cell_type": "markdown",
   "metadata": {
    "hidden": true
   },
   "source": [
    "We can run a `-t`erminal within a container in `-i`nteractive mode with:"
   ]
  },
  {
   "cell_type": "code",
   "execution_count": null,
   "metadata": {
    "hidden": true
   },
   "outputs": [],
   "source": [
    "!docker run -ti ubuntu"
   ]
  },
  {
   "cell_type": "markdown",
   "metadata": {
    "hidden": true
   },
   "source": [
    "On Jupyter we can't interact with the container shell. **Let's continue on our machine**"
   ]
  },
  {
   "cell_type": "markdown",
   "metadata": {
    "hidden": true
   },
   "source": [
    "`docker run -ti ubuntu`"
   ]
  },
  {
   "cell_type": "markdown",
   "metadata": {
    "hidden": true
   },
   "source": [
    "Let's now install a package with\n",
    "\n",
    "`apt-get update && apt-get install figlet`"
   ]
  },
  {
   "cell_type": "markdown",
   "metadata": {
    "hidden": true
   },
   "source": [
    "Let's run \n",
    "\n",
    "`figlet hello`"
   ]
  },
  {
   "cell_type": "markdown",
   "metadata": {
    "hidden": true
   },
   "source": [
    "We can exit our container by `Ctrl+D` or \n",
    "\n",
    "`exit`"
   ]
  },
  {
   "cell_type": "markdown",
   "metadata": {
    "hidden": true
   },
   "source": [
    "Let's run it again"
   ]
  },
  {
   "cell_type": "markdown",
   "metadata": {
    "hidden": true
   },
   "source": [
    "`docker run -ti ubuntu`"
   ]
  },
  {
   "cell_type": "markdown",
   "metadata": {
    "hidden": true
   },
   "source": [
    "And let's try to run \n",
    "\n",
    "`figlet hello`"
   ]
  },
  {
   "cell_type": "markdown",
   "metadata": {
    "hidden": true
   },
   "source": [
    "The command is not installed because this is a fresh container."
   ]
  },
  {
   "cell_type": "markdown",
   "metadata": {
    "heading_collapsed": true,
    "hidden": true
   },
   "source": [
    "## Images and Containers"
   ]
  },
  {
   "cell_type": "markdown",
   "metadata": {
    "hidden": true
   },
   "source": [
    "![container layers](img/container-layers.jpg)"
   ]
  },
  {
   "cell_type": "markdown",
   "metadata": {
    "hidden": true
   },
   "source": [
    "An **image** is a read-only filesystem.\n",
    "\n",
    "A **container** is an encapsulated set of processes, running in a read-write copy of that filesystem."
   ]
  },
  {
   "cell_type": "markdown",
   "metadata": {
    "hidden": true
   },
   "source": [
    "`docker run` starts a container from a given image"
   ]
  },
  {
   "cell_type": "markdown",
   "metadata": {
    "hidden": true
   },
   "source": [
    "There are 3 namespaces for images:\n",
    "* Official (e.g. `ubuntu`)\n",
    "* User (e.g. `jpetazzo/clock`)\n",
    "* Self-hosted (e.g. `registry.example.com:5000/my-private/image`)"
   ]
  },
  {
   "cell_type": "markdown",
   "metadata": {
    "hidden": true
   },
   "source": [
    "To see the images present on our host we can run"
   ]
  },
  {
   "cell_type": "code",
   "execution_count": null,
   "metadata": {
    "hidden": true
   },
   "outputs": [],
   "source": [
    "!docker images"
   ]
  },
  {
   "cell_type": "markdown",
   "metadata": {
    "heading_collapsed": true,
    "hidden": true
   },
   "source": [
    "## Daemonized containers and logs"
   ]
  },
  {
   "cell_type": "markdown",
   "metadata": {
    "hidden": true
   },
   "source": [
    "Before we ran a container in interactive mode.\n",
    "\n",
    "Let's now launch one in the background with the flag `-d`aemonized"
   ]
  },
  {
   "cell_type": "code",
   "execution_count": null,
   "metadata": {
    "hidden": true
   },
   "outputs": [],
   "source": [
    "!docker run -d jpetazzo/clock"
   ]
  },
  {
   "cell_type": "markdown",
   "metadata": {
    "hidden": true
   },
   "source": [
    "In the output we can see the created container ID"
   ]
  },
  {
   "cell_type": "markdown",
   "metadata": {
    "hidden": true
   },
   "source": [
    "We can list all our running containers with:"
   ]
  },
  {
   "cell_type": "code",
   "execution_count": null,
   "metadata": {
    "hidden": true
   },
   "outputs": [],
   "source": [
    "!docker ps"
   ]
  },
  {
   "cell_type": "markdown",
   "metadata": {
    "hidden": true
   },
   "source": [
    "We can stop containers with:"
   ]
  },
  {
   "cell_type": "code",
   "execution_count": null,
   "metadata": {
    "hidden": true
   },
   "outputs": [],
   "source": [
    "!docker stop 348"
   ]
  },
  {
   "cell_type": "markdown",
   "metadata": {
    "hidden": true
   },
   "source": [
    "We can see logs with:"
   ]
  },
  {
   "cell_type": "code",
   "execution_count": null,
   "metadata": {
    "hidden": true
   },
   "outputs": [],
   "source": [
    "!docker logs 766"
   ]
  },
  {
   "cell_type": "markdown",
   "metadata": {
    "hidden": true
   },
   "source": [
    "We can see the `--tail` of the logs and even `--follow` the output with:"
   ]
  },
  {
   "cell_type": "code",
   "execution_count": null,
   "metadata": {
    "hidden": true
   },
   "outputs": [],
   "source": [
    "!docker logs --tail 1 --follow 766"
   ]
  },
  {
   "cell_type": "markdown",
   "metadata": {
    "hidden": true
   },
   "source": [
    "`docker stop` will exit the containers 'gracefully'.\n",
    "\n",
    "To force stop, we can:"
   ]
  },
  {
   "cell_type": "code",
   "execution_count": null,
   "metadata": {
    "hidden": true
   },
   "outputs": [],
   "source": [
    "!docker kill 766"
   ]
  },
  {
   "cell_type": "markdown",
   "metadata": {
    "hidden": true
   },
   "source": [
    "We can list `-a`ll containers with:"
   ]
  },
  {
   "cell_type": "code",
   "execution_count": null,
   "metadata": {
    "hidden": true
   },
   "outputs": [],
   "source": [
    "!docker ps -a"
   ]
  },
  {
   "cell_type": "markdown",
   "metadata": {
    "hidden": true
   },
   "source": [
    "And we can restore it with"
   ]
  },
  {
   "cell_type": "code",
   "execution_count": null,
   "metadata": {
    "hidden": true
   },
   "outputs": [],
   "source": [
    "!docker start 766"
   ]
  },
  {
   "cell_type": "markdown",
   "metadata": {
    "heading_collapsed": true,
    "hidden": true
   },
   "source": [
    "## Dockerfile"
   ]
  },
  {
   "cell_type": "markdown",
   "metadata": {
    "hidden": true
   },
   "source": [
    "We can design a docker image by writing a `Dockerfile`.\n",
    "\n",
    "Let's replicate what we did before and build a `figlet` image."
   ]
  },
  {
   "cell_type": "code",
   "execution_count": null,
   "metadata": {
    "hidden": true
   },
   "outputs": [],
   "source": [
    "%cd figlet_image"
   ]
  },
  {
   "cell_type": "code",
   "execution_count": null,
   "metadata": {
    "hidden": true
   },
   "outputs": [],
   "source": [
    "!git checkout -- Dockerfile\n",
    "!cat Dockerfile"
   ]
  },
  {
   "cell_type": "markdown",
   "metadata": {
    "hidden": true
   },
   "source": [
    "`FROM` indicate the base image\n",
    "\n",
    "`RUN` executes commands during the Docker build. "
   ]
  },
  {
   "cell_type": "markdown",
   "metadata": {
    "hidden": true
   },
   "source": [
    "Let's now `build` our image.\n",
    "\n",
    "The syntax is `docker build 'building_context' -t 'tag_name'`."
   ]
  },
  {
   "cell_type": "code",
   "execution_count": null,
   "metadata": {
    "hidden": true
   },
   "outputs": [],
   "source": [
    "!docker build . -t figlet"
   ]
  },
  {
   "cell_type": "markdown",
   "metadata": {
    "hidden": true
   },
   "source": [
    "In this case the building context is the directory `figlet_image` and we tagged the built image with `figlet`. \n",
    "\n",
    "Each `RUN` command is run in a container. The output of that container is saved in a new image.\n",
    "\n",
    "Let's run the image on our shell with\n",
    "\n",
    "`docker run -ti figlet`\n",
    "\n",
    "and run \n",
    "\n",
    "`figlet hello`"
   ]
  },
  {
   "cell_type": "markdown",
   "metadata": {
    "hidden": true
   },
   "source": [
    "If you build the image again it will be instantaneous:"
   ]
  },
  {
   "cell_type": "code",
   "execution_count": null,
   "metadata": {
    "hidden": true
   },
   "outputs": [],
   "source": [
    "!docker build . -t figlet"
   ]
  },
  {
   "cell_type": "markdown",
   "metadata": {
    "hidden": true
   },
   "source": [
    "The intermediate images obtained by running a certain **sequence** are saved in the Docker cache.\n",
    "\n",
    "If you change a line so slightly in the Dockerfile, the cache will be broken."
   ]
  },
  {
   "cell_type": "markdown",
   "metadata": {
    "heading_collapsed": true,
    "hidden": true
   },
   "source": [
    "## CMD and ENTRYPOINT"
   ]
  },
  {
   "cell_type": "markdown",
   "metadata": {
    "hidden": true
   },
   "source": [
    "We want to print a welcome message when the image is run.\n",
    "\n",
    "`CMD` defines an **overwritable** default command.\n",
    "\n",
    "Let's add to our `Dockerfile` the line\n",
    "```\n",
    "CMD figlet -f script hello\n",
    "```"
   ]
  },
  {
   "cell_type": "code",
   "execution_count": null,
   "metadata": {
    "hidden": true
   },
   "outputs": [],
   "source": [
    "!echo '\\nCMD figlet -f script hello' >> Dockerfile\n",
    "!cat Dockerfile"
   ]
  },
  {
   "cell_type": "markdown",
   "metadata": {
    "hidden": true
   },
   "source": [
    "Let's build again and run"
   ]
  },
  {
   "cell_type": "code",
   "execution_count": null,
   "metadata": {
    "hidden": true
   },
   "outputs": [],
   "source": [
    "!docker build . -t figlet\n",
    "!docker run figlet"
   ]
  },
  {
   "cell_type": "markdown",
   "metadata": {
    "hidden": true
   },
   "source": [
    "We can override the `CMD` command by specifying a command after we run the image:"
   ]
  },
  {
   "cell_type": "code",
   "execution_count": null,
   "metadata": {
    "hidden": true
   },
   "outputs": [],
   "source": [
    "!docker run -ti figlet bash"
   ]
  },
  {
   "cell_type": "markdown",
   "metadata": {
    "hidden": true
   },
   "source": [
    "We now want to be able to specify our own string when running the image.\n",
    "\n",
    "`ENTRYPOINT` specifies a **non-overwritable** base command.\n",
    "\n",
    "With `CMD` we can define the default parameters.\n",
    "\n",
    "Let's add the following lines to the `Dockerfile`:\n",
    "\n",
    "```\n",
    "ENTRYPOINT [\"figlet\", \"-f\", \"script\"] \n",
    "\n",
    "CMD [\"hello world\"]\n",
    "```"
   ]
  },
  {
   "cell_type": "code",
   "execution_count": null,
   "metadata": {
    "hidden": true
   },
   "outputs": [],
   "source": [
    "!echo '\\nENTRYPOINT [\"figlet\", \"-f\", \"script\"] \\nCMD [\"hello world\"]' >> Dockerfile\n",
    "!cat Dockerfile"
   ]
  },
  {
   "cell_type": "markdown",
   "metadata": {
    "hidden": true
   },
   "source": [
    "Only the last `CMD` and `ENTRYPOINT` entries are considered."
   ]
  },
  {
   "cell_type": "code",
   "execution_count": null,
   "metadata": {
    "hidden": true
   },
   "outputs": [],
   "source": [
    "!docker build . -t figlet\n",
    "!docker run figlet Maersk"
   ]
  },
  {
   "cell_type": "markdown",
   "metadata": {
    "hidden": true
   },
   "source": [
    "If now we want to `--override` the entrypoint, we can do:"
   ]
  },
  {
   "cell_type": "code",
   "execution_count": null,
   "metadata": {
    "hidden": true
   },
   "outputs": [],
   "source": [
    "!docker run  -ti --entrypoint bash figlet"
   ]
  },
  {
   "cell_type": "markdown",
   "metadata": {
    "heading_collapsed": true,
    "hidden": true
   },
   "source": [
    "## Multi-stage builds"
   ]
  },
  {
   "cell_type": "markdown",
   "metadata": {
    "hidden": true
   },
   "source": [
    "We now want to compile a C application and ship the compiled version in a container."
   ]
  },
  {
   "cell_type": "code",
   "execution_count": null,
   "metadata": {
    "hidden": true
   },
   "outputs": [],
   "source": [
    "%cd ../c_image"
   ]
  },
  {
   "cell_type": "code",
   "execution_count": null,
   "metadata": {
    "hidden": true
   },
   "outputs": [],
   "source": [
    "!cat hello.c"
   ]
  },
  {
   "cell_type": "code",
   "execution_count": null,
   "metadata": {
    "hidden": true
   },
   "outputs": [],
   "source": [
    "!git checkout -- Dockerfile\n",
    "!cat Dockerfile"
   ]
  },
  {
   "cell_type": "markdown",
   "metadata": {
    "hidden": true
   },
   "source": [
    "We use `ubuntu` as base image and we install `build-essential` as it includes a C compiler.\n",
    "\n",
    "When we do `RUN apt-get install` we specify `-y` to give our consent for dependencies installation since interaction is not permitted.\n",
    "\n",
    "We copy the source to the container, we compile it and we run the compiled binary."
   ]
  },
  {
   "cell_type": "code",
   "execution_count": null,
   "metadata": {
    "hidden": true
   },
   "outputs": [],
   "source": [
    "!docker build . -t hello"
   ]
  },
  {
   "cell_type": "code",
   "execution_count": null,
   "metadata": {
    "hidden": true
   },
   "outputs": [],
   "source": [
    "!docker run hello"
   ]
  },
  {
   "cell_type": "markdown",
   "metadata": {
    "hidden": true
   },
   "source": [
    "In the resulting image we have:\n",
    "* Binary\n",
    "* Source code\n",
    "* Compiler\n",
    "\n",
    "We actually need to ship only the first one. \n",
    "\n",
    "We can't just append `RUN make clean` or `RUN apt-get remove` because they would only be added as further layers, **not reducing image size**.\n",
    "\n",
    "One solution to this is **collapsing layers**. We could write:\n",
    "```\n",
    "FROM ubuntu\n",
    "RUN apt-get update \\\n",
    " && apt-get install xxx \\\n",
    " && ... \\\n",
    " && apt-get remove xxx \\\n",
    " && ...\n",
    " ```\n",
    "This would result in one unique layer, not increasing image size.\n",
    "\n",
    "Cons:\n",
    "* Not very readable\n",
    "* Expensive layer\n",
    "* Some files might remain if cleanup is not thorough\n",
    "\n",
    "A better solution is using multi-stage build. \n",
    "We can add another `FROM` to create a new stage.\n",
    "We can `COPY` files from one stage to the other."
   ]
  },
  {
   "cell_type": "code",
   "execution_count": null,
   "metadata": {
    "hidden": true
   },
   "outputs": [],
   "source": [
    "!echo '\\nFROM ubuntu\\\n",
    "\\nCOPY --from=0 /hello /hello\\\n",
    "\\nCMD /hello' >> Dockerfile\n",
    "!cat Dockerfile"
   ]
  },
  {
   "cell_type": "markdown",
   "metadata": {
    "hidden": true
   },
   "source": [
    "We can also name the stages with e.g. `FROM ubuntu as compiler`.\n",
    "\n",
    "We can refer to it later with `COPY --from=compiler`.\n",
    "\n",
    "Let's build the image with a new tag and compare image sizes."
   ]
  },
  {
   "cell_type": "code",
   "execution_count": null,
   "metadata": {
    "hidden": true
   },
   "outputs": [],
   "source": [
    "!docker build . -t hello:multistage\n",
    "!docker run hello:multistage"
   ]
  },
  {
   "cell_type": "markdown",
   "metadata": {
    "hidden": true
   },
   "source": [
    "We can compare image sizes with:"
   ]
  },
  {
   "cell_type": "code",
   "execution_count": null,
   "metadata": {
    "hidden": true
   },
   "outputs": [],
   "source": [
    "!docker images hello"
   ]
  },
  {
   "cell_type": "code",
   "execution_count": null,
   "metadata": {
    "hidden": true
   },
   "outputs": [],
   "source": [
    "!docker images ubuntu"
   ]
  },
  {
   "cell_type": "markdown",
   "metadata": {
    "heading_collapsed": true,
    "hidden": true
   },
   "source": [
    "## Efficient Dockerfiles: dependencies and unit tests"
   ]
  },
  {
   "cell_type": "markdown",
   "metadata": {
    "hidden": true
   },
   "source": [
    "```\n",
    "FROM python\n",
    "WORKDIR /src\n",
    "COPY . .\n",
    "RUN pip install -qr requirements.txt\n",
    "EXPOSE 5000\n",
    "CMD [\"python\", \"app.py\"]\n",
    "```"
   ]
  },
  {
   "cell_type": "markdown",
   "metadata": {
    "hidden": true
   },
   "source": [
    "Using this `Dockerfile`, dependencies are installed every time."
   ]
  },
  {
   "cell_type": "markdown",
   "metadata": {
    "hidden": true
   },
   "source": [
    "```\n",
    "FROM python\n",
    "COPY requirements.txt /tmp/requirements.txt\n",
    "RUN pip install -qr /tmp/requirements.txt\n",
    "WORKDIR /src\n",
    "COPY . .\n",
    "EXPOSE 5000\n",
    "CMD [\"python\", \"app.py\"]\n",
    "```"
   ]
  },
  {
   "cell_type": "markdown",
   "metadata": {
    "hidden": true
   },
   "source": [
    "This stores an image in cache with dependencies installed and only runs the python script.\n",
    "\n",
    "When a change in `requirements.txt` is detected, the cache is broken and new dependencies are installed.\n",
    "\n",
    "We can apply the same concept with unit tests:"
   ]
  },
  {
   "cell_type": "markdown",
   "metadata": {
    "hidden": true
   },
   "source": [
    "```\n",
    "FROM <baseimage>\n",
    "RUN <install dependencies>\n",
    "COPY <code>\n",
    "RUN <build code>\n",
    "RUN <install test dependencies>\n",
    "COPY <test data sets and fixtures>\n",
    "RUN <unit tests>\n",
    "FROM <baseimage>\n",
    "RUN <install dependencies>\n",
    "COPY <code>\n",
    "RUN <build code>\n",
    "CMD, EXPOSE ...\n",
    "```"
   ]
  },
  {
   "cell_type": "markdown",
   "metadata": {
    "hidden": true
   },
   "source": [
    "If `RUN <unit tests>` fails, it will not build the image. If it succeeds, it will ship a clean image without test data and libraries."
   ]
  },
  {
   "cell_type": "markdown",
   "metadata": {
    "hidden": true
   },
   "source": [
    "## Networking"
   ]
  },
  {
   "cell_type": "markdown",
   "metadata": {
    "heading_collapsed": true,
    "hidden": true
   },
   "source": [
    "### Exposing containers"
   ]
  },
  {
   "cell_type": "markdown",
   "metadata": {
    "hidden": true
   },
   "source": [
    "We want to run a web server in a container and access it from our host."
   ]
  },
  {
   "cell_type": "code",
   "execution_count": null,
   "metadata": {
    "hidden": true
   },
   "outputs": [],
   "source": [
    "!docker run -d -P nginx"
   ]
  },
  {
   "cell_type": "markdown",
   "metadata": {
    "hidden": true
   },
   "source": [
    "`-P` stands for Publish and will expose the web server.\n",
    "\n",
    "To see where it is running we can:"
   ]
  },
  {
   "cell_type": "code",
   "execution_count": null,
   "metadata": {
    "hidden": true
   },
   "outputs": [],
   "source": [
    "!docker ps"
   ]
  },
  {
   "cell_type": "markdown",
   "metadata": {
    "hidden": true
   },
   "source": [
    "The web server runs on port 80 inside the container and is mapped on port 32771 on our host.\n",
    "\n",
    "We can access the web server by accessing http://localhost:32771.\n",
    "\n",
    "We can specify the mapping of ports ourselves."
   ]
  },
  {
   "cell_type": "code",
   "execution_count": null,
   "metadata": {
    "hidden": true
   },
   "outputs": [],
   "source": [
    "!docker run -d -p 30123:80 nginx"
   ]
  },
  {
   "cell_type": "code",
   "execution_count": null,
   "metadata": {
    "hidden": true
   },
   "outputs": [],
   "source": [
    "!curl localhost:30123"
   ]
  },
  {
   "cell_type": "markdown",
   "metadata": {
    "heading_collapsed": true,
    "hidden": true
   },
   "source": [
    "### Virtual networks"
   ]
  },
  {
   "cell_type": "markdown",
   "metadata": {
    "hidden": true
   },
   "source": [
    "We now want to run an app which requires two containers connected to the same network.\n",
    "\n",
    "<img src=\"img/networking.png\" alt=\"Networking\" style=\"width: 800px;\"/>"
   ]
  },
  {
   "cell_type": "code",
   "execution_count": null,
   "metadata": {
    "hidden": true
   },
   "outputs": [],
   "source": [
    "!docker network create dev"
   ]
  },
  {
   "cell_type": "markdown",
   "metadata": {
    "hidden": true
   },
   "source": [
    "Let's run a simple Flask Python web server (https://github.com/jpetazzo/trainingwheels/blob/master/www/Dockerfile) which counts the number of received requests.\n",
    "\n",
    "The requests are stored in a redis database."
   ]
  },
  {
   "cell_type": "code",
   "execution_count": null,
   "metadata": {
    "hidden": true
   },
   "outputs": [],
   "source": [
    "%cd ../trainingwheels/www"
   ]
  },
  {
   "cell_type": "code",
   "execution_count": null,
   "metadata": {
    "hidden": true
   },
   "outputs": [],
   "source": [
    "!cat Dockerfile"
   ]
  },
  {
   "cell_type": "code",
   "execution_count": null,
   "metadata": {
    "hidden": true,
    "scrolled": true
   },
   "outputs": [],
   "source": [
    "!cat counter.py"
   ]
  },
  {
   "cell_type": "code",
   "execution_count": null,
   "metadata": {
    "hidden": true
   },
   "outputs": [],
   "source": [
    "!docker build . -t trainingwheels\n",
    "!docker run --net dev -d -P trainingwheels"
   ]
  },
  {
   "cell_type": "markdown",
   "metadata": {
    "hidden": true
   },
   "source": [
    "Let's see status of the `-l`ast container started:"
   ]
  },
  {
   "cell_type": "code",
   "execution_count": null,
   "metadata": {
    "hidden": true
   },
   "outputs": [],
   "source": [
    "!docker ps -l"
   ]
  },
  {
   "cell_type": "markdown",
   "metadata": {
    "hidden": true
   },
   "source": [
    "We can see the webapp at http://localhost:32772.\n",
    "\n",
    "The error message says that the `redis` service is unknown.\n",
    "\n",
    "Let's start a `redis` database connected to the same network."
   ]
  },
  {
   "cell_type": "code",
   "execution_count": null,
   "metadata": {
    "hidden": true
   },
   "outputs": [],
   "source": [
    "!docker run --net dev --net-alias redis -d redis"
   ]
  },
  {
   "cell_type": "markdown",
   "metadata": {
    "heading_collapsed": true,
    "hidden": true
   },
   "source": [
    "### Ambassador design pattern"
   ]
  },
  {
   "cell_type": "markdown",
   "metadata": {
    "hidden": true
   },
   "source": [
    "<img src=\"img/ambassador.png\" alt=\"Ambassador\" style=\"width: 800px;\"/>"
   ]
  },
  {
   "cell_type": "markdown",
   "metadata": {
    "hidden": true
   },
   "source": [
    "DB ambassador:\n",
    "- The database container is moved (or a failover happens). Its new location will be tracked by the ambassador container and the web application container will still be able to connect, without reconfiguration.\n",
    "- The web application code does not have credentials. They are passed to the ambassador to perform authentication before forwarding traffic to the DB container\n",
    "\n",
    "Web host ambassador:\n",
    "- (When running multiple web containers) Run a load balancer and dispatch requests across all backends"
   ]
  },
  {
   "cell_type": "markdown",
   "metadata": {
    "hidden": true
   },
   "source": [
    "## Volumes"
   ]
  },
  {
   "cell_type": "markdown",
   "metadata": {
    "heading_collapsed": true,
    "hidden": true
   },
   "source": [
    "### Local development in Docker"
   ]
  },
  {
   "cell_type": "markdown",
   "metadata": {
    "hidden": true
   },
   "source": [
    "We want to deploy an application in a container, change the source files and see the changes."
   ]
  },
  {
   "cell_type": "code",
   "execution_count": null,
   "metadata": {
    "hidden": true
   },
   "outputs": [],
   "source": [
    "%cd ../../namer"
   ]
  },
  {
   "cell_type": "code",
   "execution_count": null,
   "metadata": {
    "hidden": true
   },
   "outputs": [],
   "source": [
    "!cat Dockerfile"
   ]
  },
  {
   "cell_type": "code",
   "execution_count": null,
   "metadata": {
    "hidden": true
   },
   "outputs": [],
   "source": [
    "!cat company_name_generator.rb"
   ]
  },
  {
   "cell_type": "code",
   "execution_count": null,
   "metadata": {
    "hidden": true
   },
   "outputs": [],
   "source": [
    "!docker build . -t namer"
   ]
  },
  {
   "cell_type": "code",
   "execution_count": null,
   "metadata": {
    "hidden": true
   },
   "outputs": [],
   "source": [
    "!docker run -dP namer\n",
    "!docker ps -l"
   ]
  },
  {
   "cell_type": "markdown",
   "metadata": {
    "hidden": true
   },
   "source": [
    "We now want to edit the code and see changes in real time.\n",
    "\n",
    "Approaches:\n",
    "* Develop locally and rebuild the image\n",
    "* Install an editor in the container and develop inside\n",
    "* Use volumes"
   ]
  },
  {
   "cell_type": "code",
   "execution_count": null,
   "metadata": {
    "hidden": true
   },
   "outputs": [],
   "source": [
    "!docker run -dP -v $(pwd):/src namer\n",
    "!docker ps -l"
   ]
  },
  {
   "cell_type": "markdown",
   "metadata": {
    "hidden": true
   },
   "source": [
    "We have **bind mounted** our host's working directory to the container's `/src` folder. \n",
    "\n",
    "The files are not copied or synchronized.\n",
    "\n",
    "If we change the local files the container will serve our updated local files.\n",
    "\n",
    "To debug, we can `exec`ute a command in a running container with:"
   ]
  },
  {
   "cell_type": "code",
   "execution_count": null,
   "metadata": {
    "hidden": true
   },
   "outputs": [],
   "source": [
    "!docker exec -ti 903 bash"
   ]
  },
  {
   "cell_type": "markdown",
   "metadata": {
    "heading_collapsed": true,
    "hidden": true
   },
   "source": [
    "### Shared volumes"
   ]
  },
  {
   "cell_type": "markdown",
   "metadata": {
    "hidden": true
   },
   "source": [
    "Volumes can be created without being anchored to a specific path. They can be used by multiple containers.\n",
    "\n",
    "If a container is stopped, its volumes still exist."
   ]
  },
  {
   "cell_type": "code",
   "execution_count": null,
   "metadata": {
    "hidden": true
   },
   "outputs": [],
   "source": [
    "!docker volume ls"
   ]
  },
  {
   "cell_type": "code",
   "execution_count": null,
   "metadata": {
    "hidden": true
   },
   "outputs": [],
   "source": [
    "!docker volume rm 694984de315344a7c83a296de52307d29f141cd844abf09569aa59a256c68a16"
   ]
  },
  {
   "cell_type": "markdown",
   "metadata": {
    "hidden": true
   },
   "source": [
    "Let's now create two empty volumes, to be mapped"
   ]
  },
  {
   "cell_type": "code",
   "execution_count": null,
   "metadata": {
    "hidden": true
   },
   "outputs": [],
   "source": [
    "!docker volume create webapps"
   ]
  },
  {
   "cell_type": "code",
   "execution_count": null,
   "metadata": {
    "hidden": true
   },
   "outputs": [],
   "source": [
    "!docker volume create logs"
   ]
  },
  {
   "cell_type": "markdown",
   "metadata": {
    "hidden": true
   },
   "source": [
    "Let's now start a Tomcat web server using those two volumes."
   ]
  },
  {
   "cell_type": "code",
   "execution_count": null,
   "metadata": {
    "hidden": true
   },
   "outputs": [],
   "source": [
    "!docker run -d -p 30123:8080 \\\n",
    "         -v logs:/usr/local/tomcat/logs \\\n",
    "         -v webapps:/usr/local/tomcat/webapps \\\n",
    "         tomcat"
   ]
  },
  {
   "cell_type": "code",
   "execution_count": null,
   "metadata": {
    "hidden": true,
    "scrolled": true
   },
   "outputs": [],
   "source": [
    "!curl localhost:30123"
   ]
  },
  {
   "cell_type": "markdown",
   "metadata": {
    "hidden": true
   },
   "source": [
    "We can now start another container using the same volume.\n",
    "\n",
    "The volume in the second container will be populated with the files written by the first container.\n",
    "\n",
    "Let's run the below command on our machine:\n",
    "\n",
    "`docker run -v webapps:/webapps -w /webapps -ti alpine vi ROOT/index.jsp`"
   ]
  },
  {
   "cell_type": "markdown",
   "metadata": {
    "hidden": true
   },
   "source": [
    "Similarly we can see the logs by mounting the logs volume in another container.\n",
    "\n",
    "`docker run -v logs:/logs -w /logs -ti alpine sh -c \"tail -f /logs/*\"`"
   ]
  },
  {
   "cell_type": "markdown",
   "metadata": {
    "hidden": true
   },
   "source": [
    "Another easy example is with Database migration:\n",
    "\n",
    "`docker run -d --name redis28 redis:2.8`\n",
    "\n",
    "`docker run -ti --link redis28:redis busybox telnet redis 6379`\n",
    "\n",
    "... Create data ...\n",
    "\n",
    "`docker stop redis28`\n",
    "\n",
    "`docker run -d --name redis30 --volumes-from redis28 redis:3.0`\n",
    "\n",
    "`docker run -ti --link redis30:redis busybox telnet redis 6379`\n",
    "\n",
    "... Data has been migrated!"
   ]
  },
  {
   "cell_type": "markdown",
   "metadata": {
    "heading_collapsed": true,
    "hidden": true
   },
   "source": [
    "### Sharing the Docker control socket"
   ]
  },
  {
   "cell_type": "markdown",
   "metadata": {
    "hidden": true
   },
   "source": [
    "With the `-v` flag we can even share a single file. The most interesting example concerns the Docker control socket: the container sharing it will be connected to the Docker engine and will be able to issue `docker` commands.\n",
    "\n",
    "`docker run -it -v /var/run/docker.sock:/var/run/docker.sock docker sh`"
   ]
  },
  {
   "cell_type": "markdown",
   "metadata": {
    "hidden": true
   },
   "source": [
    "This container can now create containers. This is useful in the case where we want our CI system to run in a container AND it be able to start containers.\n",
    "\n",
    "Read more here: https://jpetazzo.github.io/2015/09/03/do-not-use-docker-in-docker-for-ci/?source=post_page---------------------------"
   ]
  },
  {
   "cell_type": "markdown",
   "metadata": {
    "heading_collapsed": true,
    "hidden": true
   },
   "source": [
    "### Configuration volumes"
   ]
  },
  {
   "cell_type": "markdown",
   "metadata": {
    "hidden": true
   },
   "source": [
    "Configuration is stored in a volume (can be shared across multiple containers).\n",
    "\n",
    "Configuration is generated/updated by a configuration container.\n",
    "\n",
    "The application container detects when configuration is changed and reloads when necessary.\n",
    "\n",
    "See example at https://maersk-2019-07.container.training/three.yml.html#411"
   ]
  },
  {
   "cell_type": "markdown",
   "metadata": {
    "heading_collapsed": true,
    "hidden": true
   },
   "source": [
    "## Docker Compose"
   ]
  },
  {
   "cell_type": "markdown",
   "metadata": {
    "hidden": true
   },
   "source": [
    "Docker Compose allows us to build, run and connect containers.\n",
    "\n",
    "We define a `.yml` file describing the structure and we just run `docker-compose up`."
   ]
  },
  {
   "cell_type": "code",
   "execution_count": null,
   "metadata": {
    "hidden": true
   },
   "outputs": [],
   "source": [
    "%cd ../trainingwheels"
   ]
  },
  {
   "cell_type": "code",
   "execution_count": null,
   "metadata": {
    "hidden": true
   },
   "outputs": [],
   "source": [
    "!cat docker-compose.yml"
   ]
  },
  {
   "cell_type": "markdown",
   "metadata": {
    "hidden": true
   },
   "source": [
    "The structure of the file is always:\n",
    "* version: \"2\"/\"3\"\n",
    "* services:\n",
    "    * service1:\n",
    "        * build: path/to/Dockerfile\n",
    "        * (optional) ports:\n",
    "        * (optional) network:\n",
    "        * (optional) command:\n",
    "        * (optional) volumes:\n",
    "    * service2:\n",
    "        * image: name-of-image\n",
    "        \n",
    "By default, one private network gets created for each Compose file.\n",
    "\n",
    "You can set environment variables, useful for debugging."
   ]
  },
  {
   "cell_type": "code",
   "execution_count": null,
   "metadata": {
    "hidden": true
   },
   "outputs": [],
   "source": [
    "!docker-compose --version"
   ]
  },
  {
   "cell_type": "code",
   "execution_count": null,
   "metadata": {
    "hidden": true
   },
   "outputs": [],
   "source": [
    "!docker-compose up"
   ]
  },
  {
   "cell_type": "code",
   "execution_count": null,
   "metadata": {
    "hidden": true
   },
   "outputs": [],
   "source": [
    "!docker-compose ps"
   ]
  },
  {
   "cell_type": "code",
   "execution_count": null,
   "metadata": {
    "hidden": true,
    "scrolled": true
   },
   "outputs": [],
   "source": [
    "!docker-compose up --build"
   ]
  },
  {
   "cell_type": "code",
   "execution_count": null,
   "metadata": {
    "hidden": true
   },
   "outputs": [],
   "source": [
    "!docker-compose down"
   ]
  },
  {
   "cell_type": "markdown",
   "metadata": {
    "hidden": true
   },
   "source": [
    "You can set environment variables e.g. `DEBUG: 1`"
   ]
  },
  {
   "cell_type": "markdown",
   "metadata": {
    "heading_collapsed": true
   },
   "source": [
    "# Kubernetes"
   ]
  },
  {
   "cell_type": "markdown",
   "metadata": {
    "heading_collapsed": true,
    "hidden": true
   },
   "source": [
    "## Why Orchestration?"
   ]
  },
  {
   "cell_type": "markdown",
   "metadata": {
    "hidden": true
   },
   "source": [
    "Use case 1, highly available Web Server:\n",
    "\n",
    "Auto scale up and down to accomodate pageviews.\n",
    "\n",
    "![pageviews](img/pageviews.png)"
   ]
  },
  {
   "cell_type": "markdown",
   "metadata": {
    "hidden": true
   },
   "source": [
    "Use case 2, scheduling in Data Center:\n",
    "\n",
    "Rebalance VMs and shut down those which are not needed.\n",
    "\n",
    "![binpacking](img/binpacking.gif)\n",
    "\n",
    "A good orchestrator also needs to manage:\n",
    "* Network between containers\n",
    "* Load balancing\n",
    "* Failure recovery\n",
    "* Canary deployments\n",
    "* Rolling updates\n",
    "\n",
    "What can Kubernetes do?\n",
    "* Start 5 containers using image `backend`\n",
    "* Place an internal load balancer in front of these containers\n",
    "* Start 10 containers using image `frontend`\n",
    "* Place an internal load balancer in front of them\n",
    "* Traffic spikes! Grow our cluster by deploying more containers\n",
    "* New release! Deploy new `fronted` image on one container at a time, keeping the service available"
   ]
  },
  {
   "cell_type": "markdown",
   "metadata": {
    "heading_collapsed": true,
    "hidden": true
   },
   "source": [
    "## How does Kubernetes work?"
   ]
  },
  {
   "cell_type": "markdown",
   "metadata": {
    "hidden": true
   },
   "source": [
    "![k8s-architecture](img/k8s-architecture.png)\n",
    "\n",
    "On nodes:\n",
    "* Container engine\n",
    "* Kubelet agent to communicate with master node\n",
    "* Kubeproxy to provide basic networking\n",
    "\n",
    "On master:\n",
    "* API server\n",
    "* Core services: scheduler and controller manager\n",
    "* `etcd`: highly available key-value database"
   ]
  },
  {
   "cell_type": "markdown",
   "metadata": {
    "hidden": true
   },
   "source": [
    "Master coordinates creation of resources, e.g.:\n",
    "* Nodes: physical/virtual machine in our cluster\n",
    "* Pods: group of containers running on a node\n",
    "* Services: network endpoint to connect to one or multiple containers\n",
    "\n",
    "![resources](img/pod.png)\n",
    "\n",
    "IP addresses get assigned to pods"
   ]
  },
  {
   "cell_type": "markdown",
   "metadata": {
    "heading_collapsed": true,
    "hidden": true
   },
   "source": [
    "## Kubectl, essential commands"
   ]
  },
  {
   "cell_type": "markdown",
   "metadata": {
    "hidden": true
   },
   "source": [
    "`kubectl` is our way to interact with the API server on the master node.\n",
    "It allows use to create and manage resources in a simple way."
   ]
  },
  {
   "cell_type": "code",
   "execution_count": null,
   "metadata": {
    "hidden": true
   },
   "outputs": [],
   "source": [
    "!kubectl version"
   ]
  },
  {
   "cell_type": "markdown",
   "metadata": {
    "hidden": true
   },
   "source": [
    "The workshop at this point explains concepts such as deployments, replicaset and pods.\n",
    "I diverge and focus on the workflow I as a developer use with K8S.\n",
    "\n",
    "As a first suggestions, we should install something that shows us our current context.\n",
    "I use a zsh plugin called `kubecontext`, which I enable and disable through my `.zshrc` file."
   ]
  },
  {
   "cell_type": "code",
   "execution_count": null,
   "metadata": {
    "hidden": true
   },
   "outputs": [],
   "source": [
    "!code ~/.zshrc"
   ]
  },
  {
   "cell_type": "markdown",
   "metadata": {
    "hidden": true
   },
   "source": [
    "A **context** is a triplet defined by:\n",
    "1. Cluster\n",
    "2. Namespace\n",
    "3. User\n",
    "\n",
    "When we have configured them, we can see available contexts with:"
   ]
  },
  {
   "cell_type": "code",
   "execution_count": null,
   "metadata": {
    "hidden": true
   },
   "outputs": [],
   "source": [
    "!kubectx"
   ]
  },
  {
   "cell_type": "markdown",
   "metadata": {
    "hidden": true
   },
   "source": [
    "We can set our current context with:"
   ]
  },
  {
   "cell_type": "code",
   "execution_count": null,
   "metadata": {
    "hidden": true
   },
   "outputs": [],
   "source": [
    "!kubectx digital-platform-batch-prod-west"
   ]
  },
  {
   "cell_type": "markdown",
   "metadata": {
    "hidden": true
   },
   "source": [
    "A cluster is a group of nodes.\n",
    "\n",
    "Namespaces are groups of resources. We can list namespaces **available in the current context** with:"
   ]
  },
  {
   "cell_type": "code",
   "execution_count": null,
   "metadata": {
    "hidden": true
   },
   "outputs": [],
   "source": [
    "!kubectl get namespaces "
   ]
  },
  {
   "cell_type": "markdown",
   "metadata": {
    "hidden": true
   },
   "source": [
    "Or simply:\n"
   ]
  },
  {
   "cell_type": "code",
   "execution_count": null,
   "metadata": {
    "hidden": true
   },
   "outputs": [],
   "source": [
    "!kubens"
   ]
  },
  {
   "cell_type": "markdown",
   "metadata": {
    "hidden": true
   },
   "source": [
    "You can set your current namespace with:"
   ]
  },
  {
   "cell_type": "code",
   "execution_count": null,
   "metadata": {
    "hidden": true
   },
   "outputs": [],
   "source": [
    "!kubens wondercast"
   ]
  },
  {
   "cell_type": "markdown",
   "metadata": {
    "hidden": true
   },
   "source": [
    "You can then list pods within your current context with:"
   ]
  },
  {
   "cell_type": "code",
   "execution_count": null,
   "metadata": {
    "hidden": true,
    "scrolled": true
   },
   "outputs": [],
   "source": [
    "!kubectl get pods"
   ]
  },
  {
   "cell_type": "markdown",
   "metadata": {
    "hidden": true
   },
   "source": [
    "You can get the running pods by applying a selector:"
   ]
  },
  {
   "cell_type": "code",
   "execution_count": null,
   "metadata": {
    "hidden": true
   },
   "outputs": [],
   "source": [
    "!kubectl get pods --field-selector=status.phase=Running"
   ]
  },
  {
   "cell_type": "markdown",
   "metadata": {
    "hidden": true
   },
   "source": [
    "You can search for a string in the pod name with:"
   ]
  },
  {
   "cell_type": "code",
   "execution_count": null,
   "metadata": {
    "hidden": true,
    "scrolled": true
   },
   "outputs": [],
   "source": [
    "!kubectl get pods | grep r2l"
   ]
  },
  {
   "cell_type": "markdown",
   "metadata": {
    "hidden": true
   },
   "source": [
    "You can inspect logs associated with a certain pod with:"
   ]
  },
  {
   "cell_type": "code",
   "execution_count": null,
   "metadata": {
    "hidden": true
   },
   "outputs": [],
   "source": [
    "!kubectl logs r2l-forecast-total--trigger-1564489800-847xv"
   ]
  },
  {
   "cell_type": "markdown",
   "metadata": {
    "hidden": true
   },
   "source": [
    "To better read JSON logs we can use `jq`:"
   ]
  },
  {
   "cell_type": "code",
   "execution_count": null,
   "metadata": {
    "hidden": true
   },
   "outputs": [],
   "source": [
    "!kubectl logs r2l-forecast-total--trigger-1564489800-847xv | jq"
   ]
  },
  {
   "cell_type": "code",
   "execution_count": null,
   "metadata": {
    "hidden": true
   },
   "outputs": [],
   "source": []
  }
 ],
 "metadata": {
  "kernelspec": {
   "display_name": "Python 3",
   "language": "python",
   "name": "python3"
  },
  "language_info": {
   "codemirror_mode": {
    "name": "ipython",
    "version": 3
   },
   "file_extension": ".py",
   "mimetype": "text/x-python",
   "name": "python",
   "nbconvert_exporter": "python",
   "pygments_lexer": "ipython3",
   "version": "3.7.3"
  },
  "toc": {
   "base_numbering": 1,
   "nav_menu": {},
   "number_sections": true,
   "sideBar": true,
   "skip_h1_title": false,
   "title_cell": "Table of Contents",
   "title_sidebar": "Contents",
   "toc_cell": false,
   "toc_position": {},
   "toc_section_display": true,
   "toc_window_display": false
  }
 },
 "nbformat": 4,
 "nbformat_minor": 4
}
